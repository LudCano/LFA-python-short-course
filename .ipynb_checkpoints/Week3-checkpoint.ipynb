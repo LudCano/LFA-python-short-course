{
 "cells": [
  {
   "cell_type": "markdown",
   "id": "9dd7bcd3-2d6b-4f2a-be83-45f51a4cc6d1",
   "metadata": {},
   "source": [
    "# A Python short course on Atmospheric Data Analysis - Week 3\n",
    "\n",
    "This Python tutorial was written in June 2024 by Ludving Cano, Research Assistant at the [Laboratory for Atmospheric Physics](http://www.chacaltaya.edu.bo) - UMSA (lcano@chacaltaya.edu.bo). It shows how to handle time data and do basic plots on it.\n",
    "\n",
    "On **week 3** we will cover:\n",
    "\n",
    " - Datetime objects\n",
    "   - Formatting datetimes\n",
    " - Pandas functions for datetime\n",
    " - Simple time plots\n",
    " - Plotting multiple things together"
   ]
  },
  {
   "cell_type": "markdown",
   "id": "e8f6a7e2-f4d7-45f4-8e9b-4428dfffadd0",
   "metadata": {},
   "source": [
    "## 1. The `datetime` library\n",
    "Let's start with a library that's gonna be useful in general, the [datetime library](https://docs.python.org/3/library/datetime.html) consists on general functions and objects dedicated to handle...time?\n",
    "\n",
    "For example, when we declare a date, we have to put it in a string, so for the computer is a string like the others, it can't interpret its year, day, month, etc. "
   ]
  },
  {
   "cell_type": "code",
   "execution_count": 1,
   "id": "11c1db18-72c5-4f16-910d-62510ded6f9f",
   "metadata": {},
   "outputs": [
    {
     "data": {
      "text/plain": [
       "str"
      ]
     },
     "execution_count": 1,
     "metadata": {},
     "output_type": "execute_result"
    }
   ],
   "source": [
    "day0s = '2024/06/28'\n",
    "\n",
    "type(day0s) #its type is just an ordinary string"
   ]
  },
  {
   "cell_type": "markdown",
   "id": "d6c4fd08-0a19-453f-83f5-218ecbeabf99",
   "metadata": {},
   "source": [
    "If we want, for example, to add one day to this string, it's PAINFULLY hard, and it can bring some problems!\n",
    "\n",
    "Our saviour for today, the datetime library. Let's import it"
   ]
  },
  {
   "cell_type": "code",
   "execution_count": 2,
   "id": "1921c2c4-c328-4ef1-be98-1d05339b6330",
   "metadata": {},
   "outputs": [],
   "source": [
    "import datetime as dt     #it's very common to import it with the dt alias"
   ]
  },
  {
   "cell_type": "markdown",
   "id": "288acc75-7403-4cfc-bd47-c3f313874b5e",
   "metadata": {},
   "source": [
    "### 1.1. Creating a dt.datetime object\n",
    "We have three objects to work on:\n",
    " 1. `date` consisting only on information of the date (not knowing the exact time)\n",
    " 2. `time` consisting only on the time (not knowing the date)\n",
    " 3. `datetime` consisting on both, date and time information.\n",
    " \n",
    "We'll work mainly on the last one, but feel free to explore the other two using the [documentation](https://docs.python.org/3/library/datetime.html).\n",
    "\n",
    "Okay, let's create a datetime object, it's important that this is different from the library's name (datetime too), so to create the object we use `dt.datetime`.\n",
    "\n",
    "First let's take a look on what to add to create a datetime object, for this:"
   ]
  },
  {
   "cell_type": "code",
   "execution_count": 3,
   "id": "8fdabe2b-31c4-4316-87ff-9dc53cd1d727",
   "metadata": {},
   "outputs": [
    {
     "name": "stdout",
     "output_type": "stream",
     "text": [
      "Help on class datetime in module datetime:\n",
      "\n",
      "class datetime(date)\n",
      " |  datetime(year, month, day[, hour[, minute[, second[, microsecond[,tzinfo]]]]])\n",
      " |  \n",
      " |  The year, month and day arguments are required. tzinfo may be None, or an\n",
      " |  instance of a tzinfo subclass. The remaining arguments may be ints.\n",
      " |  \n",
      " |  Method resolution order:\n",
      " |      datetime\n",
      " |      date\n",
      " |      builtins.object\n",
      " |  \n",
      " |  Methods defined here:\n",
      " |  \n",
      " |  __add__(self, value, /)\n",
      " |      Return self+value.\n",
      " |  \n",
      " |  __eq__(self, value, /)\n",
      " |      Return self==value.\n",
      " |  \n",
      " |  __ge__(self, value, /)\n",
      " |      Return self>=value.\n",
      " |  \n",
      " |  __getattribute__(self, name, /)\n",
      " |      Return getattr(self, name).\n",
      " |  \n",
      " |  __gt__(self, value, /)\n",
      " |      Return self>value.\n",
      " |  \n",
      " |  __hash__(self, /)\n",
      " |      Return hash(self).\n",
      " |  \n",
      " |  __le__(self, value, /)\n",
      " |      Return self<=value.\n",
      " |  \n",
      " |  __lt__(self, value, /)\n",
      " |      Return self<value.\n",
      " |  \n",
      " |  __ne__(self, value, /)\n",
      " |      Return self!=value.\n",
      " |  \n",
      " |  __radd__(self, value, /)\n",
      " |      Return value+self.\n",
      " |  \n",
      " |  __reduce__(...)\n",
      " |      __reduce__() -> (cls, state)\n",
      " |  \n",
      " |  __reduce_ex__(...)\n",
      " |      __reduce_ex__(proto) -> (cls, state)\n",
      " |  \n",
      " |  __repr__(self, /)\n",
      " |      Return repr(self).\n",
      " |  \n",
      " |  __rsub__(self, value, /)\n",
      " |      Return value-self.\n",
      " |  \n",
      " |  __str__(self, /)\n",
      " |      Return str(self).\n",
      " |  \n",
      " |  __sub__(self, value, /)\n",
      " |      Return self-value.\n",
      " |  \n",
      " |  astimezone(...)\n",
      " |      tz -> convert to local time in new timezone tz\n",
      " |  \n",
      " |  ctime(...)\n",
      " |      Return ctime() style string.\n",
      " |  \n",
      " |  date(...)\n",
      " |      Return date object with same year, month and day.\n",
      " |  \n",
      " |  dst(...)\n",
      " |      Return self.tzinfo.dst(self).\n",
      " |  \n",
      " |  isoformat(...)\n",
      " |      [sep] -> string in ISO 8601 format, YYYY-MM-DDT[HH[:MM[:SS[.mmm[uuu]]]]][+HH:MM].\n",
      " |      sep is used to separate the year from the time, and defaults to 'T'.\n",
      " |      The optional argument timespec specifies the number of additional terms\n",
      " |      of the time to include. Valid options are 'auto', 'hours', 'minutes',\n",
      " |      'seconds', 'milliseconds' and 'microseconds'.\n",
      " |  \n",
      " |  replace(...)\n",
      " |      Return datetime with new specified fields.\n",
      " |  \n",
      " |  time(...)\n",
      " |      Return time object with same time but with tzinfo=None.\n",
      " |  \n",
      " |  timestamp(...)\n",
      " |      Return POSIX timestamp as float.\n",
      " |  \n",
      " |  timetuple(...)\n",
      " |      Return time tuple, compatible with time.localtime().\n",
      " |  \n",
      " |  timetz(...)\n",
      " |      Return time object with same time and tzinfo.\n",
      " |  \n",
      " |  tzname(...)\n",
      " |      Return self.tzinfo.tzname(self).\n",
      " |  \n",
      " |  utcoffset(...)\n",
      " |      Return self.tzinfo.utcoffset(self).\n",
      " |  \n",
      " |  utctimetuple(...)\n",
      " |      Return UTC time tuple, compatible with time.localtime().\n",
      " |  \n",
      " |  ----------------------------------------------------------------------\n",
      " |  Class methods defined here:\n",
      " |  \n",
      " |  combine(...) from builtins.type\n",
      " |      date, time -> datetime with same date and time fields\n",
      " |  \n",
      " |  fromisoformat(...) from builtins.type\n",
      " |      string -> datetime from datetime.isoformat() output\n",
      " |  \n",
      " |  fromtimestamp(...) from builtins.type\n",
      " |      timestamp[, tz] -> tz's local time from POSIX timestamp.\n",
      " |  \n",
      " |  now(tz=None) from builtins.type\n",
      " |      Returns new datetime object representing current time local to tz.\n",
      " |      \n",
      " |        tz\n",
      " |          Timezone object.\n",
      " |      \n",
      " |      If no tz is specified, uses local timezone.\n",
      " |  \n",
      " |  strptime(...) from builtins.type\n",
      " |      string, format -> new datetime parsed from a string (like time.strptime()).\n",
      " |  \n",
      " |  utcfromtimestamp(...) from builtins.type\n",
      " |      Construct a naive UTC datetime from a POSIX timestamp.\n",
      " |  \n",
      " |  utcnow(...) from builtins.type\n",
      " |      Return a new datetime representing UTC day and time.\n",
      " |  \n",
      " |  ----------------------------------------------------------------------\n",
      " |  Static methods defined here:\n",
      " |  \n",
      " |  __new__(*args, **kwargs) from builtins.type\n",
      " |      Create and return a new object.  See help(type) for accurate signature.\n",
      " |  \n",
      " |  ----------------------------------------------------------------------\n",
      " |  Data descriptors defined here:\n",
      " |  \n",
      " |  fold\n",
      " |  \n",
      " |  hour\n",
      " |  \n",
      " |  microsecond\n",
      " |  \n",
      " |  minute\n",
      " |  \n",
      " |  second\n",
      " |  \n",
      " |  tzinfo\n",
      " |  \n",
      " |  ----------------------------------------------------------------------\n",
      " |  Data and other attributes defined here:\n",
      " |  \n",
      " |  max = datetime.datetime(9999, 12, 31, 23, 59, 59, 999999)\n",
      " |  \n",
      " |  min = datetime.datetime(1, 1, 1, 0, 0)\n",
      " |  \n",
      " |  resolution = datetime.timedelta(microseconds=1)\n",
      " |  \n",
      " |  ----------------------------------------------------------------------\n",
      " |  Methods inherited from date:\n",
      " |  \n",
      " |  __format__(...)\n",
      " |      Formats self with strftime.\n",
      " |  \n",
      " |  isocalendar(...)\n",
      " |      Return a named tuple containing ISO year, week number, and weekday.\n",
      " |  \n",
      " |  isoweekday(...)\n",
      " |      Return the day of the week represented by the date.\n",
      " |      Monday == 1 ... Sunday == 7\n",
      " |  \n",
      " |  strftime(...)\n",
      " |      format -> strftime() style string.\n",
      " |  \n",
      " |  toordinal(...)\n",
      " |      Return proleptic Gregorian ordinal.  January 1 of year 1 is day 1.\n",
      " |  \n",
      " |  weekday(...)\n",
      " |      Return the day of the week represented by the date.\n",
      " |      Monday == 0 ... Sunday == 6\n",
      " |  \n",
      " |  ----------------------------------------------------------------------\n",
      " |  Class methods inherited from date:\n",
      " |  \n",
      " |  fromisocalendar(...) from builtins.type\n",
      " |      int, int, int -> Construct a date from the ISO year, week number and weekday.\n",
      " |      \n",
      " |      This is the inverse of the date.isocalendar() function\n",
      " |  \n",
      " |  fromordinal(...) from builtins.type\n",
      " |      int -> date corresponding to a proleptic Gregorian ordinal.\n",
      " |  \n",
      " |  today(...) from builtins.type\n",
      " |      Current date or datetime:  same as self.__class__.fromtimestamp(time.time()).\n",
      " |  \n",
      " |  ----------------------------------------------------------------------\n",
      " |  Data descriptors inherited from date:\n",
      " |  \n",
      " |  day\n",
      " |  \n",
      " |  month\n",
      " |  \n",
      " |  year\n",
      "\n"
     ]
    }
   ],
   "source": [
    "help(dt.datetime) #uncomment it to use"
   ]
  },
  {
   "cell_type": "markdown",
   "id": "604b4349-dacf-4acd-96ad-97e655ad83c8",
   "metadata": {},
   "source": [
    "The basic way to know what to add to create the object is passing the year, month, day, hour, minutes and seconds. Time information is optional, it'll assume it's 00:00.\n",
    "\n",
    "For the sake of the example we will set the date and time for the start of this class."
   ]
  },
  {
   "cell_type": "code",
   "execution_count": 5,
   "id": "76787b43",
   "metadata": {},
   "outputs": [
    {
     "data": {
      "text/plain": [
       "datetime.datetime(2024, 6, 28, 13, 30)"
      ]
     },
     "execution_count": 5,
     "metadata": {},
     "output_type": "execute_result"
    }
   ],
   "source": [
    "day0 = dt.datetime(year = 2024, month = 6, day = 28, hour = 13, minute = 30)\n",
    "day0"
   ]
  },
  {
   "cell_type": "code",
   "execution_count": 6,
   "id": "4aa329fc-8bfe-4328-a27c-026b74c18e82",
   "metadata": {},
   "outputs": [
    {
     "data": {
      "text/plain": [
       "datetime.datetime(2024, 6, 27, 13, 30)"
      ]
     },
     "execution_count": 6,
     "metadata": {},
     "output_type": "execute_result"
    }
   ],
   "source": [
    "day0 = dt.datetime(2024, 6, 27, 13, 30)\n",
    "day0"
   ]
  },
  {
   "cell_type": "markdown",
   "id": "85cdd999-3bab-402c-9d34-54a9131cef92",
   "metadata": {},
   "source": [
    "If we want to create a datetime object with the current date and time, we use:"
   ]
  },
  {
   "cell_type": "code",
   "execution_count": 8,
   "id": "aa4ef136-6031-4a74-8be5-ca91c0c3023f",
   "metadata": {},
   "outputs": [
    {
     "data": {
      "text/plain": [
       "datetime.datetime(2024, 6, 28, 13, 56, 23, 386888)"
      ]
     },
     "execution_count": 8,
     "metadata": {},
     "output_type": "execute_result"
    }
   ],
   "source": [
    "dt.datetime.now()"
   ]
  },
  {
   "cell_type": "markdown",
   "id": "b79de363-89e4-406f-bc4a-bcee15fab0bd",
   "metadata": {},
   "source": [
    "### 1.2. Getting information from an existent datetime object\n",
    "\n",
    "We can get any information by simply calling the attributes:"
   ]
  },
  {
   "cell_type": "code",
   "execution_count": 14,
   "id": "389570f2-cca0-42b6-bf9f-42514a512295",
   "metadata": {},
   "outputs": [
    {
     "data": {
      "text/plain": [
       "2024"
      ]
     },
     "execution_count": 14,
     "metadata": {},
     "output_type": "execute_result"
    }
   ],
   "source": [
    "day0.year\n",
    "# try to change it for: year, month, day, minute, second, etc."
   ]
  },
  {
   "cell_type": "markdown",
   "id": "07dfde4a-6b9f-4e31-9cdd-7322bc013f69",
   "metadata": {},
   "source": [
    "But also we can get a `time` and a `date` object."
   ]
  },
  {
   "cell_type": "code",
   "execution_count": 15,
   "id": "63d25f63-de0b-4190-a8d9-7087dd58f65b",
   "metadata": {},
   "outputs": [
    {
     "data": {
      "text/plain": [
       "datetime.date(2024, 6, 27)"
      ]
     },
     "execution_count": 15,
     "metadata": {},
     "output_type": "execute_result"
    }
   ],
   "source": [
    "day0.date()"
   ]
  },
  {
   "cell_type": "code",
   "execution_count": 16,
   "id": "17e13079-f60e-44a7-883e-17c1a60be24a",
   "metadata": {},
   "outputs": [
    {
     "data": {
      "text/plain": [
       "datetime.time(13, 30)"
      ]
     },
     "execution_count": 16,
     "metadata": {},
     "output_type": "execute_result"
    }
   ],
   "source": [
    "day0.time()"
   ]
  },
  {
   "cell_type": "code",
   "execution_count": 20,
   "id": "2e8bb395",
   "metadata": {},
   "outputs": [
    {
     "data": {
      "text/plain": [
       "datetime.time(13, 59, 51, 156583)"
      ]
     },
     "execution_count": 20,
     "metadata": {},
     "output_type": "execute_result"
    }
   ],
   "source": [
    "dt.datetime.now().time()"
   ]
  },
  {
   "cell_type": "markdown",
   "id": "d19bc5a7-193e-4bf4-841c-35352e28d564",
   "metadata": {},
   "source": [
    "### 1.3. Operations using datetime objects\n",
    "\n",
    "#### 1.3.1. Adding or substracting time\n",
    "\n",
    "What if we want to change the time to the end of the next class? Then we add time! (That's beautiful, it accounts even for leap years).\n",
    "\n",
    "For this we simply add an object called `dt.timedelta()` in which we put the change desired."
   ]
  },
  {
   "cell_type": "code",
   "execution_count": 23,
   "id": "2b60faa5-43d5-456a-a7ad-d5c304f6d51c",
   "metadata": {},
   "outputs": [
    {
     "data": {
      "text/plain": [
       "datetime.datetime(2024, 6, 20, 10, 30)"
      ]
     },
     "execution_count": 23,
     "metadata": {},
     "output_type": "execute_result"
    }
   ],
   "source": [
    "dayf = day0 - dt.timedelta(days = 7, hours = 3)\n",
    "dayf"
   ]
  },
  {
   "cell_type": "markdown",
   "id": "a45ceb5e-6055-43e8-925e-0d623b56f1b9",
   "metadata": {},
   "source": [
    "If you want to go back in time, you can substract the object timedelta OR pass negative arguments to `dt.timedelta()`.\n",
    "\n",
    "#### 1.3.1. Replacing parts of the object\n",
    "\n",
    "Oh no! I put the wrong month, what if we want to replace the month? We'll use `dt.replace()`."
   ]
  },
  {
   "cell_type": "code",
   "execution_count": 24,
   "id": "c6702db0-2f93-4c0a-80d6-dadf653dbfaf",
   "metadata": {},
   "outputs": [
    {
     "data": {
      "text/plain": [
       "datetime.datetime(2024, 8, 27, 13, 30)"
      ]
     },
     "execution_count": 24,
     "metadata": {},
     "output_type": "execute_result"
    }
   ],
   "source": [
    "daymod = day0.replace(month = 8)\n",
    "daymod"
   ]
  },
  {
   "cell_type": "markdown",
   "id": "c1f6319a-3ae0-4ee1-bdb9-9f67f73803ae",
   "metadata": {},
   "source": [
    "#### 1.3.2. Substracting datetime objects\n",
    "\n",
    "What if we want to know how many days have passed since something? For example, since Christmas? We can substract datetime objects and get a timedelta as result."
   ]
  },
  {
   "cell_type": "code",
   "execution_count": 25,
   "id": "8b766f3d-55b9-4757-ab2f-0d24ffdd0726",
   "metadata": {},
   "outputs": [
    {
     "data": {
      "text/plain": [
       "datetime.timedelta(days=186, seconds=50637, microseconds=621351)"
      ]
     },
     "execution_count": 25,
     "metadata": {},
     "output_type": "execute_result"
    }
   ],
   "source": [
    "last_xmas = dt.datetime(2023, 12, 25)\n",
    "today = dt.datetime.now()\n",
    "\n",
    "dif = today - last_xmas\n",
    "dif"
   ]
  },
  {
   "cell_type": "markdown",
   "id": "28d6be6e-01d8-4911-b45f-88744a9674a0",
   "metadata": {},
   "source": [
    "Take into account that the resulting timedelta only have the attributes `days`, `seconds` and `microseconds`. "
   ]
  },
  {
   "cell_type": "markdown",
   "id": "49faa512-5c70-4da2-bbb0-9597b67245b5",
   "metadata": {},
   "source": [
    "<b><font color=\"green\" size=5>Exercise 1: Your real age</font></b>\n",
    "\n",
    "Create necessary datetimes and answer the following questions\n",
    "1. How long has passed since your last birthday?\n",
    "2. Calculate in how much will pass for your next bday\n"
   ]
  },
  {
   "cell_type": "code",
   "execution_count": null,
   "id": "d812c1c3-f2d1-4fd5-bd7d-4cdc70ea5239",
   "metadata": {},
   "outputs": [],
   "source": []
  },
  {
   "cell_type": "markdown",
   "id": "833e6f1f-ec29-4dd1-abd1-bd1f103b2165",
   "metadata": {},
   "source": [
    "#### 1.3.3. Comparing dates\n",
    "\n",
    "Just for info, we can compare two datetime objects and get to know if one happened before or after the other one. Using < and >:"
   ]
  },
  {
   "cell_type": "code",
   "execution_count": 27,
   "id": "7295fe14-66e3-4f23-ba84-fb0627904d2b",
   "metadata": {},
   "outputs": [
    {
     "data": {
      "text/plain": [
       "False"
      ]
     },
     "execution_count": 27,
     "metadata": {},
     "output_type": "execute_result"
    }
   ],
   "source": [
    "day0 < dayf"
   ]
  },
  {
   "cell_type": "markdown",
   "id": "ce107c01-d7ef-4222-b457-fdd4e3a0077b",
   "metadata": {},
   "source": [
    "#### 1.3.4. Sorting a list of datetimes\n",
    "When we can apply operators < or > to objects, we can sort a list that is made of them, for example I can compile some of the datetime objects we created before into a list and show it.\n"
   ]
  },
  {
   "cell_type": "code",
   "execution_count": 28,
   "id": "f11c88ab-dd02-4827-8667-b300b1c6cfd8",
   "metadata": {},
   "outputs": [
    {
     "data": {
      "text/plain": [
       "[datetime.datetime(2024, 8, 27, 13, 30),\n",
       " datetime.datetime(2024, 6, 27, 13, 30),\n",
       " datetime.datetime(2024, 6, 20, 10, 30),\n",
       " datetime.datetime(2024, 6, 28, 14, 3, 57, 621351)]"
      ]
     },
     "execution_count": 28,
     "metadata": {},
     "output_type": "execute_result"
    }
   ],
   "source": [
    "lst_datetimes = [daymod, day0, dayf, today]\n",
    "lst_datetimes"
   ]
  },
  {
   "cell_type": "markdown",
   "id": "fbfba7a3-c93b-4600-ba1f-075b29ded985",
   "metadata": {},
   "source": [
    "To sort it, we just do:\n"
   ]
  },
  {
   "cell_type": "code",
   "execution_count": 31,
   "id": "5cd88ad6-cd0a-43ed-96a8-6fb36fd5955f",
   "metadata": {},
   "outputs": [
    {
     "data": {
      "text/plain": [
       "[datetime.datetime(2024, 8, 27, 13, 30),\n",
       " datetime.datetime(2024, 6, 28, 14, 3, 57, 621351),\n",
       " datetime.datetime(2024, 6, 27, 13, 30),\n",
       " datetime.datetime(2024, 6, 20, 10, 30)]"
      ]
     },
     "execution_count": 31,
     "metadata": {},
     "output_type": "execute_result"
    }
   ],
   "source": [
    "sorted(lst_datetimes)[::-1]"
   ]
  },
  {
   "cell_type": "markdown",
   "id": "18eb270f-3077-47e9-a94b-5425c6a5f771",
   "metadata": {
    "tags": []
   },
   "source": [
    "## 1.4. Formatting datetimes\n",
    "### 1.4.1. String to datetime\n",
    "Remember our first example? `day0s`"
   ]
  },
  {
   "cell_type": "code",
   "execution_count": 32,
   "id": "8b1c806e-120f-4960-bb96-cc9de86f5ea5",
   "metadata": {},
   "outputs": [
    {
     "data": {
      "text/plain": [
       "'2024/06/28'"
      ]
     },
     "execution_count": 32,
     "metadata": {},
     "output_type": "execute_result"
    }
   ],
   "source": [
    "day0s"
   ]
  },
  {
   "cell_type": "markdown",
   "id": "a577408a-6dd5-4829-b596-3944bfcabe24",
   "metadata": {},
   "source": [
    "How can we convert that string to a datetime? For this the library has the `strptime()` function, which takes an arbitrary string and a format, with that the function parses the string and returns the desired object.\n",
    "\n",
    "For example, our day0s string has the format year/month/day. According to the [datetime formats in documentation](https://docs.python.org/3/library/datetime.html#format-codes) the format can be written as `%Y/%m/%d`. So we add this to the function:"
   ]
  },
  {
   "cell_type": "code",
   "execution_count": 41,
   "id": "badda3d4-b04a-4a32-9db8-7a1804005172",
   "metadata": {},
   "outputs": [
    {
     "data": {
      "text/plain": [
       "datetime.datetime(2025, 11, 29, 0, 0)"
      ]
     },
     "execution_count": 41,
     "metadata": {},
     "output_type": "execute_result"
    }
   ],
   "source": [
    "day0f = dt.datetime.strptime('2025/11/29', '%Y/%m/%d')\n",
    "day0f"
   ]
  },
  {
   "cell_type": "markdown",
   "id": "e307d886-f512-4802-be08-e31c66c9e718",
   "metadata": {},
   "source": [
    "<b><font color=\"green\" size=4]>Exercise 2: Format a date</font></b>\n",
    "\n",
    "Convert the following string to a datetime object."
   ]
  },
  {
   "cell_type": "code",
   "execution_count": null,
   "id": "e0691380-abcc-42dd-a729-801c2eaa85d0",
   "metadata": {},
   "outputs": [],
   "source": [
    "test_str = '10-13-2024 10:00'"
   ]
  },
  {
   "cell_type": "code",
   "execution_count": null,
   "id": "1a2f09a4-081b-4a78-af55-ea700784ebf3",
   "metadata": {},
   "outputs": [],
   "source": []
  },
  {
   "cell_type": "markdown",
   "id": "f5b43e10-b589-4984-8556-20dc109971ce",
   "metadata": {
    "tags": []
   },
   "source": [
    "### 1.4.2. Datetime to string\n",
    "Well, sometimes we want to print a datetime with a certain format, it may be for writing in a simple way in a file, display it on screen or any other use.\n",
    "\n",
    "For this we pass a datetime object and the desired output format into the `dt.datetime.strftime()` function.\n",
    "For example I can print the `.now()` datetime in the format of the exercise 2:"
   ]
  },
  {
   "cell_type": "code",
   "execution_count": 46,
   "id": "02b77c0c-268b-4edb-8460-2429a31b8558",
   "metadata": {},
   "outputs": [
    {
     "data": {
      "text/plain": [
       "'June28, Fri at 14:30'"
      ]
     },
     "execution_count": 46,
     "metadata": {},
     "output_type": "execute_result"
    }
   ],
   "source": [
    "dt.datetime.strftime(dt.datetime.now(), '%B%d, %a at %H:%M')"
   ]
  },
  {
   "cell_type": "markdown",
   "id": "6e4b1054-0e15-4d23-bad8-d51ce8bff887",
   "metadata": {},
   "source": [
    "## 2. Pandas functions for datetime\n",
    "\n",
    "### 2.1. Columns of datetime\n",
    "\n",
    "On the last session we observed that pandas doesn't infer automatically all the data, so, for example we can see that a column that clearly has dates is interpreted as object.\n",
    "\n",
    "We will use the IUV file from the last week: `data_samples/IUV_18_06.csv`"
   ]
  },
  {
   "cell_type": "code",
   "execution_count": 47,
   "id": "72131272-b955-444b-91bf-075ac4950f39",
   "metadata": {},
   "outputs": [],
   "source": [
    "# let's not forget to import pandas!\n",
    "import pandas as pd"
   ]
  },
  {
   "cell_type": "code",
   "execution_count": 52,
   "id": "fe875992-5278-4a34-ab3d-65e131ff3fd4",
   "metadata": {},
   "outputs": [
    {
     "data": {
      "text/plain": [
       "TIME     object\n",
       "IUV     float64\n",
       "dtype: object"
      ]
     },
     "execution_count": 52,
     "metadata": {},
     "output_type": "execute_result"
    }
   ],
   "source": [
    "df1 = pd.read_csv('data_samples/IUV_18_06.csv')\n",
    "df1.dtypes"
   ]
  },
  {
   "cell_type": "code",
   "execution_count": 53,
   "id": "8c6f6bdd-af89-4e81-b265-7d2524dfd8e9",
   "metadata": {},
   "outputs": [
    {
     "data": {
      "text/plain": [
       "str"
      ]
     },
     "execution_count": 53,
     "metadata": {},
     "output_type": "execute_result"
    }
   ],
   "source": [
    "type(df1.TIME[0])"
   ]
  },
  {
   "cell_type": "markdown",
   "id": "408332ee-7b16-4438-a29b-f3099fa50e54",
   "metadata": {},
   "source": [
    "To convert the TIME column to a datetime-like column, we use the `pd.to_datetime()` function, and passing the desired column as parameter. **NOTE: It will do its best to infer which format we are using, but sometimes you can pass the exact format just in case.**"
   ]
  },
  {
   "cell_type": "code",
   "execution_count": 54,
   "id": "0e396bd8-269d-4de5-858d-5d659b3d271b",
   "metadata": {},
   "outputs": [
    {
     "data": {
      "text/plain": [
       "0     2024-06-18 06:00:00\n",
       "1     2024-06-18 06:01:00\n",
       "2     2024-06-18 06:02:00\n",
       "3     2024-06-18 06:03:00\n",
       "4     2024-06-18 06:04:00\n",
       "              ...        \n",
       "712   2024-06-18 17:55:00\n",
       "713   2024-06-18 17:56:00\n",
       "714   2024-06-18 17:57:00\n",
       "715   2024-06-18 17:58:00\n",
       "716   2024-06-18 17:59:00\n",
       "Name: TIME, Length: 717, dtype: datetime64[ns]"
      ]
     },
     "execution_count": 54,
     "metadata": {},
     "output_type": "execute_result"
    }
   ],
   "source": [
    "pd.to_datetime(df1.TIME)"
   ]
  },
  {
   "cell_type": "markdown",
   "id": "f77409c4-2f5f-45ae-abe1-076c334d2967",
   "metadata": {},
   "source": [
    "To replace the column in our original dataframe, we can replace it as we did before:\n"
   ]
  },
  {
   "cell_type": "code",
   "execution_count": 55,
   "id": "fc48cb2f",
   "metadata": {},
   "outputs": [],
   "source": [
    "df1.columns = ['TIME0', 'IUV']"
   ]
  },
  {
   "cell_type": "code",
   "execution_count": 56,
   "id": "a0979945-08f6-405c-ac02-a8c7368fc9c0",
   "metadata": {},
   "outputs": [
    {
     "data": {
      "text/plain": [
       "TIME0            object\n",
       "IUV             float64\n",
       "TIME     datetime64[ns]\n",
       "dtype: object"
      ]
     },
     "execution_count": 56,
     "metadata": {},
     "output_type": "execute_result"
    }
   ],
   "source": [
    "df1['TIME'] = pd.to_datetime(df1.TIME0)\n",
    "df1.dtypes"
   ]
  },
  {
   "cell_type": "markdown",
   "id": "9946fb1b-c1cd-422c-8bfd-f323eeadd85e",
   "metadata": {},
   "source": [
    "### 2.2. Some functions of a datetimelike column\n",
    "Sometimes we would need to get something related to a datetime object, like getting the hour, as we are having a series, we would need to get the value for each row, this can be done (manually) like:"
   ]
  },
  {
   "cell_type": "code",
   "execution_count": 57,
   "id": "6bea14f0-b8e1-48b8-b833-c7401c0604af",
   "metadata": {},
   "outputs": [
    {
     "data": {
      "text/plain": [
       "0       6\n",
       "1       6\n",
       "2       6\n",
       "3       6\n",
       "4       6\n",
       "       ..\n",
       "712    17\n",
       "713    17\n",
       "714    17\n",
       "715    17\n",
       "716    17\n",
       "Length: 717, dtype: int64"
      ]
     },
     "execution_count": 57,
     "metadata": {},
     "output_type": "execute_result"
    }
   ],
   "source": [
    "### NOT RECOMMENDED\n",
    "pd.Series([i.hour for i in df1.TIME])"
   ]
  },
  {
   "cell_type": "markdown",
   "id": "e0551011-75ea-42ae-b953-8d8ca883cf3c",
   "metadata": {},
   "source": [
    "But it can be easier using the `Series.dt` functions, that allow us to get data for the column itself."
   ]
  },
  {
   "cell_type": "code",
   "execution_count": 58,
   "id": "c02aafdb-a877-4164-8608-0fe2081cfb1d",
   "metadata": {},
   "outputs": [
    {
     "data": {
      "text/plain": [
       "0       6\n",
       "1       6\n",
       "2       6\n",
       "3       6\n",
       "4       6\n",
       "       ..\n",
       "712    17\n",
       "713    17\n",
       "714    17\n",
       "715    17\n",
       "716    17\n",
       "Name: TIME, Length: 717, dtype: int64"
      ]
     },
     "execution_count": 58,
     "metadata": {},
     "output_type": "execute_result"
    }
   ],
   "source": [
    "## this is the recommended way!\n",
    "df1.TIME.dt.hour"
   ]
  },
  {
   "cell_type": "markdown",
   "id": "d60495a5-e212-4064-a05d-f1080f82bb68",
   "metadata": {},
   "source": [
    "### 2.3. An example for different columns\n",
    "Let's use for example the DECADE file we worked last week, it has a column for year, month and day, so to get a column datetime we will do the following:"
   ]
  },
  {
   "cell_type": "code",
   "execution_count": 61,
   "id": "5d358324-cf8a-4bef-b321-30799e900c80",
   "metadata": {},
   "outputs": [
    {
     "data": {
      "text/html": [
       "<div>\n",
       "<style scoped>\n",
       "    .dataframe tbody tr th:only-of-type {\n",
       "        vertical-align: middle;\n",
       "    }\n",
       "\n",
       "    .dataframe tbody tr th {\n",
       "        vertical-align: top;\n",
       "    }\n",
       "\n",
       "    .dataframe thead th {\n",
       "        text-align: right;\n",
       "    }\n",
       "</style>\n",
       "<table border=\"1\" class=\"dataframe\">\n",
       "  <thead>\n",
       "    <tr style=\"text-align: right;\">\n",
       "      <th></th>\n",
       "      <th>year</th>\n",
       "      <th>month</th>\n",
       "      <th>day</th>\n",
       "      <th>prcp</th>\n",
       "    </tr>\n",
       "  </thead>\n",
       "  <tbody>\n",
       "    <tr>\n",
       "      <th>0</th>\n",
       "      <td>1979</td>\n",
       "      <td>1</td>\n",
       "      <td>1</td>\n",
       "      <td>4.2</td>\n",
       "    </tr>\n",
       "    <tr>\n",
       "      <th>1</th>\n",
       "      <td>1979</td>\n",
       "      <td>1</td>\n",
       "      <td>2</td>\n",
       "      <td>2.2</td>\n",
       "    </tr>\n",
       "    <tr>\n",
       "      <th>2</th>\n",
       "      <td>1979</td>\n",
       "      <td>1</td>\n",
       "      <td>3</td>\n",
       "      <td>2.1</td>\n",
       "    </tr>\n",
       "    <tr>\n",
       "      <th>3</th>\n",
       "      <td>1979</td>\n",
       "      <td>1</td>\n",
       "      <td>4</td>\n",
       "      <td>7.6</td>\n",
       "    </tr>\n",
       "    <tr>\n",
       "      <th>4</th>\n",
       "      <td>1979</td>\n",
       "      <td>1</td>\n",
       "      <td>5</td>\n",
       "      <td>13.6</td>\n",
       "    </tr>\n",
       "    <tr>\n",
       "      <th>...</th>\n",
       "      <td>...</td>\n",
       "      <td>...</td>\n",
       "      <td>...</td>\n",
       "      <td>...</td>\n",
       "    </tr>\n",
       "    <tr>\n",
       "      <th>13509</th>\n",
       "      <td>2015</td>\n",
       "      <td>12</td>\n",
       "      <td>27</td>\n",
       "      <td>1.8</td>\n",
       "    </tr>\n",
       "    <tr>\n",
       "      <th>13510</th>\n",
       "      <td>2015</td>\n",
       "      <td>12</td>\n",
       "      <td>28</td>\n",
       "      <td>0.0</td>\n",
       "    </tr>\n",
       "    <tr>\n",
       "      <th>13511</th>\n",
       "      <td>2015</td>\n",
       "      <td>12</td>\n",
       "      <td>29</td>\n",
       "      <td>5.2</td>\n",
       "    </tr>\n",
       "    <tr>\n",
       "      <th>13512</th>\n",
       "      <td>2015</td>\n",
       "      <td>12</td>\n",
       "      <td>30</td>\n",
       "      <td>0.0</td>\n",
       "    </tr>\n",
       "    <tr>\n",
       "      <th>13513</th>\n",
       "      <td>2015</td>\n",
       "      <td>12</td>\n",
       "      <td>31</td>\n",
       "      <td>1.2</td>\n",
       "    </tr>\n",
       "  </tbody>\n",
       "</table>\n",
       "<p>13514 rows × 4 columns</p>\n",
       "</div>"
      ],
      "text/plain": [
       "       year  month  day  prcp\n",
       "0      1979      1    1   4.2\n",
       "1      1979      1    2   2.2\n",
       "2      1979      1    3   2.1\n",
       "3      1979      1    4   7.6\n",
       "4      1979      1    5  13.6\n",
       "...     ...    ...  ...   ...\n",
       "13509  2015     12   27   1.8\n",
       "13510  2015     12   28   0.0\n",
       "13511  2015     12   29   5.2\n",
       "13512  2015     12   30   0.0\n",
       "13513  2015     12   31   1.2\n",
       "\n",
       "[13514 rows x 4 columns]"
      ]
     },
     "execution_count": 61,
     "metadata": {},
     "output_type": "execute_result"
    }
   ],
   "source": [
    "## This example will be worked with the instructor, solutions below\n",
    "\n",
    "fname = 'data_samples/EL_ALTO_AEROPUERTO_simple.dat'\n",
    "\n",
    "df2 = pd.read_csv(fname, skiprows = 12, delim_whitespace = True)\n",
    "df2 = df2[['Year', 'Mo', 'Da', 'Param=1']]\n",
    "df2.columns = ['year', 'month', 'day', 'prcp']\n",
    "df2"
   ]
  },
  {
   "cell_type": "code",
   "execution_count": 64,
   "id": "73f6aa84",
   "metadata": {},
   "outputs": [
    {
     "data": {
      "text/html": [
       "<div>\n",
       "<style scoped>\n",
       "    .dataframe tbody tr th:only-of-type {\n",
       "        vertical-align: middle;\n",
       "    }\n",
       "\n",
       "    .dataframe tbody tr th {\n",
       "        vertical-align: top;\n",
       "    }\n",
       "\n",
       "    .dataframe thead th {\n",
       "        text-align: right;\n",
       "    }\n",
       "</style>\n",
       "<table border=\"1\" class=\"dataframe\">\n",
       "  <thead>\n",
       "    <tr style=\"text-align: right;\">\n",
       "      <th></th>\n",
       "      <th>year</th>\n",
       "      <th>month</th>\n",
       "      <th>day</th>\n",
       "      <th>prcp</th>\n",
       "      <th>datetime</th>\n",
       "    </tr>\n",
       "  </thead>\n",
       "  <tbody>\n",
       "    <tr>\n",
       "      <th>0</th>\n",
       "      <td>1979</td>\n",
       "      <td>1</td>\n",
       "      <td>1</td>\n",
       "      <td>4.2</td>\n",
       "      <td>1979-01-01</td>\n",
       "    </tr>\n",
       "    <tr>\n",
       "      <th>1</th>\n",
       "      <td>1979</td>\n",
       "      <td>1</td>\n",
       "      <td>2</td>\n",
       "      <td>2.2</td>\n",
       "      <td>1979-01-02</td>\n",
       "    </tr>\n",
       "    <tr>\n",
       "      <th>2</th>\n",
       "      <td>1979</td>\n",
       "      <td>1</td>\n",
       "      <td>3</td>\n",
       "      <td>2.1</td>\n",
       "      <td>1979-01-03</td>\n",
       "    </tr>\n",
       "    <tr>\n",
       "      <th>3</th>\n",
       "      <td>1979</td>\n",
       "      <td>1</td>\n",
       "      <td>4</td>\n",
       "      <td>7.6</td>\n",
       "      <td>1979-01-04</td>\n",
       "    </tr>\n",
       "    <tr>\n",
       "      <th>4</th>\n",
       "      <td>1979</td>\n",
       "      <td>1</td>\n",
       "      <td>5</td>\n",
       "      <td>13.6</td>\n",
       "      <td>1979-01-05</td>\n",
       "    </tr>\n",
       "    <tr>\n",
       "      <th>...</th>\n",
       "      <td>...</td>\n",
       "      <td>...</td>\n",
       "      <td>...</td>\n",
       "      <td>...</td>\n",
       "      <td>...</td>\n",
       "    </tr>\n",
       "    <tr>\n",
       "      <th>13509</th>\n",
       "      <td>2015</td>\n",
       "      <td>12</td>\n",
       "      <td>27</td>\n",
       "      <td>1.8</td>\n",
       "      <td>2015-12-27</td>\n",
       "    </tr>\n",
       "    <tr>\n",
       "      <th>13510</th>\n",
       "      <td>2015</td>\n",
       "      <td>12</td>\n",
       "      <td>28</td>\n",
       "      <td>0.0</td>\n",
       "      <td>2015-12-28</td>\n",
       "    </tr>\n",
       "    <tr>\n",
       "      <th>13511</th>\n",
       "      <td>2015</td>\n",
       "      <td>12</td>\n",
       "      <td>29</td>\n",
       "      <td>5.2</td>\n",
       "      <td>2015-12-29</td>\n",
       "    </tr>\n",
       "    <tr>\n",
       "      <th>13512</th>\n",
       "      <td>2015</td>\n",
       "      <td>12</td>\n",
       "      <td>30</td>\n",
       "      <td>0.0</td>\n",
       "      <td>2015-12-30</td>\n",
       "    </tr>\n",
       "    <tr>\n",
       "      <th>13513</th>\n",
       "      <td>2015</td>\n",
       "      <td>12</td>\n",
       "      <td>31</td>\n",
       "      <td>1.2</td>\n",
       "      <td>2015-12-31</td>\n",
       "    </tr>\n",
       "  </tbody>\n",
       "</table>\n",
       "<p>13514 rows × 5 columns</p>\n",
       "</div>"
      ],
      "text/plain": [
       "       year  month  day  prcp   datetime\n",
       "0      1979      1    1   4.2 1979-01-01\n",
       "1      1979      1    2   2.2 1979-01-02\n",
       "2      1979      1    3   2.1 1979-01-03\n",
       "3      1979      1    4   7.6 1979-01-04\n",
       "4      1979      1    5  13.6 1979-01-05\n",
       "...     ...    ...  ...   ...        ...\n",
       "13509  2015     12   27   1.8 2015-12-27\n",
       "13510  2015     12   28   0.0 2015-12-28\n",
       "13511  2015     12   29   5.2 2015-12-29\n",
       "13512  2015     12   30   0.0 2015-12-30\n",
       "13513  2015     12   31   1.2 2015-12-31\n",
       "\n",
       "[13514 rows x 5 columns]"
      ]
     },
     "execution_count": 64,
     "metadata": {},
     "output_type": "execute_result"
    }
   ],
   "source": [
    "df2['datetime'] = pd.to_datetime(df2[['year', 'month', 'day']])\n",
    "df2"
   ]
  },
  {
   "cell_type": "code",
   "execution_count": 67,
   "id": "7e421dea",
   "metadata": {},
   "outputs": [
    {
     "data": {
      "text/html": [
       "<div>\n",
       "<style scoped>\n",
       "    .dataframe tbody tr th:only-of-type {\n",
       "        vertical-align: middle;\n",
       "    }\n",
       "\n",
       "    .dataframe tbody tr th {\n",
       "        vertical-align: top;\n",
       "    }\n",
       "\n",
       "    .dataframe thead th {\n",
       "        text-align: right;\n",
       "    }\n",
       "</style>\n",
       "<table border=\"1\" class=\"dataframe\">\n",
       "  <thead>\n",
       "    <tr style=\"text-align: right;\">\n",
       "      <th></th>\n",
       "      <th>year</th>\n",
       "      <th>month</th>\n",
       "      <th>day</th>\n",
       "      <th>prcp</th>\n",
       "      <th>datetime</th>\n",
       "    </tr>\n",
       "  </thead>\n",
       "  <tbody>\n",
       "    <tr>\n",
       "      <th>7305</th>\n",
       "      <td>1999</td>\n",
       "      <td>1</td>\n",
       "      <td>1</td>\n",
       "      <td>8.7</td>\n",
       "      <td>1999-01-01</td>\n",
       "    </tr>\n",
       "    <tr>\n",
       "      <th>7306</th>\n",
       "      <td>1999</td>\n",
       "      <td>1</td>\n",
       "      <td>2</td>\n",
       "      <td>2.5</td>\n",
       "      <td>1999-01-02</td>\n",
       "    </tr>\n",
       "    <tr>\n",
       "      <th>7307</th>\n",
       "      <td>1999</td>\n",
       "      <td>1</td>\n",
       "      <td>3</td>\n",
       "      <td>9.1</td>\n",
       "      <td>1999-01-03</td>\n",
       "    </tr>\n",
       "    <tr>\n",
       "      <th>7308</th>\n",
       "      <td>1999</td>\n",
       "      <td>1</td>\n",
       "      <td>4</td>\n",
       "      <td>0.0</td>\n",
       "      <td>1999-01-04</td>\n",
       "    </tr>\n",
       "    <tr>\n",
       "      <th>7309</th>\n",
       "      <td>1999</td>\n",
       "      <td>1</td>\n",
       "      <td>5</td>\n",
       "      <td>1.4</td>\n",
       "      <td>1999-01-05</td>\n",
       "    </tr>\n",
       "    <tr>\n",
       "      <th>...</th>\n",
       "      <td>...</td>\n",
       "      <td>...</td>\n",
       "      <td>...</td>\n",
       "      <td>...</td>\n",
       "      <td>...</td>\n",
       "    </tr>\n",
       "    <tr>\n",
       "      <th>7665</th>\n",
       "      <td>1999</td>\n",
       "      <td>12</td>\n",
       "      <td>27</td>\n",
       "      <td>0.0</td>\n",
       "      <td>1999-12-27</td>\n",
       "    </tr>\n",
       "    <tr>\n",
       "      <th>7666</th>\n",
       "      <td>1999</td>\n",
       "      <td>12</td>\n",
       "      <td>28</td>\n",
       "      <td>4.8</td>\n",
       "      <td>1999-12-28</td>\n",
       "    </tr>\n",
       "    <tr>\n",
       "      <th>7667</th>\n",
       "      <td>1999</td>\n",
       "      <td>12</td>\n",
       "      <td>29</td>\n",
       "      <td>24.8</td>\n",
       "      <td>1999-12-29</td>\n",
       "    </tr>\n",
       "    <tr>\n",
       "      <th>7668</th>\n",
       "      <td>1999</td>\n",
       "      <td>12</td>\n",
       "      <td>30</td>\n",
       "      <td>4.7</td>\n",
       "      <td>1999-12-30</td>\n",
       "    </tr>\n",
       "    <tr>\n",
       "      <th>7669</th>\n",
       "      <td>1999</td>\n",
       "      <td>12</td>\n",
       "      <td>31</td>\n",
       "      <td>0.0</td>\n",
       "      <td>1999-12-31</td>\n",
       "    </tr>\n",
       "  </tbody>\n",
       "</table>\n",
       "<p>365 rows × 5 columns</p>\n",
       "</div>"
      ],
      "text/plain": [
       "      year  month  day  prcp   datetime\n",
       "7305  1999      1    1   8.7 1999-01-01\n",
       "7306  1999      1    2   2.5 1999-01-02\n",
       "7307  1999      1    3   9.1 1999-01-03\n",
       "7308  1999      1    4   0.0 1999-01-04\n",
       "7309  1999      1    5   1.4 1999-01-05\n",
       "...    ...    ...  ...   ...        ...\n",
       "7665  1999     12   27   0.0 1999-12-27\n",
       "7666  1999     12   28   4.8 1999-12-28\n",
       "7667  1999     12   29  24.8 1999-12-29\n",
       "7668  1999     12   30   4.7 1999-12-30\n",
       "7669  1999     12   31   0.0 1999-12-31\n",
       "\n",
       "[365 rows x 5 columns]"
      ]
     },
     "execution_count": 67,
     "metadata": {},
     "output_type": "execute_result"
    }
   ],
   "source": [
    "df3 = df2[df2.year == 1999]\n",
    "df3"
   ]
  },
  {
   "cell_type": "markdown",
   "id": "f429b09d-13d7-47db-be9b-9c912048cbd6",
   "metadata": {},
   "source": [
    "<details><summary><b><font color=\"black\">If the instructor is not available click here</font></b></summary>\n",
    "\n",
    "```\n",
    "df_dec = pd.read_csv('data_samples/EL_ALTO_AEROPUERTO_simple.dat',\n",
    "                delim_whitespace=True, skiprows = 12)\n",
    "df_dec = df_dec[['Year','Mo','Da','Param=1']]\n",
    "df_dec.columns = ['Year','Month', 'Day', 'PRCP']\n",
    "df_dec['datetime'] = pd.to_datetime(df_dec[['Year','Month','Day']])\n",
    "```\n"
   ]
  },
  {
   "cell_type": "markdown",
   "id": "f49fb616-d135-4730-8631-6faac48b75ad",
   "metadata": {},
   "source": [
    "## (Little parenthesis): Reading a Davis AWS file\n",
    "The Davis Automatic Weather Station was located at an experimental site last year, this file is a bit complicated, as the header consist of two rows of headers!\n",
    "\n",
    "The file is located at `data_samples/FabricaForno_Davis_WS.txt`."
   ]
  },
  {
   "cell_type": "code",
   "execution_count": 70,
   "id": "a2760659-f4a6-4853-96c4-42758706bd08",
   "metadata": {},
   "outputs": [
    {
     "data": {
      "text/html": [
       "<div>\n",
       "<style scoped>\n",
       "    .dataframe tbody tr th:only-of-type {\n",
       "        vertical-align: middle;\n",
       "    }\n",
       "\n",
       "    .dataframe tbody tr th {\n",
       "        vertical-align: top;\n",
       "    }\n",
       "\n",
       "    .dataframe thead th {\n",
       "        text-align: right;\n",
       "    }\n",
       "</style>\n",
       "<table border=\"1\" class=\"dataframe\">\n",
       "  <thead>\n",
       "    <tr style=\"text-align: right;\">\n",
       "      <th></th>\n",
       "      <th>Date</th>\n",
       "      <th>Time</th>\n",
       "      <th>Temp Out</th>\n",
       "      <th>Hi Temp</th>\n",
       "      <th>Low Temp</th>\n",
       "      <th>Out Hum</th>\n",
       "      <th>Dew Pt.</th>\n",
       "      <th>Wind Speed</th>\n",
       "      <th>Wind Dir</th>\n",
       "      <th>Wind Run</th>\n",
       "      <th>...</th>\n",
       "      <th>In  Temp</th>\n",
       "      <th>In Hum</th>\n",
       "      <th>In  Dew</th>\n",
       "      <th>In  Heat</th>\n",
       "      <th>In  EMC</th>\n",
       "      <th>In Air Density</th>\n",
       "      <th>Wind Samp</th>\n",
       "      <th>Wind Tx</th>\n",
       "      <th>ISS  Recept</th>\n",
       "      <th>Arc.\\n Int.</th>\n",
       "    </tr>\n",
       "  </thead>\n",
       "  <tbody>\n",
       "    <tr>\n",
       "      <th>0</th>\n",
       "      <td>25/07/23</td>\n",
       "      <td>0:05</td>\n",
       "      <td>4.4</td>\n",
       "      <td>4.6</td>\n",
       "      <td>4.4</td>\n",
       "      <td>15</td>\n",
       "      <td>-20.0</td>\n",
       "      <td>2.2</td>\n",
       "      <td>NW</td>\n",
       "      <td>0.67</td>\n",
       "      <td>...</td>\n",
       "      <td>19.9</td>\n",
       "      <td>20</td>\n",
       "      <td>-3.7</td>\n",
       "      <td>17.2</td>\n",
       "      <td>4.55</td>\n",
       "      <td>0.7880</td>\n",
       "      <td>90</td>\n",
       "      <td>4</td>\n",
       "      <td>85.7</td>\n",
       "      <td>5</td>\n",
       "    </tr>\n",
       "    <tr>\n",
       "      <th>1</th>\n",
       "      <td>25/07/23</td>\n",
       "      <td>0:10</td>\n",
       "      <td>4.3</td>\n",
       "      <td>4.4</td>\n",
       "      <td>4.3</td>\n",
       "      <td>15</td>\n",
       "      <td>-20.2</td>\n",
       "      <td>1.3</td>\n",
       "      <td>NW</td>\n",
       "      <td>0.40</td>\n",
       "      <td>...</td>\n",
       "      <td>19.9</td>\n",
       "      <td>20</td>\n",
       "      <td>-3.7</td>\n",
       "      <td>17.2</td>\n",
       "      <td>4.55</td>\n",
       "      <td>0.7881</td>\n",
       "      <td>56</td>\n",
       "      <td>4</td>\n",
       "      <td>53.3</td>\n",
       "      <td>5</td>\n",
       "    </tr>\n",
       "    <tr>\n",
       "      <th>2</th>\n",
       "      <td>25/07/23</td>\n",
       "      <td>0:15</td>\n",
       "      <td>4.2</td>\n",
       "      <td>4.3</td>\n",
       "      <td>4.2</td>\n",
       "      <td>16</td>\n",
       "      <td>-19.4</td>\n",
       "      <td>0.9</td>\n",
       "      <td>NW</td>\n",
       "      <td>0.27</td>\n",
       "      <td>...</td>\n",
       "      <td>19.9</td>\n",
       "      <td>20</td>\n",
       "      <td>-3.7</td>\n",
       "      <td>17.2</td>\n",
       "      <td>4.55</td>\n",
       "      <td>0.7881</td>\n",
       "      <td>101</td>\n",
       "      <td>4</td>\n",
       "      <td>96.2</td>\n",
       "      <td>5</td>\n",
       "    </tr>\n",
       "    <tr>\n",
       "      <th>3</th>\n",
       "      <td>25/07/23</td>\n",
       "      <td>0:20</td>\n",
       "      <td>4.2</td>\n",
       "      <td>4.2</td>\n",
       "      <td>4.2</td>\n",
       "      <td>16</td>\n",
       "      <td>-19.4</td>\n",
       "      <td>1.3</td>\n",
       "      <td>NW</td>\n",
       "      <td>0.40</td>\n",
       "      <td>...</td>\n",
       "      <td>19.9</td>\n",
       "      <td>20</td>\n",
       "      <td>-3.7</td>\n",
       "      <td>17.2</td>\n",
       "      <td>4.55</td>\n",
       "      <td>0.7882</td>\n",
       "      <td>99</td>\n",
       "      <td>4</td>\n",
       "      <td>94.3</td>\n",
       "      <td>5</td>\n",
       "    </tr>\n",
       "    <tr>\n",
       "      <th>4</th>\n",
       "      <td>25/07/23</td>\n",
       "      <td>0:25</td>\n",
       "      <td>4.3</td>\n",
       "      <td>4.3</td>\n",
       "      <td>4.2</td>\n",
       "      <td>15</td>\n",
       "      <td>-20.2</td>\n",
       "      <td>1.3</td>\n",
       "      <td>NNW</td>\n",
       "      <td>0.40</td>\n",
       "      <td>...</td>\n",
       "      <td>19.9</td>\n",
       "      <td>20</td>\n",
       "      <td>-3.7</td>\n",
       "      <td>17.2</td>\n",
       "      <td>4.55</td>\n",
       "      <td>0.7881</td>\n",
       "      <td>100</td>\n",
       "      <td>4</td>\n",
       "      <td>95.2</td>\n",
       "      <td>5</td>\n",
       "    </tr>\n",
       "    <tr>\n",
       "      <th>...</th>\n",
       "      <td>...</td>\n",
       "      <td>...</td>\n",
       "      <td>...</td>\n",
       "      <td>...</td>\n",
       "      <td>...</td>\n",
       "      <td>...</td>\n",
       "      <td>...</td>\n",
       "      <td>...</td>\n",
       "      <td>...</td>\n",
       "      <td>...</td>\n",
       "      <td>...</td>\n",
       "      <td>...</td>\n",
       "      <td>...</td>\n",
       "      <td>...</td>\n",
       "      <td>...</td>\n",
       "      <td>...</td>\n",
       "      <td>...</td>\n",
       "      <td>...</td>\n",
       "      <td>...</td>\n",
       "      <td>...</td>\n",
       "      <td>...</td>\n",
       "    </tr>\n",
       "    <tr>\n",
       "      <th>729</th>\n",
       "      <td>27/07/23</td>\n",
       "      <td>12:50</td>\n",
       "      <td>10.8</td>\n",
       "      <td>10.8</td>\n",
       "      <td>10.3</td>\n",
       "      <td>28</td>\n",
       "      <td>-7.0</td>\n",
       "      <td>0.4</td>\n",
       "      <td>W</td>\n",
       "      <td>0.13</td>\n",
       "      <td>...</td>\n",
       "      <td>20.5</td>\n",
       "      <td>23</td>\n",
       "      <td>-1.4</td>\n",
       "      <td>18.1</td>\n",
       "      <td>5.13</td>\n",
       "      <td>0.7806</td>\n",
       "      <td>101</td>\n",
       "      <td>4</td>\n",
       "      <td>96.2</td>\n",
       "      <td>5</td>\n",
       "    </tr>\n",
       "    <tr>\n",
       "      <th>730</th>\n",
       "      <td>27/07/23</td>\n",
       "      <td>12:55</td>\n",
       "      <td>10.6</td>\n",
       "      <td>10.8</td>\n",
       "      <td>10.6</td>\n",
       "      <td>29</td>\n",
       "      <td>-6.7</td>\n",
       "      <td>1.8</td>\n",
       "      <td>W</td>\n",
       "      <td>0.54</td>\n",
       "      <td>...</td>\n",
       "      <td>20.5</td>\n",
       "      <td>23</td>\n",
       "      <td>-1.4</td>\n",
       "      <td>18.1</td>\n",
       "      <td>5.13</td>\n",
       "      <td>0.7804</td>\n",
       "      <td>104</td>\n",
       "      <td>4</td>\n",
       "      <td>99.0</td>\n",
       "      <td>5</td>\n",
       "    </tr>\n",
       "    <tr>\n",
       "      <th>731</th>\n",
       "      <td>27/07/23</td>\n",
       "      <td>13:00</td>\n",
       "      <td>10.4</td>\n",
       "      <td>10.6</td>\n",
       "      <td>10.4</td>\n",
       "      <td>30</td>\n",
       "      <td>-6.4</td>\n",
       "      <td>3.1</td>\n",
       "      <td>SW</td>\n",
       "      <td>0.94</td>\n",
       "      <td>...</td>\n",
       "      <td>20.5</td>\n",
       "      <td>22</td>\n",
       "      <td>-2.0</td>\n",
       "      <td>18.0</td>\n",
       "      <td>4.95</td>\n",
       "      <td>0.7806</td>\n",
       "      <td>103</td>\n",
       "      <td>4</td>\n",
       "      <td>98.1</td>\n",
       "      <td>5</td>\n",
       "    </tr>\n",
       "    <tr>\n",
       "      <th>732</th>\n",
       "      <td>27/07/23</td>\n",
       "      <td>13:05</td>\n",
       "      <td>10.8</td>\n",
       "      <td>10.8</td>\n",
       "      <td>10.5</td>\n",
       "      <td>28</td>\n",
       "      <td>-7.0</td>\n",
       "      <td>2.7</td>\n",
       "      <td>N</td>\n",
       "      <td>0.80</td>\n",
       "      <td>...</td>\n",
       "      <td>20.5</td>\n",
       "      <td>22</td>\n",
       "      <td>-2.0</td>\n",
       "      <td>18.0</td>\n",
       "      <td>4.95</td>\n",
       "      <td>0.7804</td>\n",
       "      <td>106</td>\n",
       "      <td>4</td>\n",
       "      <td>100.0</td>\n",
       "      <td>5</td>\n",
       "    </tr>\n",
       "    <tr>\n",
       "      <th>733</th>\n",
       "      <td>27/07/23</td>\n",
       "      <td>13:10</td>\n",
       "      <td>11.1</td>\n",
       "      <td>11.1</td>\n",
       "      <td>10.8</td>\n",
       "      <td>29</td>\n",
       "      <td>-6.3</td>\n",
       "      <td>2.2</td>\n",
       "      <td>N</td>\n",
       "      <td>0.67</td>\n",
       "      <td>...</td>\n",
       "      <td>20.5</td>\n",
       "      <td>22</td>\n",
       "      <td>-2.0</td>\n",
       "      <td>18.0</td>\n",
       "      <td>4.95</td>\n",
       "      <td>0.7804</td>\n",
       "      <td>106</td>\n",
       "      <td>4</td>\n",
       "      <td>100.0</td>\n",
       "      <td>5</td>\n",
       "    </tr>\n",
       "  </tbody>\n",
       "</table>\n",
       "<p>734 rows × 30 columns</p>\n",
       "</div>"
      ],
      "text/plain": [
       "         Date   Time  Temp Out  Hi Temp  Low Temp  Out Hum  Dew Pt.  \\\n",
       "0    25/07/23   0:05       4.4      4.6       4.4       15    -20.0   \n",
       "1    25/07/23   0:10       4.3      4.4       4.3       15    -20.2   \n",
       "2    25/07/23   0:15       4.2      4.3       4.2       16    -19.4   \n",
       "3    25/07/23   0:20       4.2      4.2       4.2       16    -19.4   \n",
       "4    25/07/23   0:25       4.3      4.3       4.2       15    -20.2   \n",
       "..        ...    ...       ...      ...       ...      ...      ...   \n",
       "729  27/07/23  12:50      10.8     10.8      10.3       28     -7.0   \n",
       "730  27/07/23  12:55      10.6     10.8      10.6       29     -6.7   \n",
       "731  27/07/23  13:00      10.4     10.6      10.4       30     -6.4   \n",
       "732  27/07/23  13:05      10.8     10.8      10.5       28     -7.0   \n",
       "733  27/07/23  13:10      11.1     11.1      10.8       29     -6.3   \n",
       "\n",
       "     Wind Speed Wind Dir  Wind Run  ...  In  Temp In Hum  In  Dew  In  Heat  \\\n",
       "0           2.2       NW      0.67  ...      19.9     20     -3.7      17.2   \n",
       "1           1.3       NW      0.40  ...      19.9     20     -3.7      17.2   \n",
       "2           0.9       NW      0.27  ...      19.9     20     -3.7      17.2   \n",
       "3           1.3       NW      0.40  ...      19.9     20     -3.7      17.2   \n",
       "4           1.3      NNW      0.40  ...      19.9     20     -3.7      17.2   \n",
       "..          ...      ...       ...  ...       ...    ...      ...       ...   \n",
       "729         0.4        W      0.13  ...      20.5     23     -1.4      18.1   \n",
       "730         1.8        W      0.54  ...      20.5     23     -1.4      18.1   \n",
       "731         3.1       SW      0.94  ...      20.5     22     -2.0      18.0   \n",
       "732         2.7        N      0.80  ...      20.5     22     -2.0      18.0   \n",
       "733         2.2        N      0.67  ...      20.5     22     -2.0      18.0   \n",
       "\n",
       "     In  EMC  In Air Density  Wind Samp  Wind Tx  ISS  Recept  Arc.\\n Int.  \n",
       "0       4.55          0.7880         90        4         85.7            5  \n",
       "1       4.55          0.7881         56        4         53.3            5  \n",
       "2       4.55          0.7881        101        4         96.2            5  \n",
       "3       4.55          0.7882         99        4         94.3            5  \n",
       "4       4.55          0.7881        100        4         95.2            5  \n",
       "..       ...             ...        ...      ...          ...          ...  \n",
       "729     5.13          0.7806        101        4         96.2            5  \n",
       "730     5.13          0.7804        104        4         99.0            5  \n",
       "731     4.95          0.7806        103        4         98.1            5  \n",
       "732     4.95          0.7804        106        4        100.0            5  \n",
       "733     4.95          0.7804        106        4        100.0            5  \n",
       "\n",
       "[734 rows x 30 columns]"
      ]
     },
     "execution_count": 70,
     "metadata": {},
     "output_type": "execute_result"
    }
   ],
   "source": [
    "davis = pd.read_csv('data_samples/FabricaForno_Davis_WS.txt', \n",
    "                    skiprows=2, sep = '\\t', header = None)\n",
    "\n",
    "#recreating the header\n",
    "hd1, hd2 = [i.split('\\t') for i in open('data_samples/FabricaForno_Davis_WS.txt').readlines()[:2]]\n",
    "hdd = [(i+' '+j).strip() for i, j in zip(hd1, hd2)]\n",
    "\n",
    "davis.columns = hdd\n",
    "davis"
   ]
  },
  {
   "cell_type": "markdown",
   "id": "2083f764-3ff9-46af-96b8-a94e30769720",
   "metadata": {},
   "source": [
    "Now we want to create a datetime column using the first two columns Date and Time, to do this we will "
   ]
  },
  {
   "cell_type": "code",
   "execution_count": null,
   "id": "7465682a-db20-4de7-915c-1298359192f8",
   "metadata": {},
   "outputs": [],
   "source": [
    "davis['datetime'] = pd.to_datetime(davis.Date + ' ' + davis.Time)\n",
    "davis.drop(['Date', 'Time'], axis = 1)"
   ]
  },
  {
   "cell_type": "markdown",
   "id": "17178f68-d5a9-4b59-a655-7cd6ba7fd439",
   "metadata": {},
   "source": [
    "## 3. Plotting time series  \n",
    "(If you are not following the class, go to the slides related to this week)\n",
    "\n",
    "As said in the theory, we have different kinds of plots, each one can represent one, two, or more variables, some of them are useful for a certain thing.\n",
    "\n",
    "For most of our plotting we will use the library `matplotlib`"
   ]
  },
  {
   "cell_type": "code",
   "execution_count": 81,
   "id": "03247da8-1821-4976-a3ef-2aa997b8668f",
   "metadata": {},
   "outputs": [],
   "source": [
    "import matplotlib.pyplot as plt\n",
    "import matplotlib.dates as mdates #this is gonna be useful later\n",
    "%matplotlib inline \n",
    "#solo cuando se usa notebook"
   ]
  },
  {
   "cell_type": "markdown",
   "id": "35d99d80-e19a-43a5-a2c9-938fea4ce2ff",
   "metadata": {},
   "source": [
    "### 3.1. Distributions (histograms)\n",
    "\n",
    "Distributions are a way to see how a data (one variable) is distributed, that is, how many of its values lie in a certain range. Please do not think that are the same as barplots, that we can work if we have the time.\n",
    "\n",
    "A distribution is best seen with a **histogram**, and to create a simple one we can call `plt` and pass our series, in this case the Ultraviolet Index Value (IUV) column of `df1`."
   ]
  },
  {
   "cell_type": "code",
   "execution_count": 82,
   "id": "4fc47187-850e-4181-841f-8c0d42557eb5",
   "metadata": {},
   "outputs": [
    {
     "data": {
      "text/plain": [
       "(array([302.,  36.,  35.,  37.,  33.,  33.,  39.,  45.,  57., 100.]),\n",
       " array([0.   , 0.763, 1.526, 2.289, 3.052, 3.815, 4.578, 5.341, 6.104,\n",
       "        6.867, 7.63 ]),\n",
       " <BarContainer object of 10 artists>)"
      ]
     },
     "execution_count": 82,
     "metadata": {},
     "output_type": "execute_result"
    }
   ],
   "source": [
    "plt.hist(df1.IUV)"
   ]
  },
  {
   "cell_type": "markdown",
   "id": "2ad5271f-5ce8-4165-aea1-57595e367b26",
   "metadata": {},
   "source": [
    "Note some things, in the x-axis we get our data distributed in 10 bars (called bins), in the y-axis we have the quantity of values that lie in that range.\n",
    "\n",
    "For the sake of the experiment we can change the number of bins, also we can set our x and y labels using the following commands:"
   ]
  },
  {
   "cell_type": "code",
   "execution_count": 83,
   "id": "0165a625-c5b6-4baa-be7e-3c16b638e5e3",
   "metadata": {},
   "outputs": [
    {
     "data": {
      "text/plain": [
       "Text(73.07738095238096, 0.5, 'Frequency')"
      ]
     },
     "execution_count": 83,
     "metadata": {},
     "output_type": "execute_result"
    }
   ],
   "source": [
    "plt.hist(df1.IUV, bins = 20)\n",
    "plt.xlabel('IUV')\n",
    "plt.ylabel('Frequency')"
   ]
  },
  {
   "cell_type": "markdown",
   "id": "762f598f-a22b-463a-aa43-d68c99e16bc2",
   "metadata": {},
   "source": [
    "Histograms can be complicated as one wants, you are invited to read its [official documentation.](https://matplotlib.org/stable/api/_as_gen/matplotlib.pyplot.hist.html)"
   ]
  },
  {
   "cell_type": "markdown",
   "id": "74b76657-675c-49b2-a3fa-7324e7f4e382",
   "metadata": {},
   "source": [
    "### 3.2. Plotting time series: Scatter vs Line Plot\n",
    "\n",
    "So, here's the dilemma, when is it better to show a line that crosses the points? when do we only need the points? or when do we need only a line? \n",
    "\n",
    "The answer is... yes\n",
    "\n",
    "It's hard since it depends, what do you want to show: A correlation between two axis? a scatter! But the fitted line? a line plot!\n",
    "\n",
    "Let's put an example on the table, I'll show a scatter and a Line Plot for IUV.\n",
    "\n",
    "Both of our options take two important parameters: x and y, they **have** to have the same lenght."
   ]
  },
  {
   "cell_type": "code",
   "execution_count": 86,
   "id": "eb03bcdd-3cfe-4d5c-a4d8-8f6e4e99291c",
   "metadata": {},
   "outputs": [
    {
     "data": {
      "text/plain": [
       "[<matplotlib.lines.Line2D at 0x73fd66f96a70>]"
      ]
     },
     "execution_count": 86,
     "metadata": {},
     "output_type": "execute_result"
    },
    {
     "data": {
      "image/png": "[encoded data removed]",
      "text/plain": [
       "<Figure size 640x480 with 1 Axes>"
      ]
     },
     "metadata": {},
     "output_type": "display_data"
    }
   ],
   "source": [
    "plt.plot(df1.TIME, df1.IUV)"
   ]
  },
  {
   "cell_type": "markdown",
   "id": "f708d8a5-680d-41a8-a2a2-3f79f8a699e9",
   "metadata": {},
   "source": [
    "Something is.. weird, to configure the way the date is showed we can use the following commands:"
   ]
  },
  {
   "cell_type": "code",
   "execution_count": 87,
   "id": "0c753df9-cad0-4713-a045-b73e6b496794",
   "metadata": {},
   "outputs": [
    {
     "data": {
      "image/png": "[encoded data removed]",
      "text/plain": [
       "<Figure size 640x480 with 1 Axes>"
      ]
     },
     "metadata": {},
     "output_type": "display_data"
    }
   ],
   "source": [
    "plt.plot(df1.TIME, df1.IUV)\n",
    "plt.gca().xaxis.set_major_formatter(mdates.DateFormatter('%H:%M'))"
   ]
  },
  {
   "cell_type": "markdown",
   "id": "8d8e135d",
   "metadata": {},
   "source": [
    "## Let's plot our precipitation data (df3)"
   ]
  },
  {
   "cell_type": "code",
   "execution_count": 102,
   "id": "becd1f85-8831-4936-bc3d-d0c7a891d8d0",
   "metadata": {},
   "outputs": [],
   "source": [
    "df3 = df2[df2.year == 2002]\n",
    "#df3.describe()"
   ]
  },
  {
   "cell_type": "code",
   "execution_count": 107,
   "id": "b3a035d6",
   "metadata": {},
   "outputs": [],
   "source": [
    "fecha1 = dt.datetime(1999,9,1)\n",
    "fecha2 = dt.datetime(1999,9,30)"
   ]
  },
  {
   "cell_type": "code",
   "execution_count": 111,
   "id": "252400f2",
   "metadata": {
    "scrolled": true
   },
   "outputs": [
    {
     "data": {
      "image/png": "[encoded data removed]",
      "text/plain": [
       "<Figure size 640x480 with 1 Axes>"
      ]
     },
     "metadata": {},
     "output_type": "display_data"
    }
   ],
   "source": [
    "plt.scatter(df2.datetime, df2.prcp, s = 7, c = 'black',\n",
    "           marker = '*', alpha = .5)\n",
    "plt.xlabel('Year')\n",
    "plt.ylim(-1,30)\n",
    "plt.ylabel('Precipitation [mm/day]')\n",
    "plt.title('Precipitation for 1999')\n",
    "plt.gca().xaxis.set_major_formatter(mdates.DateFormatter('%Y'))\n",
    "plt.savefig('plots/figura1.png', dpi = 400)"
   ]
  },
  {
   "cell_type": "markdown",
   "id": "a11bea30",
   "metadata": {},
   "source": [
    "<b><font color=\"green\" size=4]>Exercise 3: Plot the temperature (Temp Out) for Davis dataframe</font></b>\n",
    "\n",
    " 1. Create a column of Datetime\n",
    " 2. Create a plot for Temp Out\n",
    " 3. Format Times as necessary"
   ]
  },
  {
   "cell_type": "code",
   "execution_count": 116,
   "id": "4653db5c",
   "metadata": {},
   "outputs": [
    {
     "data": {
      "text/plain": [
       "0     2023-07-25 00:05:00\n",
       "1     2023-07-25 00:10:00\n",
       "2     2023-07-25 00:15:00\n",
       "3     2023-07-25 00:20:00\n",
       "4     2023-07-25 00:25:00\n",
       "              ...        \n",
       "729   2023-07-27 12:50:00\n",
       "730   2023-07-27 12:55:00\n",
       "731   2023-07-27 13:00:00\n",
       "732   2023-07-27 13:05:00\n",
       "733   2023-07-27 13:10:00\n",
       "Name: datetime, Length: 734, dtype: datetime64[ns]"
      ]
     },
     "execution_count": 116,
     "metadata": {},
     "output_type": "execute_result"
    }
   ],
   "source": [
    "davis['datetime'] = pd.to_datetime(davis.Date + ' ' + davis.Time)\n",
    "davis.datetime"
   ]
  },
  {
   "cell_type": "code",
   "execution_count": 128,
   "id": "012d5af9",
   "metadata": {},
   "outputs": [
    {
     "data": {
      "text/plain": [
       "<matplotlib.lines.Line2D at 0x73fd5f0920b0>"
      ]
     },
     "execution_count": 128,
     "metadata": {},
     "output_type": "execute_result"
    },
    {
     "data": {
      "image/png": "[encoded data removed]",
      "text/plain": [
       "<Figure size 640x480 with 1 Axes>"
      ]
     },
     "metadata": {},
     "output_type": "display_data"
    }
   ],
   "source": [
    "plt.plot(davis['datetime'],davis['Temp Out'], '--', lw = 1, c = 'k')\n",
    "plt.gca().xaxis.set_major_formatter(mdates.DateFormatter('%H'))\n",
    "plt.gca().xaxis.set_major_locator(mdates.HourLocator(byhour=(0,6,12,18)))\n",
    "plt.axvline(dt.datetime(2023,7,25), ls = '-.', c = 'k', alpha = 0.3)\n",
    "plt.axvline(dt.datetime(2023,7,26), ls = '-.', c = 'k', alpha = 0.3)\n",
    "plt.axvline(dt.datetime(2023,7,27), ls = '-.', c = 'k', alpha = 0.3)\n",
    "plt.axvline(dt.datetime(2023,7,28), ls = '--', c = 'k', alpha = 0.3)\n"
   ]
  },
  {
   "cell_type": "code",
   "execution_count": null,
   "id": "8a641cb2",
   "metadata": {},
   "outputs": [],
   "source": []
  }
 ],
 "metadata": {
  "kernelspec": {
   "display_name": "Python 3 (ipykernel)",
   "language": "python",
   "name": "python3"
  },
  "language_info": {
   "codemirror_mode": {
    "name": "ipython",
    "version": 3
   },
   "file_extension": ".py",
   "mimetype": "text/x-python",
   "name": "python",
   "nbconvert_exporter": "python",
   "pygments_lexer": "ipython3",
   "version": "3.10.9"
  }
 },
 "nbformat": 4,
 "nbformat_minor": 5
}
