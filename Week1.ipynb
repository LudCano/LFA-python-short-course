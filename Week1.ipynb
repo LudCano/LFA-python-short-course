{
 "cells": [
  {
   "cell_type": "markdown",
   "id": "6056a583",
   "metadata": {},
   "source": [
    "# A Python short course on Atmospheric Data Analysis - Week 1  \n",
    "\n",
    "This Python tutorial was written in May 2024 by Ludving Cano, Research Assistant at the [Laboratory for Atmospheric Physics](http://www.chacaltaya.edu.bo) - UMSA (lcano@chacaltaya.edu.bo). It shows the basic usage of jupyter notebooks and basic Python structures to work with.\n",
    "\n",
    "On **week 1** we will cover:\n",
    "\n",
    " - Installation (Let's make sure we all have a working Python Environment, in the cloud or locally)\n",
    " - Python & You - Our motivation and scope of the course (slides)\n",
    " - Basic Usage of Jupyter Notebooks\n",
    " - Python basics:\n",
    "   - Variables\n",
    "   - Operations\n",
    "   - Structures: Conditionals and Loops\n",
    "   - Functions\n",
    "   - Importing libraries\n",
    " - How to read documentation (and not struggle in the process)"
   ]
  },
  {
   "cell_type": "markdown",
   "id": "77320f30",
   "metadata": {},
   "source": [
    "## 1. Using Jupyter notebooks\n",
    "\n",
    "First, of all, WHERE ARE WE?\n",
    "\n",
    "We need to learn that we are working in a **Jupyter Notebook**, it's a type of file (you can recognize it by the file extension `.ipynb`), its main advantage is that we can add easy-to-read text (rich text) and that the code is structured by cells. We will learn on how this is a great advantage (vs a regular Python script, which has the extension `.py`) later on.\n",
    "\n",
    "On a Jupyter Notebook we can have 3 types of cells: _Code, Markdown and Raw_. The first one is self-explanatory, on the last two, we can work on this kind of texts in the former and with HTML in the latter. To see which kind of cell you are on, double click it and it will show you the type in a dropdown above."
   ]
  },
  {
   "cell_type": "markdown",
   "id": "f0ec7c31",
   "metadata": {},
   "source": [
    "**To RUN a cell**, do a click over it and press _Run_ in the toolbar. If you don't want to use the mouse, press `Shift + Enter`"
   ]
  },
  {
   "cell_type": "code",
   "execution_count": 2,
   "id": "1d22face",
   "metadata": {},
   "outputs": [
    {
     "name": "stdout",
     "output_type": "stream",
     "text": [
      "You've succesfully run your first cell, Hello world!\n"
     ]
    }
   ],
   "source": [
    "print(\"You've succesfully run your first cell, Hello world!\")"
   ]
  },
  {
   "cell_type": "markdown",
   "id": "8fde7518",
   "metadata": {},
   "source": [
    "Pretty easy, right? Take into account some things:\n",
    "- **Variables are shared between cells**: This can be helpful or a pain sometimes, but in most cases can save us some time changing a cell and just executing that cell (we will use this for plotting).\n",
    "- **Plots are convenient**: Adding some 'magic commands' we can play with different plotting interfaces.\n",
    "- **Some data is better displayed on ipynb files**: For example Pandas Dataframes or netCDF4 summaries are better seen here.\n",
    "\n",
    "But not it's not all a bed of roses, some caveats of using Jupyter Notebook are:\n",
    "- **Not everybody uses Jupyter**: It's a well used tool for educational purposes (such are now), but sometimes you just want to run a script (`.py`) and nothing else, we will work with pure scripts later.\n",
    "- **You can't call functions**: For example, here I define a variable or a function, we can't call this function from another file, and this is possible in python scripts.\n",
    "- **We are using a browser/software**: This will consume memory, for the better or the worse, we can edit a python script even with a notepad or even in the same terminal.\n",
    "- **Sometimes we want to run everything everytime**: Yeah... This takes some extra clicks on Jupyter, but with a script we can execute from the terminal.\n",
    "\n",
    "Personally, I don't use Jupyter unless it's necessary (or if I want to use colab). At the end it's your decision and how comfortable are you with the way you code."
   ]
  },
  {
   "cell_type": "markdown",
   "id": "794f7952",
   "metadata": {},
   "source": [
    "## 2. Python Basics\n",
    "\n",
    "*Insert a dramatic voice:  \n",
    "\n",
    "\n",
    "<p style=\"text-align: center;\">Weeeelcome to the fantastic world of Python, where everything is possible with the right library!</p>\n",
    "\n",
    "<div>\n",
    "<img src=\"figs/memes/harry.jpeg\" width=\"200\"/>\n",
    "</div>\n",
    "\n",
    "Jokes aside, Python can be easy once you learn how to treat it. Now we will cover the most basic knowledge of it."
   ]
  },
  {
   "cell_type": "markdown",
   "id": "f26d02eb",
   "metadata": {},
   "source": [
    "### 2.1. Variables\n",
    "What is variable? Something that varies (ha ha ha).  \n",
    "A variable can be everything, a number, your name, a collection of all of your ex's or even the accumulated precipitation at a certain observatory in 2023.\n",
    "\n",
    "A variable have two main parts: its name and its value assignated. To create a variable we write `var_name = var_value`, where `var_value` can be everything.\n",
    "\n",
    "For now, we will focus on the basic types of variables:\n",
    "\n",
    "**2.1.1. Integer `int`**: An integer, such as 10, 20, -10"
   ]
  },
  {
   "cell_type": "code",
   "execution_count": 3,
   "id": "430cfaba",
   "metadata": {},
   "outputs": [
    {
     "data": {
      "text/plain": [
       "int"
      ]
     },
     "execution_count": 3,
     "metadata": {},
     "output_type": "execute_result"
    }
   ],
   "source": [
    "a = 10\n",
    "type(a) #to know the type of a certain variable, use the function type()"
   ]
  },
  {
   "cell_type": "markdown",
   "id": "25f157da",
   "metadata": {},
   "source": [
    "**2.1.2. Float `float`**: A floating point number, that is, a number with decimals."
   ]
  },
  {
   "cell_type": "code",
   "execution_count": 4,
   "id": "73ae7327",
   "metadata": {},
   "outputs": [
    {
     "data": {
      "text/plain": [
       "float"
      ]
     },
     "execution_count": 4,
     "metadata": {},
     "output_type": "execute_result"
    }
   ],
   "source": [
    "b = 3.14\n",
    "type(b)"
   ]
  },
  {
   "cell_type": "markdown",
   "id": "eade63d4",
   "metadata": {},
   "source": [
    "something to take into account is that any division (also between integers) gives us a float"
   ]
  },
  {
   "cell_type": "code",
   "execution_count": 8,
   "id": "6bf94ca6",
   "metadata": {},
   "outputs": [
    {
     "data": {
      "text/plain": [
       "11"
      ]
     },
     "execution_count": 8,
     "metadata": {},
     "output_type": "execute_result"
    }
   ],
   "source": [
    "a + 1"
   ]
  },
  {
   "cell_type": "markdown",
   "id": "5a3240e8",
   "metadata": {},
   "source": [
    "and to convert an `int` to `float`, or viceversa, we can use the functions `int()` or `float()`, respectively. *Important: If you use int() with a decimal number you get the floor function (e.g. 2.9 becomes 2)*"
   ]
  },
  {
   "cell_type": "code",
   "execution_count": 16,
   "id": "90a8c788",
   "metadata": {},
   "outputs": [
    {
     "data": {
      "text/plain": [
       "float"
      ]
     },
     "execution_count": 16,
     "metadata": {},
     "output_type": "execute_result"
    }
   ],
   "source": [
    "type(float(10))"
   ]
  },
  {
   "cell_type": "code",
   "execution_count": 14,
   "id": "4197add3",
   "metadata": {},
   "outputs": [
    {
     "data": {
      "text/plain": [
       "2"
      ]
     },
     "execution_count": 14,
     "metadata": {},
     "output_type": "execute_result"
    }
   ],
   "source": [
    "int(2.98)"
   ]
  },
  {
   "cell_type": "markdown",
   "id": "252b7664",
   "metadata": {},
   "source": [
    "**2.1.3. String `str`**: It's a...word, a character collection, even symbols or numbers. They are recognized by the apostrophes '"
   ]
  },
  {
   "cell_type": "code",
   "execution_count": 23,
   "id": "2f7a051d",
   "metadata": {},
   "outputs": [
    {
     "name": "stdout",
     "output_type": "stream",
     "text": [
      "Luuuud \t Cano\n"
     ]
    }
   ],
   "source": [
    "name = 'Luuuud \\t Cano'\n",
    "print(name)"
   ]
  },
  {
   "cell_type": "markdown",
   "id": "7a8e384f",
   "metadata": {},
   "source": [
    "again, we can convert a string to a float or viceversa using the respective functions"
   ]
  },
  {
   "cell_type": "code",
   "execution_count": 24,
   "id": "b1f736fb",
   "metadata": {},
   "outputs": [
    {
     "data": {
      "text/plain": [
       "'10.45'"
      ]
     },
     "execution_count": 24,
     "metadata": {},
     "output_type": "execute_result"
    }
   ],
   "source": [
    "str(10.45)"
   ]
  },
  {
   "cell_type": "code",
   "execution_count": 28,
   "id": "c408aaad",
   "metadata": {},
   "outputs": [
    {
     "data": {
      "text/plain": [
       "2"
      ]
     },
     "execution_count": 28,
     "metadata": {},
     "output_type": "execute_result"
    }
   ],
   "source": [
    "int(float('2.156'))"
   ]
  },
  {
   "cell_type": "code",
   "execution_count": 30,
   "id": "1dc47ca7",
   "metadata": {},
   "outputs": [
    {
     "data": {
      "text/plain": [
       "4.5"
      ]
     },
     "execution_count": 30,
     "metadata": {},
     "output_type": "execute_result"
    }
   ],
   "source": [
    "float('2.5') + 2"
   ]
  },
  {
   "cell_type": "markdown",
   "id": "ec37d7d4",
   "metadata": {},
   "source": [
    "**2.1.4. Booleans `bool`**: This is a binary variable, it can take a value of True or False, and they are pretty useful for logical operators. We will see its uses with operators."
   ]
  },
  {
   "cell_type": "code",
   "execution_count": 31,
   "id": "28724f43",
   "metadata": {},
   "outputs": [
    {
     "data": {
      "text/plain": [
       "bool"
      ]
     },
     "execution_count": 31,
     "metadata": {},
     "output_type": "execute_result"
    }
   ],
   "source": [
    "a = True\n",
    "b = False\n",
    "type(a)"
   ]
  },
  {
   "cell_type": "code",
   "execution_count": 33,
   "id": "56f821c1",
   "metadata": {},
   "outputs": [
    {
     "data": {
      "text/plain": [
       "False"
      ]
     },
     "execution_count": 33,
     "metadata": {},
     "output_type": "execute_result"
    }
   ],
   "source": [
    "not a"
   ]
  },
  {
   "cell_type": "markdown",
   "id": "a6290c05",
   "metadata": {},
   "source": [
    "**2.1.4. Lists `list`**: Okay this is kind of different, it's also called an _structure_, a list is a _collection_, that is, it can have different types of variables inside of it. It's _ordered and mutable_.\n",
    "\n",
    "It's the most basic way of storing data, as example we can have the list of research assistants of the lab:"
   ]
  },
  {
   "cell_type": "code",
   "execution_count": 34,
   "id": "18b10515",
   "metadata": {},
   "outputs": [],
   "source": [
    "assistants = ['Lud', 'Belen', 'Wara', 'Alan', 'Gabriel']"
   ]
  },
  {
   "cell_type": "markdown",
   "id": "56622375",
   "metadata": {},
   "source": [
    "But it's not limited to it, we can have integers, floats, and even lists as elements of a list."
   ]
  },
  {
   "cell_type": "code",
   "execution_count": 35,
   "id": "a5dc61f2",
   "metadata": {},
   "outputs": [],
   "source": [
    "crazy_list = ['a string', 100, 13.5, ['oh no, another list', 6]]"
   ]
  },
  {
   "cell_type": "markdown",
   "id": "776fdcc6",
   "metadata": {},
   "source": [
    "For now we won't see much more of lists, wait until we reach indexing."
   ]
  },
  {
   "cell_type": "markdown",
   "id": "fa6d3806",
   "metadata": {},
   "source": [
    "### 2.2. Operations\n",
    "So, we can do things with this variables. Adition, substraction, multiplication and division can be easy (between integers and floats). Let's see some extra operations here:"
   ]
  },
  {
   "cell_type": "code",
   "execution_count": 36,
   "id": "de519191",
   "metadata": {},
   "outputs": [
    {
     "name": "stdout",
     "output_type": "stream",
     "text": [
      "The sum is 13\n",
      "The residual is 1\n"
     ]
    }
   ],
   "source": [
    "# Suma +\n",
    "# Resta -\n",
    "# Multiplicacion *\n",
    "# Division /\n",
    "# Modulo %\n",
    "\n",
    "# Given three variables:\n",
    "a = 10\n",
    "b = 3\n",
    "c = 2.5\n",
    "\n",
    "# Sum (just as example)\n",
    "s = a + b\n",
    "print('The sum is', s)\n",
    "\n",
    "# Modulus (the residual of the division, example 10/3 is 3 with a r=1), uses % as symbol\n",
    "r = a%b\n",
    "print('The residual is', r)"
   ]
  },
  {
   "cell_type": "markdown",
   "id": "6e4f36ef",
   "metadata": {},
   "source": [
    "Now, we can do some things with strings, just as example if we want to concatenate two strings, we can add them up."
   ]
  },
  {
   "cell_type": "code",
   "execution_count": 37,
   "id": "354e8ee1",
   "metadata": {},
   "outputs": [
    {
     "data": {
      "text/plain": [
       "'AlbertEinstein'"
      ]
     },
     "execution_count": 37,
     "metadata": {},
     "output_type": "execute_result"
    }
   ],
   "source": [
    "name = 'Albert'\n",
    "surname = 'Einstein'\n",
    "\n",
    "fullname = name + surname\n",
    "fullname"
   ]
  },
  {
   "cell_type": "code",
   "execution_count": 38,
   "id": "963d74e0",
   "metadata": {},
   "outputs": [
    {
     "data": {
      "text/plain": [
       "'Albert Einstein'"
      ]
     },
     "execution_count": 38,
     "metadata": {},
     "output_type": "execute_result"
    }
   ],
   "source": [
    "# it's missing a whitespace between them, we can add it in the following cell\n",
    "fullname = name + ' ' + surname\n",
    "fullname"
   ]
  },
  {
   "cell_type": "markdown",
   "id": "09e0c58a",
   "metadata": {},
   "source": [
    "Now, we can compare two values and we will get a boolean as result, these operators are:\n",
    "- `==` (equal to)\n",
    "- `!=` (not equal to)\n",
    "- `<=` (less or equal than)\n",
    "- `>=` (greater or equal than)"
   ]
  },
  {
   "cell_type": "code",
   "execution_count": 43,
   "id": "25392b25",
   "metadata": {},
   "outputs": [
    {
     "data": {
      "text/plain": [
       "True"
      ]
     },
     "execution_count": 43,
     "metadata": {},
     "output_type": "execute_result"
    }
   ],
   "source": [
    "num1 = 10 #aqui solo defino una variable\n",
    "\n",
    "#aqui la comparo\n",
    "num1 < 20"
   ]
  },
  {
   "cell_type": "code",
   "execution_count": 47,
   "id": "d9963c00",
   "metadata": {},
   "outputs": [
    {
     "data": {
      "text/plain": [
       "False"
      ]
     },
     "execution_count": 47,
     "metadata": {},
     "output_type": "execute_result"
    }
   ],
   "source": [
    "a = 10\n",
    "b = 5\n",
    "c = 2\n",
    "\n",
    "a == (b/c)"
   ]
  },
  {
   "cell_type": "markdown",
   "id": "35b6189c",
   "metadata": {},
   "source": [
    "### 2.3. Conditionals and Loops\n",
    "### Conditionals\n",
    "We are getting better with this! Now we will learn some important structures, the conditionals and loops.\n",
    "\n",
    "A conditional, as its name says, is when we use a condition to do something. For example if my hear rate is higher than 160, the code must say that I have to rest."
   ]
  },
  {
   "cell_type": "code",
   "execution_count": 49,
   "id": "571219f9",
   "metadata": {},
   "outputs": [],
   "source": [
    "heart_rate = 110 #try changing the value\n",
    "\n",
    "# now we apply the condition\n",
    "if heart_rate >= 160:\n",
    "    print('Rest please')\n"
   ]
  },
  {
   "cell_type": "markdown",
   "id": "6faae502",
   "metadata": {},
   "source": [
    "Now, what is we want that, if our heart rate is less than 160, the code must say that we can keep running, we will use an `else`, that is (in Spanish _sino, haz esto_), for this the value simply should not comply the condition (so they should be mutually exclusive)."
   ]
  },
  {
   "cell_type": "code",
   "execution_count": 50,
   "id": "31f4ac7f",
   "metadata": {},
   "outputs": [
    {
     "name": "stdout",
     "output_type": "stream",
     "text": [
      "Keep running!\n"
     ]
    }
   ],
   "source": [
    "heart_rate = 150 #try changing the value\n",
    "\n",
    "# now we apply the condition\n",
    "if heart_rate >= 160:\n",
    "    print('Rest, please')\n",
    "else:\n",
    "    print('Keep running!')"
   ]
  },
  {
   "cell_type": "markdown",
   "id": "73d80780",
   "metadata": {},
   "source": [
    "Finally, if my heart rate is zero, the code have to ask if I'm okay (zero pulse is baaaad). So we need two conditions and the keep running that is when we don't comply any of those two conditions, for this we use an `elif`, which allows us to put another condition to the structure:"
   ]
  },
  {
   "cell_type": "code",
   "execution_count": null,
   "id": "25ecf641",
   "metadata": {},
   "outputs": [],
   "source": [
    "heart_rate = 0 #try changing the value\n",
    "\n",
    "# now we apply the condition\n",
    "if heart_rate >= 160:\n",
    "    print('Rest, please')\n",
    "elif heart_rate == 0:\n",
    "    print('Are you ok?')\n",
    "else:\n",
    "    print('Keep running!')\n",
    "    \n",
    "## IMPORTANT: The ELSE should be always at the end!!! It's the last option!"
   ]
  },
  {
   "cell_type": "markdown",
   "id": "043e7141",
   "metadata": {},
   "source": [
    "Before doing and exercise, we can do some conditions that are a bit more complicated, for example, if we want to know whether a value is between two we can do:"
   ]
  },
  {
   "cell_type": "code",
   "execution_count": 54,
   "id": "09de7a2f",
   "metadata": {},
   "outputs": [
    {
     "data": {
      "text/plain": [
       "True"
      ]
     },
     "execution_count": 54,
     "metadata": {},
     "output_type": "execute_result"
    }
   ],
   "source": [
    "heart_rate = 200\n",
    "\n",
    "50 <= heart_rate <= 200 #this is the condition that should be in the if structure"
   ]
  },
  {
   "cell_type": "markdown",
   "id": "86719ab5",
   "metadata": {},
   "source": [
    "<b><font color=\"blue\" size=5>Exercise 1: You take my Breath Away (CO2)</font></b>\n",
    "\n",
    "According to the [Wisconsin Department of Health Sciences](https://www.dhs.wisconsin.gov/chemical/carbondioxide.htm#:~:text=400%20ppm%3A%20average%20outdoor%20air,stagnant%2C%20stale%2C%20stuffy%20air.), the levels of CO2 in a space and its effects on the health are the following:\n",
    "\n",
    "\n",
    "<div>\n",
    "<img src=\"figs/co2_ex.png\" width=\"800\"/>\n",
    "</div>\n",
    "\n",
    "\n",
    "Given a variable called `ppm`, create a code that shows alert messages for these levels, you don't have to put all the levels described above, put 3 conditions at maximum (and an else).\n"
   ]
  },
  {
   "cell_type": "code",
   "execution_count": null,
   "id": "6d30f9d4",
   "metadata": {},
   "outputs": [],
   "source": [
    "# Solution\n",
    "ppm = 300 #example, replace this value for testing!\n",
    "\n",
    "\n",
    "# put your solution here\n",
    "\n",
    "\n",
    "\n"
   ]
  },
  {
   "cell_type": "markdown",
   "id": "efbd8b18",
   "metadata": {},
   "source": [
    "<details><summary><b><font color=\"blue\">Click here for the solution to Exercise 1</font></b></summary>\n",
    "\n",
    "```\n",
    "# For example I put the following conditions:\n",
    "    \n",
    "if 400 <= ppm <= 2000:\n",
    "    print('Check how are you feeling, take caution')\n",
    "elif 2000 < ppm <= 5000:\n",
    "    print(\"It would be a good idea to go out\")\n",
    "elif ppm > 40000:\n",
    "    print(\"RUN!\")\n",
    "else:\n",
    "    print(\"Levels of CO2 are...weird, is your device ok?\")\n",
    "```\n"
   ]
  },
  {
   "cell_type": "markdown",
   "id": "bb33f492",
   "metadata": {},
   "source": [
    "### LOOPS\n",
    "This part gets interesting, a computer can do calculations WAY faster than us, so we can give it 1000 operations and it will take some seconds (or less). \n",
    "\n",
    "Sometimes we want to repeat a process many times, for example, we want to test different ppms for the previous example, or we want for the code to run while a condition is met, and stop it otherwise.\n",
    "\n",
    "For this, python has two loops, which I'll describe in a very simple way:\n",
    "\n",
    "- `for`: It runs a definite number of times, we need a range or list where to iterate and we get an *iterator*.\n",
    "- `while`: Runs indefinitely with a condition, if the condition fails, it stops. **Be cautious with this**"
   ]
  },
  {
   "cell_type": "markdown",
   "id": "f67663dd",
   "metadata": {},
   "source": [
    "The `for` structure is pretty easy\n",
    "```\n",
    "for i in what_to_iterate:\n",
    "    do things\n",
    "```\n",
    "\n",
    "The `what_to_iterate` is something like a range (we can create a sequence of numbers using `range(start, stop+1, step)` (find a good [guide](https://www.geeksforgeeks.org/python-range-function/) here). For each loop of the code, the iterator adopts the value of the iterator in that step, for example, in the first iteration it will become the first one, then the second one, etc."
   ]
  },
  {
   "cell_type": "code",
   "execution_count": 61,
   "id": "789fdd96",
   "metadata": {},
   "outputs": [
    {
     "name": "stdout",
     "output_type": "stream",
     "text": [
      "Holii 2\n",
      "Holii 10\n",
      "Holii 18\n",
      "Holii 26\n",
      "Holii 34\n",
      "Holii 42\n",
      "Holii 50\n",
      "Holii 58\n",
      "Holii 66\n",
      "Holii 74\n",
      "Holii 82\n",
      "Holii 90\n",
      "Holii 98\n",
      "Holii 106\n",
      "Holii 114\n",
      "Holii 122\n",
      "Holii 130\n",
      "Holii 138\n",
      "Holii 146\n"
     ]
    }
   ],
   "source": [
    "for i in range(2,150,8):\n",
    "    print(\"Holii\", i)\n",
    "    \n",
    "# we notice that we don't get the 10, it's because the upper limit is exclusive, so the range runs until 10-1=9"
   ]
  },
  {
   "cell_type": "markdown",
   "id": "bac03160",
   "metadata": {},
   "source": [
    "Something fantastic in python is that we can iterate over a list and the iterator becomes each element on the list, this is useful to calculate something for each element of the list:"
   ]
  },
  {
   "cell_type": "code",
   "execution_count": 63,
   "id": "5e37f9cc",
   "metadata": {},
   "outputs": [
    {
     "name": "stdout",
     "output_type": "stream",
     "text": [
      "Hola Juan\n",
      "Hola Maria\n",
      "Hola Pedro\n",
      "Hola Eustaquio\n"
     ]
    }
   ],
   "source": [
    "names = ['Juan', 'Maria', 'Pedro', 'Eustaquio']\n",
    "\n",
    "for n in names:\n",
    "    print('Hola', n) #name becomes each element of the list, then we print the greeting for each one"
   ]
  },
  {
   "cell_type": "markdown",
   "id": "d0379717",
   "metadata": {},
   "source": [
    "This can get useful, we can add a counter to know how many times we run the code, we start it as 0 before the loop and add 1 to the counter when the iteration starts over"
   ]
  },
  {
   "cell_type": "code",
   "execution_count": 64,
   "id": "0a1a4a7f",
   "metadata": {},
   "outputs": [
    {
     "name": "stdout",
     "output_type": "stream",
     "text": [
      "Hola Juan\n",
      "Hola Maria\n",
      "Hola Pedro\n",
      "Hola Eustaquio\n",
      "In total you greeted 4 people\n"
     ]
    }
   ],
   "source": [
    "names = ['Juan', 'Maria', 'Pedro', 'Eustaquio']\n",
    "\n",
    "n_names = 0 #number of names\n",
    "for name in names:\n",
    "    n_names = n_names + 1\n",
    "    print('Hola', name) #name becomes each element of the list, then we print the greeting for each one\n",
    "    \n",
    "print(f'In total you greeted {n_names} people')"
   ]
  },
  {
   "cell_type": "markdown",
   "id": "5879b35e-17d0-4bd5-abf3-435839569aad",
   "metadata": {},
   "source": [
    "If you took attention my last `print()` used another way of printing values alongside text, this is called an _f-string_. Here's an [article](https://www.geeksforgeeks.org/formatted-string-literals-f-strings-python/) if you want to know more."
   ]
  },
  {
   "cell_type": "code",
   "execution_count": 66,
   "id": "36bdce22",
   "metadata": {},
   "outputs": [
    {
     "name": "stdout",
     "output_type": "stream",
     "text": [
      "1 Juan\n",
      "2 Maria\n",
      "3 Pedro\n",
      "4 Eustaquio\n"
     ]
    }
   ],
   "source": [
    "names = ['Juan', 'Maria', 'Pedro', 'Eustaquio']\n",
    "\n",
    "for idx, name in enumerate(names):\n",
    "    print(idx+1, name)"
   ]
  },
  {
   "cell_type": "code",
   "execution_count": 68,
   "id": "187f1cca",
   "metadata": {},
   "outputs": [
    {
     "name": "stdout",
     "output_type": "stream",
     "text": [
      "tu nombre es Juan y tu apellido es Perez\n",
      "tu nombre es Maria y tu apellido es Rojas\n",
      "tu nombre es Pedro y tu apellido es Alanoca\n"
     ]
    }
   ],
   "source": [
    "names = ['Juan', 'Maria', 'Pedro', 'Eustaquio']\n",
    "apellidos = ['Perez', 'Rojas', 'Alanoca']\n",
    "\n",
    "\n",
    "for nombre, apellido in zip(names, apellidos):\n",
    "    print(\"tu nombre es\", nombre, \"y tu apellido es\", apellido)"
   ]
  },
  {
   "cell_type": "markdown",
   "id": "d760a858",
   "metadata": {},
   "source": [
    "<b><font color=\"blue\" size=5>Exercise 2.1: It's raining cats and dogs!</font></b>\n",
    "\n",
    "According to the [Glossary of the American Meteorological Society](https://glossary.ametsoc.org/wiki/Rain_day):\n",
    "\n",
    ">In British climatology, a period of 24 hours, normally commencing at 0900 UTC, in which at least 0.01 in. or 0.2 mm of precipitation is recorded.\n",
    "\n",
    "\n",
    "Given a list of recorded precipitations (in mm) for February of 2024 (we had a lot of rain), for each day print a message like \"Day 5 was wet\" or \"Day 6 was not wet\". \n",
    "\n",
    "Extra exercise: Count the number of wet days in the given month and/or the sum of all the precipitation in that month.\n",
    "\n",
    "_Note: Data is partially modified for academic purposes, the total sum is the same as the real data._"
   ]
  },
  {
   "cell_type": "code",
   "execution_count": 72,
   "id": "374f5c57",
   "metadata": {},
   "outputs": [
    {
     "name": "stdout",
     "output_type": "stream",
     "text": [
      "Day 1 was NOT wet\n",
      "Day 2 was NOT wet\n",
      "Day 3 was wet\n",
      "Day 4 was NOT wet\n",
      "Day 5 was wet\n",
      "Day 6 was wet\n",
      "Day 7 was wet\n",
      "Day 8 was wet\n",
      "Day 9 was wet\n",
      "Day 10 was wet\n",
      "Day 11 was NOT wet\n",
      "Day 12 was wet\n",
      "Day 13 was NOT wet\n",
      "Day 14 was wet\n",
      "Day 15 was wet\n",
      "Day 16 was wet\n",
      "Day 17 was wet\n",
      "Day 18 was NOT wet\n",
      "Day 19 was NOT wet\n",
      "Day 20 was wet\n",
      "Day 21 was NOT wet\n",
      "Day 22 was wet\n",
      "Day 23 was NOT wet\n",
      "Day 24 was NOT wet\n",
      "Day 25 was wet\n",
      "Day 26 was wet\n",
      "Day 27 was wet\n",
      "Day 28 was NOT wet\n",
      "In total we had 17 wet days\n",
      "And we had 180.8 mm accumulated\n"
     ]
    }
   ],
   "source": [
    "#data for this exercise\n",
    "feb2024 = [0,0.1,0.2,0.1,21.2,0.8,24,6,55,0.4,0,1,0.1,0.2,11.2,0.6,36.4,0,0,12.6,0,4.4,0.1,0,4.6,1,0.8,0]\n",
    "\n",
    "\n",
    "counter_day = 1\n",
    "wet_days = 0\n",
    "total_rain = 0\n",
    "\n",
    "for pday in feb2024: #iterating in the list\n",
    "    #pday ---> Precipitation in a day (you can use i or j as iterators, it's \n",
    "    #          up to you)\n",
    "    \n",
    "    # Now we iterate over each precipitation in a day\n",
    "    if pday > 0.1:\n",
    "        print(f'Day {counter_day} was wet')\n",
    "        wet_days = wet_days + 1 #adding 1 to the wet days count if there's one\n",
    "    else:\n",
    "        print(f'Day {counter_day} was NOT wet')\n",
    "        \n",
    "    #to add the rain in a day\n",
    "    total_rain = total_rain + pday\n",
    "        \n",
    "    counter_day = counter_day + 1 #Advancing 1 day\n",
    "    \n",
    "print(f\"In total we had {wet_days} wet days\")\n",
    "print(f\"And we had {total_rain} mm accumulated\")\n",
    "\n"
   ]
  },
  {
   "cell_type": "markdown",
   "id": "bf82f996",
   "metadata": {},
   "source": [
    "<details><summary><b><font color=\"blue\">Click here for the solution to Exercise 2.1</font></b></summary>\n",
    "\n",
    "```\n",
    "counter_day = 1\n",
    "wet_days = 0\n",
    "total_rain = 0\n",
    "\n",
    "for pday in feb2024: #iterating in the list\n",
    "    #pday ---> Precipitation in a day (you can use i or j as iterators, it's \n",
    "    #          up to you)\n",
    "    \n",
    "    # Now we iterate over each precipitation in a day\n",
    "    if pday > 0.1:\n",
    "        print(f'Day {counter_day} was wet')\n",
    "        wet_days = wet_days + 1 #adding 1 to the wet days count if there's one\n",
    "    else:\n",
    "        print(f'Day {counter_day} was NOT wet')\n",
    "        \n",
    "    #to add the rain in a day\n",
    "    total_rain = total_rain + pday\n",
    "        \n",
    "    counter_day = counter_day + 1 #Advancing 1 day\n",
    "    \n",
    "print(f\"In total we had {wet_days} wet days\")\n",
    "print(f\"And we had {total_rain} mm accumulated\")\n",
    "\n",
    "```"
   ]
  },
  {
   "cell_type": "markdown",
   "id": "0d098e56-9a9d-47d5-99c4-5956301bdda6",
   "metadata": {},
   "source": [
    "### Some properties of lists\n",
    "We have a pretty nice list of floats (feb2024), so we can give some properties or functions that are going to be useful:\n",
    "\n",
    " - `sum(feb2024)` will give us the sum of all the values in the list. But this can only happen if the values inside the list are of the same type.\n",
    " - `max(feb2024)` and `min(feb2024)` will give us the maximum and minimum value of the list, respectively\n",
    " - `feb2024[i]` where `i` is the position **index** gives us the _i-th_ element starting from 0 as the first.\n",
    " - `feb2024[j:k]` where `j` and `k` are positions, gives us the list trimmed from the _j-th_ **position** to the _k-1-th_ **position** (that means, the upper limit is exclusive).\n",
    " \n",
    "As said before, position indexes start from 0 for the first element, but if you want to start from the end use the index `-1` for the last element, -2 for the second one and so on, in this case the lower limit is exclusive."
   ]
  },
  {
   "cell_type": "code",
   "execution_count": 78,
   "id": "236ae30d",
   "metadata": {},
   "outputs": [
    {
     "data": {
      "text/plain": [
       "[0, 1, 0.1, 0.2, 11.2]"
      ]
     },
     "execution_count": 78,
     "metadata": {},
     "output_type": "execute_result"
    }
   ],
   "source": [
    "feb2024[10:15] #acceder a la lista"
   ]
  },
  {
   "cell_type": "code",
   "execution_count": 82,
   "id": "60c23963",
   "metadata": {},
   "outputs": [
    {
     "data": {
      "text/plain": [
       "[0, 4.6]"
      ]
     },
     "execution_count": 82,
     "metadata": {},
     "output_type": "execute_result"
    }
   ],
   "source": [
    "feb2024[-5:-3]"
   ]
  },
  {
   "cell_type": "markdown",
   "id": "3240e4f7-f0eb-4009-b898-d6f572901cbd",
   "metadata": {},
   "source": [
    "<b><font color=\"blue\" size=5>Exercise 2.2: How is the weather up there?</font></b>\n",
    "\n",
    "Answer to the following question: Was the first or the last week of Feb the wettest? (More accumulated precipitation)\n",
    "\n",
    "If you are quick try to do it for each week.\n"
   ]
  },
  {
   "cell_type": "code",
   "execution_count": 86,
   "id": "6047b9d3-fb76-4035-bfdc-ce502e29b6b2",
   "metadata": {},
   "outputs": [
    {
     "name": "stdout",
     "output_type": "stream",
     "text": [
      "Primera semana: 46.4\n",
      "Ultimaa semana: 10.9\n"
     ]
    }
   ],
   "source": [
    "# write your solution here\n",
    "feb2024 = [0,0.1,0.2,0.1,21.2,0.8,24,6,55,0.4,\n",
    "           0,1,0.1,0.2,11.2,0.6,36.4,0,0,12.6,\n",
    "           0,4.4,0.1,0,4.6,1,0.8,0]\n",
    "\n",
    "primerasemana = sum(feb2024[0:7])\n",
    "ultimasemana = sum(feb2024[-8:-1])\n",
    "print(\"Primera semana:\", primerasemana)\n",
    "print(\"Ultimaa semana:\", ultimasemana)\n"
   ]
  },
  {
   "cell_type": "code",
   "execution_count": 88,
   "id": "51a37741",
   "metadata": {},
   "outputs": [
    {
     "name": "stdout",
     "output_type": "stream",
     "text": [
      "La ultima semana llovio 10.9 milimetros\n"
     ]
    }
   ],
   "source": [
    "sta = f'La ultima semana llovio {ultimasemana} milimetros'\n",
    "print(sta)"
   ]
  },
  {
   "cell_type": "markdown",
   "id": "9dc067c7-5ac4-445d-8c62-f933a1eea673",
   "metadata": {},
   "source": [
    "<details><summary><b><font color=\"blue\">Click here for the solution to Exercise 2.2</font></b></summary>\n",
    "\n",
    "```\n",
    "firstweek = feb2024[0:7]\n",
    "lastweek = feb2024[-8:-1]\n",
    "\n",
    "print(f\"The first week accumulated prcp was {sum(firstweek)}\")\n",
    "print(f\"The last week accumulated prcp was {sum(lastweek)}\")\n",
    "```"
   ]
  },
  {
   "cell_type": "markdown",
   "id": "2fa75894-be54-4ec4-9a9f-587614d724d3",
   "metadata": {},
   "source": [
    "### 2.4. Functions\n",
    "Now, we will learn some things about functions, in fact, we've used them before, for example `print('Hello')` is the function `print` with the argument `'Hello'` (an string). It's function is to show that argument in screen.\n",
    "\n",
    "_Can you name another function that we used before?_\n",
    "\n",
    "Now, we can use functions that are way more complicated, they become handy when a process is repetitive or we want a part of the code to be processed separately, it's also useful when this part of the code will be used in another file (only in scripts).\n",
    "\n",
    "Some functions can be blackboxes (you don't know what's happening inside), but probably for you the most important thing is that result."
   ]
  },
  {
   "cell_type": "markdown",
   "id": "d09cfaa9-00bb-4806-b2a8-7276d7afb291",
   "metadata": {},
   "source": [
    "### Creating a function\n",
    "\n",
    "A function has a **name** (we can call it -> execute it by that name), **parameters**, that are inputs for the function and a **return**, which is the value that the function results.\n",
    "\n",
    "<div>\n",
    "<img src=\"figs/function.png\" width=\"600\"/>\n",
    "</div>\n",
    "\n",
    "For example, let's create a function to convert a decimal hour (ex: `12.5` would be 12:30), to a time format (HH:MM:SS), but return all these three values separately."
   ]
  },
  {
   "cell_type": "code",
   "execution_count": 89,
   "id": "e7fce9ca",
   "metadata": {},
   "outputs": [
    {
     "data": {
      "text/plain": [
       "100"
      ]
     },
     "execution_count": 89,
     "metadata": {},
     "output_type": "execute_result"
    }
   ],
   "source": [
    "## Function to square a value\n",
    "\n",
    "\n",
    "def elgeneradordecuadrados(x):\n",
    "    y = x**2\n",
    "    return y\n",
    "\n",
    "elgeneradordecuadrados(10)\n",
    "\n"
   ]
  },
  {
   "cell_type": "code",
   "execution_count": 90,
   "id": "d9917bb3-c09d-4448-a3de-0033e2166375",
   "metadata": {},
   "outputs": [],
   "source": [
    "## Function decimal time to time\n",
    "\n",
    "\n",
    "## tiempo = 15.123014702 horas\n",
    "## sacar la forma decimal\n",
    "## solodecimal = a - int(a)\n",
    "\n",
    "def decimal_time(t):\n",
    "    # t is the hour in decimal time\n",
    "    if t <= 24: #just check if the time is valid\n",
    "        hours = int(t)    #hours would be the integer part\n",
    "        minutesd = (t - hours)*60  #minutes are the decimal part multiplied by 60\n",
    "        minutes = int(minutesd)    #but the integer part of that calculation\n",
    "        seconds = (minutesd - minutes)*60 #seconds can be decimal\n",
    "        \n",
    "    return hours, minutes, seconds #we will return all three values\n",
    "\n",
    "## desempacar\n",
    "h,m,s = decimal_time(12.39010)"
   ]
  },
  {
   "cell_type": "markdown",
   "id": "6ae19a0d-6d19-4657-8fbd-5ded1a186d67",
   "metadata": {},
   "source": [
    "To **call** the function we use its name and we can put a value there."
   ]
  },
  {
   "cell_type": "code",
   "execution_count": 91,
   "id": "bcf7a259-593f-4287-ba07-a241427939a0",
   "metadata": {},
   "outputs": [
    {
     "data": {
      "text/plain": [
       "(12, 30, 0.0)"
      ]
     },
     "execution_count": 91,
     "metadata": {},
     "output_type": "execute_result"
    }
   ],
   "source": [
    "decimal_time(12.5)"
   ]
  },
  {
   "cell_type": "markdown",
   "id": "94d15fbf-320b-4045-9941-37292976c11c",
   "metadata": {},
   "source": [
    "But if we want to _unpack_ the values, we can assign three variables at the same time to the output of the function."
   ]
  },
  {
   "cell_type": "code",
   "execution_count": 92,
   "id": "d8796632-baa0-483a-ae83-b16bfe9981c5",
   "metadata": {},
   "outputs": [
    {
     "data": {
      "text/plain": [
       "7"
      ]
     },
     "execution_count": 92,
     "metadata": {},
     "output_type": "execute_result"
    }
   ],
   "source": [
    "h, m, s = decimal_time(13.1241)\n",
    "m"
   ]
  },
  {
   "cell_type": "markdown",
   "id": "1d4b2bf8-b59b-4509-b8c4-ae387b91b623",
   "metadata": {},
   "source": [
    "We can see that the variable `minutesd` doesn't exists, that is because a variable only used inside a function, is a **local variable**, and dies after the function is executed."
   ]
  },
  {
   "cell_type": "code",
   "execution_count": 93,
   "id": "a81571a3-5c8c-418a-bd49-c3c7fb437eb6",
   "metadata": {},
   "outputs": [
    {
     "ename": "NameError",
     "evalue": "name 'minutesd' is not defined",
     "output_type": "error",
     "traceback": [
      "\u001b[0;31m---------------------------------------------------------------------------\u001b[0m",
      "\u001b[0;31mNameError\u001b[0m                                 Traceback (most recent call last)",
      "Cell \u001b[0;32mIn[93], line 1\u001b[0m\n\u001b[0;32m----> 1\u001b[0m \u001b[38;5;28mprint\u001b[39m(\u001b[43mminutesd\u001b[49m)\n",
      "\u001b[0;31mNameError\u001b[0m: name 'minutesd' is not defined"
     ]
    }
   ],
   "source": [
    "print(minutesd)   #uncomment it to test"
   ]
  },
  {
   "cell_type": "markdown",
   "id": "48d7bae5-f550-4642-85af-ecbc98a69166",
   "metadata": {},
   "source": [
    "Can we put a value of 27 in the function? we used an if statement, but in that case the variables hour, minute and seconds, were not created, so the function will not know what to return us."
   ]
  },
  {
   "cell_type": "code",
   "execution_count": 94,
   "id": "d8661155-6ead-4e41-8010-1fb2a3c4136c",
   "metadata": {},
   "outputs": [
    {
     "ename": "UnboundLocalError",
     "evalue": "local variable 'hours' referenced before assignment",
     "output_type": "error",
     "traceback": [
      "\u001b[0;31m---------------------------------------------------------------------------\u001b[0m",
      "\u001b[0;31mUnboundLocalError\u001b[0m                         Traceback (most recent call last)",
      "Cell \u001b[0;32mIn[94], line 1\u001b[0m\n\u001b[0;32m----> 1\u001b[0m \u001b[43mdecimal_time\u001b[49m\u001b[43m(\u001b[49m\u001b[38;5;241;43m30\u001b[39;49m\u001b[43m)\u001b[49m\n",
      "Cell \u001b[0;32mIn[90], line 16\u001b[0m, in \u001b[0;36mdecimal_time\u001b[0;34m(t)\u001b[0m\n\u001b[1;32m     13\u001b[0m     minutes \u001b[38;5;241m=\u001b[39m \u001b[38;5;28mint\u001b[39m(minutesd)    \u001b[38;5;66;03m#but the integer part of that calculation\u001b[39;00m\n\u001b[1;32m     14\u001b[0m     seconds \u001b[38;5;241m=\u001b[39m (minutesd \u001b[38;5;241m-\u001b[39m minutes)\u001b[38;5;241m*\u001b[39m\u001b[38;5;241m60\u001b[39m \u001b[38;5;66;03m#seconds can be decimal\u001b[39;00m\n\u001b[0;32m---> 16\u001b[0m \u001b[38;5;28;01mreturn\u001b[39;00m \u001b[43mhours\u001b[49m, minutes, seconds\n",
      "\u001b[0;31mUnboundLocalError\u001b[0m: local variable 'hours' referenced before assignment"
     ]
    }
   ],
   "source": [
    "decimal_time(30)  #uncomment it to test"
   ]
  },
  {
   "cell_type": "markdown",
   "id": "4b261a32-4d3e-485f-920c-dcc2bb3309e8",
   "metadata": {},
   "source": [
    "So, to fix this we can put an else and return None values."
   ]
  },
  {
   "cell_type": "code",
   "execution_count": 95,
   "id": "6c5ca021-6865-40a2-b72f-de8d0f4ab57f",
   "metadata": {},
   "outputs": [],
   "source": [
    "## Function decimal time to time\n",
    "\n",
    "def decimal_time(t):\n",
    "    # t is the hour in decimal time\n",
    "    if t <= 24: #just check if the time is valid\n",
    "        hours = int(t)    #hours would be the integer part\n",
    "        minutesd = (t - hours)*60  #minutes are the decimal part multiplied by 60\n",
    "        minutes = int(minutesd)    #but the integer part of that calculation\n",
    "        seconds = (minutesd - minutes)*60 #seconds can be decimal\n",
    "    else:\n",
    "        hours = None\n",
    "        minutes = None\n",
    "        seconds = None\n",
    "    return hours, minutes, seconds #we will return all three values\n"
   ]
  },
  {
   "cell_type": "code",
   "execution_count": 98,
   "id": "4f386ed1-a407-46e6-99f0-d47338316387",
   "metadata": {},
   "outputs": [
    {
     "data": {
      "text/plain": [
       "(4, 15, 0.0)"
      ]
     },
     "execution_count": 98,
     "metadata": {},
     "output_type": "execute_result"
    }
   ],
   "source": [
    "decimal_time(4.25)"
   ]
  },
  {
   "cell_type": "markdown",
   "id": "f1563e5e-d2fb-4eef-bc8d-a45e9919b13b",
   "metadata": {},
   "source": [
    "There are a LOT of topics about functions, now we worked with simple ones, but some topics that I find relevant are:\n",
    " - [Default parameters](https://www.geeksforgeeks.org/default-arguments-in-python/): These are useful if a value is usually used as default, but if we want to change it, we only need to add a parameter when we call it.\n",
    " - [Recursive functions](https://www.programiz.com/python-programming/recursion): Are functions that call themselves, these are pretty useful in certain math problems."
   ]
  },
  {
   "cell_type": "markdown",
   "id": "c53f26df-8cfb-48ef-adb9-afe928ae0e53",
   "metadata": {},
   "source": [
    "<b><font color=\"blue\" size=5>Exercise 3: Is it really cold?</font></b>  \n",
    "_Based in the exercises in the [Python for Geographic Data Analysis](https://pythongis.org/part1/chapter-02/nb/06-exercises.html)_ webpage.\n",
    "\n",
    "\n",
    "<div>\n",
    "<img src=\"figs/memes/tahelao.jpg\" width=\"200\"/>\n",
    "</div>\n",
    "\n",
    "Below you can find a simple way to classify temperatures in Celsius.\n",
    "\n",
    "\n",
    "|Category    |Temperature range                  | List name     |\n",
    "|:-----------|:----------------------------------|:-------------:|\n",
    "|Cold        |Less than -2 deg. C                | `cold`        |\n",
    "|Slippery    |Greater than or equal to -2 deg. C | `slippery`    |\n",
    "|            |and less than +2 deg. C            |               |\n",
    "|Comfortable |Greater than or equal to +2 deg. C | `comfortable` |\n",
    "|            |and less than +15 deg. C           |               |\n",
    "|Warm        |Greater than or equal to +15 deg. C | `warm`        |\n",
    "\n",
    "\n",
    "Write a function (call it whatever you want), to classify a certain temperature. But it must return `0` if cold, `1` if slippery, `2` if comfortable, `3` if warm.\n",
    "\n",
    "**For advanced users:** Make the function work for Fahrenheit and Kelvin, assuming the default units are in Celsius but the passing units as a second parameter, for example `temp_classifier(10)` or `temp_classifier(10, 'C')` would calculate for Celcius, `temp_classifier(31, 'F')` for Fahrenheit, and the same for Kelvin (using `K`). Hint: Convert everything to Celsius and use a normal classification."
   ]
  },
  {
   "cell_type": "code",
   "execution_count": 99,
   "id": "d2b27f00-d420-46a2-9d34-c9e07703f321",
   "metadata": {},
   "outputs": [],
   "source": [
    "## Write here your function\n",
    "def clasificador_de_temp(u):\n",
    "    if u < -2:\n",
    "        r = 0\n",
    "    elif -2 <= u < 2:\n",
    "        r = 1\n",
    "    elif 2 <= u < 15:\n",
    "        r = 2\n",
    "    else:\n",
    "        r = 3\n",
    "    \n",
    "    return r\n"
   ]
  },
  {
   "cell_type": "code",
   "execution_count": 102,
   "id": "cf8b8f9d-a9e9-4867-9471-1181061108a0",
   "metadata": {},
   "outputs": [
    {
     "data": {
      "text/plain": [
       "0"
      ]
     },
     "execution_count": 102,
     "metadata": {},
     "output_type": "execute_result"
    }
   ],
   "source": [
    "## Test it here\n",
    "clasificador_de_temp(-100)\n"
   ]
  },
  {
   "cell_type": "markdown",
   "id": "9dfd063e-2fae-4b24-beca-a686400003b3",
   "metadata": {},
   "source": [
    "<details><summary><b><font color=\"blue\">Click here for the solution to Exercise 3</font></b></summary>\n",
    "\n",
    "```\n",
    "def temp_classifier(temp):\n",
    "    if temp < -2:\n",
    "        v = 0\n",
    "    elif -2 <= temp < 2:\n",
    "        v = 1\n",
    "    elif 2 <= temp < 15:\n",
    "        v = 2\n",
    "    elif temp >= 15:\n",
    "        v = 3\n",
    "    else: #in case we have, for example, an string passed as temp\n",
    "        v = None\n",
    "    return v\n",
    "\n",
    "temp_classifier(13)\n",
    "```\n",
    "\n"
   ]
  },
  {
   "cell_type": "markdown",
   "id": "272c3504-b42b-4b08-8630-e6bc62be5c6d",
   "metadata": {},
   "source": [
    "## 2.4. Importing libraries\n",
    "\n",
    "A library is a piece of code already written and (usually) well documented. We will use a lot of them! Such as pandas for tables, matplotlib for plotting and numpy for numerical calculations.\n",
    "\n",
    "To import a library you put the following line (it's a good practice to put it always at the start of your script)."
   ]
  },
  {
   "cell_type": "code",
   "execution_count": 103,
   "id": "93fe3a1e-85ff-4a1e-99d4-809a1f6fca2a",
   "metadata": {},
   "outputs": [],
   "source": [
    "import pandas\n",
    "\n",
    "# para utilizar cualquier cosa de pandas, tendría que:\n",
    "#pandas.DataFrame()"
   ]
  },
  {
   "cell_type": "markdown",
   "id": "b8376987-aebc-4133-b83e-533d73760c76",
   "metadata": {},
   "source": [
    "You can give it an alias, if you don't want to write always `pandas`, there are common alias for the most used libraries:"
   ]
  },
  {
   "cell_type": "code",
   "execution_count": 104,
   "id": "94b33a77-ded7-4fc7-a839-1c6db1755a52",
   "metadata": {},
   "outputs": [],
   "source": [
    "import pandas as pd\n",
    "import numpy as np\n",
    "import matplotlib.pyplot as plt\n",
    "import matplotlib.dates as mdates\n",
    "import xarray as xr\n",
    "import scipy "
   ]
  },
  {
   "cell_type": "code",
   "execution_count": 105,
   "id": "780c9456",
   "metadata": {},
   "outputs": [
    {
     "name": "stdout",
     "output_type": "stream",
     "text": [
      "3.141592653589793\n"
     ]
    }
   ],
   "source": [
    "from numpy import pi as pi\n"
   ]
  },
  {
   "cell_type": "markdown",
   "id": "469251ec-9155-4a2e-9c9e-d18702b95727",
   "metadata": {},
   "source": [
    "And to use any of the methods, classes or functions within that library, you write `pd.function_to_use()`. That is the most simple way to put it!"
   ]
  },
  {
   "cell_type": "markdown",
   "id": "b208180a-098e-4209-986b-9604bba45d68",
   "metadata": {},
   "source": [
    "### Importing functions from another file\n",
    "\n",
    "We will use your function to classify temperatures, and I wrote a (misterious) function to know the most long consecutive type of day (for example, we had a 10 consecutive record of warm/cold days!)\n",
    "\n",
    "But here is the plot twist, you won't know how I did it, you only care for the result.\n",
    "\n",
    "My function is located at the file `lud_script.py`, in the same folder, and function is called `record_temp()`, we can call it by"
   ]
  },
  {
   "cell_type": "code",
   "execution_count": 106,
   "id": "43158b20-b547-40f2-b1e1-5ebe85794c54",
   "metadata": {},
   "outputs": [],
   "source": [
    "from lud_script import record_temp #para importar solo record_temp"
   ]
  },
  {
   "cell_type": "code",
   "execution_count": 107,
   "id": "f5ecfaf6",
   "metadata": {},
   "outputs": [],
   "source": [
    "from lud_script import *"
   ]
  },
  {
   "cell_type": "markdown",
   "id": "b10c6ec1-52fa-41d7-8fe3-eba734d4fa55",
   "metadata": {},
   "source": [
    "To read which parameters it uses, we can ask for help (literally)"
   ]
  },
  {
   "cell_type": "code",
   "execution_count": 108,
   "id": "22857144-a4f8-4d52-9f5d-7628b554943c",
   "metadata": {},
   "outputs": [
    {
     "name": "stdout",
     "output_type": "stream",
     "text": [
      "Help on function record_temp in module lud_script:\n",
      "\n",
      "record_temp(list_temps, function, classification=3)\n",
      "    Calculates the maximum record of consecutive days with that classification of temperature given a list.\n",
      "    \n",
      "    Args:\n",
      "        list_temps (list): List of temperatures\n",
      "        function (function): Function to classify them (exercise 3)\n",
      "        classification (int, optional): Type of day to get the max record. Defaults to 3.\n",
      "    \n",
      "    Returns:\n",
      "        Max record (int): Maximum number of consecutive days with that classification. If there were not prints a message and returns 0.\n",
      "\n"
     ]
    }
   ],
   "source": [
    "help(record_temp)"
   ]
  },
  {
   "cell_type": "markdown",
   "id": "0f16bec4-8c67-4fa2-b6f9-ff3193398963",
   "metadata": {},
   "source": [
    "We can see that it needs three arguments (the last one optional):\n",
    " - A list of temperatures\n",
    " - A function (the one we did before to classify temperatures)\n",
    " - The type of day we want to see the max number of consecutive days of\n",
    " \n",
    "The last one is optional, if we don't pass it to the function, it will assume it's for warm days (3).\n",
    "\n",
    "Below I put a test list of temperatures:"
   ]
  },
  {
   "cell_type": "code",
   "execution_count": 109,
   "id": "3e7c1d4e-0acd-4632-8a6a-4485e9bbc386",
   "metadata": {},
   "outputs": [],
   "source": [
    "tst_lst = [-10, -10, -10, -10, 5, 5, 20, 40, 50, 16, 70, 16, 17, 18]\n"
   ]
  },
  {
   "cell_type": "markdown",
   "id": "08943ef0-8596-4b64-9192-a48933db0477",
   "metadata": {},
   "source": [
    "Last step! Let's call this function"
   ]
  },
  {
   "cell_type": "code",
   "execution_count": 111,
   "id": "52129f96-f889-410b-b83a-c9461072d629",
   "metadata": {},
   "outputs": [
    {
     "data": {
      "text/plain": [
       "4"
      ]
     },
     "execution_count": 111,
     "metadata": {},
     "output_type": "execute_result"
    }
   ],
   "source": [
    "# it can't run without knowing your function!\n",
    "record_temp(list_temps = tst_lst, function = clasificador_de_temp,\n",
    "           classification=0)"
   ]
  },
  {
   "cell_type": "markdown",
   "id": "85019549-e357-45a5-a45c-64d8d700b547",
   "metadata": {},
   "source": [
    "<b><font color=\"blue\" size=5>Exercise 4: Ran out of names...</font></b>  \n",
    "\n",
    " 1. Create a list of fake temperatures to test the function\n",
    " 2. Call it for each type of day\n",
    " 3. Think of a way on how the algorithm works\n",
    " 4. How this function would be useful for scientific purposes? Let's debate it"
   ]
  },
  {
   "cell_type": "code",
   "execution_count": null,
   "id": "d7f972e7-5741-4443-94a4-014606acd2b0",
   "metadata": {},
   "outputs": [],
   "source": [
    "## write your solution here\n",
    "\n"
   ]
  },
  {
   "cell_type": "markdown",
   "id": "395a3bff-ab84-4308-b788-3419e8bbbef1",
   "metadata": {},
   "source": [
    "<sup>Laboratory for Atmospheric Physics - UMSA</sup>  \n",
    "<sup>May 2024. Written for educational purposes.</sup>"
   ]
  }
 ],
 "metadata": {
  "kernelspec": {
   "display_name": "Python 3 (ipykernel)",
   "language": "python",
   "name": "python3"
  },
  "language_info": {
   "codemirror_mode": {
    "name": "ipython",
    "version": 3
   },
   "file_extension": ".py",
   "mimetype": "text/x-python",
   "name": "python",
   "nbconvert_exporter": "python",
   "pygments_lexer": "ipython3",
   "version": "3.9.13"
  }
 },
 "nbformat": 4,
 "nbformat_minor": 5
}
