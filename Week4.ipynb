{
 "cells": [
  {
   "cell_type": "markdown",
   "id": "112cc18e-422d-4b19-8f4f-0f4e3b89b65c",
   "metadata": {},
   "source": [
    "# A Python short course on Atmospheric Data Analysis - Week 4 (final?)\n",
    "\n",
    "This Python tutorial was written in July 2024 by Ludving Cano, Research Assistant at the [Laboratory for Atmospheric Physics](http://www.chacaltaya.edu.bo) - UMSA (lcano@chacaltaya.edu.bo). It shows some topics on plotting, such as plotting multiple series in one plot or automate plotting.\n",
    "\n",
    "On **week 4** we will cover:\n",
    "\n",
    " - Plotting multiple series at the same time (same plot)\n",
    " - Creating a twin axis\n",
    " - Automate plot generation\n",
    " - Subplots (if we have time)"
   ]
  },
  {
   "cell_type": "markdown",
   "id": "43aedf6a-f5d1-46d9-9b21-e7d6d368405b",
   "metadata": {},
   "source": [
    "### Importing libraries\n",
    "The libraries required for our duties today are:"
   ]
  },
  {
   "cell_type": "code",
   "execution_count": null,
   "id": "f0bc7f6a-4fbb-4d04-9058-527940bc7fe7",
   "metadata": {},
   "outputs": [],
   "source": [
    "import pandas as pd\n",
    "import datetime as dt\n",
    "import matplotlib.pyplot as plt\n",
    "import matplotlib.dates as mdates\n",
    "import numpy as np #just in case"
   ]
  },
  {
   "cell_type": "markdown",
   "id": "75c66aed-d9e6-4761-a098-facde16da263",
   "metadata": {},
   "source": [
    "### Our datasets\n",
    "\n",
    "Today we'll work with the folder `data_FabForno`, an experimental side of last year, containing data for:\n",
    " 1. **Black Carbon**, using the AE51 instrument\n",
    " 2. **Particulate Matter** using the Airnote\n",
    " 3. **Meteorological Variables** from the Davis Weather Station\n",
    " 4. **Radiosonde data** [new] for the balloon data\n",
    " \n",
    "As excercise, create paths for each one of these files below, as suggestion you can call the variables `[ìnstrument]_path` ."
   ]
  },
  {
   "cell_type": "code",
   "execution_count": null,
   "id": "83e03bb9-f891-4e02-a605-d99658fd6e4c",
   "metadata": {},
   "outputs": [],
   "source": [
    "# create your paths here (all relative)\n",
    "\n"
   ]
  },
  {
   "cell_type": "markdown",
   "id": "629a6c85-f4b3-4ba8-a9da-96ba5fe31199",
   "metadata": {},
   "source": [
    "## 1. Plotting multiple series at the same time\n",
    "So, last week we started doing some plots of one variable, if we wanted to inspect another variable we change the variable or create another plot. But it's very common for us to want to know the behaviour of two or more variables across time, this is important as we are not checking the **correlation** between these variables (yet, sometimes this isn't even important or easy to catch).\n",
    "\n",
    "### 1.1. Example of PM\n",
    "Last week we plotted the Particulate Matter variable, now our task is to create a plot of these three variables at the same time. This can be done in a similar way as before.\n",
    "\n",
    "**Important** for this all the variables must be in the same units!\n",
    "\n",
    "\n",
    "<b><font color=\"green\" size=5>Recap: PM algorithm</font></b>\n",
    "\n",
    "1. Copy your code form week 2 or 3 to open the Airnote\n",
    "2. Unpack your variables (call the column) to the following:\n",
    "  - pm1 for PM1\n",
    "  - pm25 for PM2.5\n",
    "  - pm10 for PM10\n",
    "  - airnote_time for the datetime column (**must** contain a datetime-type column)\n",
    "\n",
    "Estimated time: 5 minutes"
   ]
  },
  {
   "cell_type": "code",
   "execution_count": null,
   "id": "e1634956-eede-4bd4-affd-e0a9c8b0279d",
   "metadata": {},
   "outputs": [],
   "source": []
  },
  {
   "cell_type": "markdown",
   "id": "c96dfb6c-7bb1-4201-9792-d6ad5c17194c",
   "metadata": {},
   "source": [
    "<details><summary><b><font color=\"green\">Click here for the solutions</font></b></summary>\n",
    "\n",
    "```\n",
    "# reading the data\n",
    "airnote_pth = 'data_FabForno/Airnote_forno.csv'\n",
    "airnote = pd.read_csv(airnote_pth)\n",
    "\n",
    "# getting the desired columns\n",
    "airnote_time = pd.to_datetime(airnote[['Year','Month','Day','Hour','Minute']])\n",
    "pm1 = airnote['PM1']\n",
    "pm25 = airnote['PM2.5']\n",
    "pm10 = airnote['PM10']\n",
    "\n",
    "```"
   ]
  },
  {
   "cell_type": "markdown",
   "id": "18dcf172-429b-4900-86ce-e0440982bcd2",
   "metadata": {},
   "source": [
    "Now that we have the variables, let's plot them out\n",
    "\n",
    "First we will create our plots, for now we'll do it simply by overlapping more `plt.plot()` to the same figure. \n",
    "\n",
    "Luckily, matplotlib will assign a different color for each new thing added, but it's important to add a label and a legend."
   ]
  },
  {
   "cell_type": "code",
   "execution_count": null,
   "id": "ae6916a2-9f30-4f4b-b724-7d9db0b2b60c",
   "metadata": {},
   "outputs": [],
   "source": [
    "# Creating a figure, this will help if you work on scripts\n",
    "plt.figure()\n",
    "\n",
    "# Here plot all of the series\n",
    "\n",
    "\n",
    "\n",
    "\n",
    "# Setting up the time axis\n",
    "plt.gca().xaxis.set_major_formatter(mdates.DateFormatter('%H:%M'))\n",
    "\n",
    "# Adding a legend\n",
    "plt.legend()\n",
    "\n",
    "# Adding a grid (comment if you don't want it)\n",
    "plt.grid()\n",
    "\n",
    "# Here add the x and y labels, and the title\n",
    "\n",
    "\n",
    "\n",
    "# Exporting the figure\n",
    "plt.savefig('figs/pm_airnote.png', dpi = 300)"
   ]
  },
  {
   "cell_type": "markdown",
   "id": "32842796-9389-4234-8bde-e3e1207141fb",
   "metadata": {},
   "source": [
    "<details><summary><b><font color=\"green\">Click here for the solutions</font></b></summary>\n",
    "\n",
    "```\n",
    "# Plotting all the variables\n",
    "plt.plot(airnote_time, pm1, label = 'PM1')\n",
    "plt.plot(airnote_time, pm25, label = 'PM2.5')\n",
    "plt.plot(airnote_time, pm10, label = 'PM10')\n",
    "\n",
    "\n",
    "# Adding the x and y labels, and the title\n",
    "plt.xlabel('Local Time')\n",
    "plt.ylabel('Particulate Matter [$\\mu g$]')\n",
    "\n",
    "```\n",
    "    "
   ]
  },
  {
   "cell_type": "markdown",
   "id": "3ac451c7-d322-493b-8821-d71512824faa",
   "metadata": {},
   "source": [
    "## 2. Plotting another variable in a twin axis\n",
    "So, we want to know whether the PM varies with the temperature, so, we can plot them in the same figure BUT the units are going to be different! What to we do then? We can use the left y axis to put the units of the new variable and then it will fit.\n",
    "\n",
    "First of all, let's read the Davis data using the data provided in the last week\n",
    "\n",
    "**Important** replace the `davis_pth` with your path defined in the first step of this notebook"
   ]
  },
  {
   "cell_type": "code",
   "execution_count": null,
   "id": "aa5a21ea-813c-4b4e-a0dc-d8ddb79fe314",
   "metadata": {},
   "outputs": [],
   "source": [
    "davis_pth = 'data_FabForno/FabricaForno_Davis_WS.txt'\n",
    "\n",
    "\n",
    "\n",
    "davis = pd.read_csv(davis_pth, skiprows=2, sep = '\\t', header = None)\n",
    "\n",
    "#recreating the header\n",
    "hd1, hd2 = [i.split('\\t') for i in open('data_samples/FabricaForno_Davis_WS.txt').readlines()[:2]]\n",
    "hdd = [(i+' '+j).strip() for i, j in zip(hd1, hd2)]\n",
    "\n",
    "davis.columns = hdd\n",
    "davis.head(3)"
   ]
  },
  {
   "cell_type": "markdown",
   "id": "75fa78b0-30ba-4e5f-afb8-e44389bc2786",
   "metadata": {},
   "source": [
    "We observed last week that this dataset contains data for three days, and the Airnote only one, so we can slice the dataset according to the limits of the Airnote dataset, for this:"
   ]
  },
  {
   "cell_type": "code",
   "execution_count": null,
   "id": "ba85b807-1641-4cd5-b035-33105bfb31e0",
   "metadata": {},
   "outputs": [],
   "source": [
    "t0 = airnote_time.min()\n",
    "tf = airnote_time.max()\n",
    "davis_time = pd.to_datetime(davis.Date + ' ' + davis.Time)\n",
    "\n",
    "davis2 = davis[(t0 <= davis_time) & (davis_time <= tf)]\n",
    "\n",
    "davis2"
   ]
  },
  {
   "cell_type": "markdown",
   "id": "ab5a2dac-61eb-40cd-9e11-be18b4e01155",
   "metadata": {},
   "source": [
    "We will create the datetime and store it into `davis_time` and the temperature into `davis_temp`.\n"
   ]
  },
  {
   "cell_type": "code",
   "execution_count": null,
   "id": "3c5b0a11-f168-4da9-8284-4f102b99790a",
   "metadata": {},
   "outputs": [],
   "source": [
    "davis_time = pd.to_datetime(davis2.Date + ' ' + davis2.Time)\n",
    "davis_temp = davis2['Temp Out']"
   ]
  },
  {
   "cell_type": "code",
   "execution_count": null,
   "id": "379bf0aa-2df0-4a4d-bf01-873dbee51d5a",
   "metadata": {},
   "outputs": [],
   "source": [
    "# Creating a figure, this will help if you work on scripts\n",
    "plt.figure()\n",
    "\n",
    "# Here plot all of the series\n",
    "\n",
    "\n",
    "plt.plot(airnote_time, pm1, label = 'PM1')\n",
    "plt.plot(airnote_time, pm25, label = 'PM2.5')\n",
    "plt.plot(airnote_time, pm10, label = 'PM10')\n",
    "# Adding a legend\n",
    "plt.legend()\n",
    "\n",
    "ax2 = plt.gca().twinx()\n",
    "ax2.plot(davis_time, davis_temp)\n",
    "\n",
    "# Setting up the time axis\n",
    "plt.gca().xaxis.set_major_formatter(mdates.DateFormatter('%H:%M'))\n",
    "\n",
    "\n",
    "\n",
    "\n",
    "# Here add the x and y labels, and the title\n",
    "\n"
   ]
  },
  {
   "cell_type": "markdown",
   "id": "d562ac0d-ea06-46ac-b64f-8e4053d65c24",
   "metadata": {},
   "source": [
    "We can observe that the plot is created blue, change it to black, or another color.\n",
    "Now we want to add the x and y labels"
   ]
  },
  {
   "cell_type": "code",
   "execution_count": null,
   "id": "4b93efa3-caa1-41d7-ab7a-987846130de7",
   "metadata": {},
   "outputs": [],
   "source": [
    "# Creating a figure, this will help if you work on scripts\n",
    "plt.figure()\n",
    "\n",
    "# Here plot all of the series\n",
    "\n",
    "\n",
    "plt.plot(airnote_time, pm1, label = 'PM1')\n",
    "plt.plot(airnote_time, pm25, label = 'PM2.5')\n",
    "plt.plot(airnote_time, pm10, label = 'PM10')\n",
    "# Adding the y label for the first y axis\n",
    "plt.ylabel('PM')\n",
    "\n",
    "# Adding a legend\n",
    "plt.legend()\n",
    "\n",
    "ax2 = plt.gca().twinx()\n",
    "ax2.plot(davis_time, davis_temp, c = 'k')\n",
    "ax2.set_ylabel('Temperature')\n",
    "\n",
    "# Setting up the time axis\n",
    "plt.gca().xaxis.set_major_formatter(mdates.DateFormatter('%H:%M'))\n"
   ]
  },
  {
   "cell_type": "markdown",
   "id": "f6a20659-f581-4a42-95ed-07e8899b2987",
   "metadata": {},
   "source": [
    "We can see that the code gets messy, we need to be very careful into what axis to use when, the order, and even when to use `plt.ylabel` and `ax2.set_ylabel`. For that, we will start using a general convention, using pure axes and pure figs.\n",
    "\n",
    "It's important for the next step too, so let's take a look.\n",
    "\n",
    "### 2.1. Creating `fig, ax` objects\n",
    "\n",
    "In many Python tutorials you will see the generation of a plot in two ways: using `fig, ax = plt.subplots()` or `fig = plt.figure() ; ax = plt.axes()`. For consistency we will use the first method, in this [forum post](https://stackoverflow.com/questions/34162443/why-do-many-examples-use-fig-ax-plt-subplots) you can see some explanations on why do people use this.\n",
    "\n",
    "In general when we have these two objects separately we can to the following:\n",
    "\n",
    " - Using `fig` we do general things of the figure, like exporting it or setting up subplots\n",
    " - Using `ax` we are caring of the frame or axis, we can create its twin or to changes on each ax.\n",
    " \n",
    "To create them, we do:"
   ]
  },
  {
   "cell_type": "code",
   "execution_count": null,
   "id": "d4482fef-e086-49c4-ba34-4a52fe9cec43",
   "metadata": {},
   "outputs": [],
   "source": [
    "fig, ax = plt.subplots()"
   ]
  },
  {
   "cell_type": "markdown",
   "id": "929e4aa6-c390-4a12-9117-00d4bc850c78",
   "metadata": {},
   "source": [
    "You can see that these are an empty figure, let's replicate the last plot using this tool.\n",
    "\n"
   ]
  },
  {
   "cell_type": "code",
   "execution_count": null,
   "id": "295db21e-7325-4704-b4ec-de99d7439d68",
   "metadata": {},
   "outputs": [],
   "source": [
    "## EXAMPLE TO BE WORKED WITH THE INSTRUCTOR\n",
    "\n",
    "\n"
   ]
  },
  {
   "cell_type": "markdown",
   "id": "78def612-0bf8-4082-82bd-8de9d4e3c8a3",
   "metadata": {},
   "source": [
    "<details><summary><b><font color=\"WHITE\">If the instructor is not available, click here</font></b></summary>\n",
    "\n",
    "```\n",
    "# Creating these two objects\n",
    "fig, ax = plt.subplots()\n",
    "\n",
    "\n",
    "## WORKING IN THE FIRST AXIS\n",
    "ax.plot(airnote_time, pm1, label = 'PM1')\n",
    "ax.plot(airnote_time, pm25, label = 'PM2.5')\n",
    "ax.plot(airnote_time, pm10, label = 'PM10')\n",
    "ax.grid()\n",
    "ax.set_xlabel('Local Time')\n",
    "ax.set_ylabel('PM')\n",
    "\n",
    "ax.set_title('Temperature and Particulate Matter')\n",
    "\n",
    "## SECOND AXIS\n",
    "#creating its twin\n",
    "ax2 = ax.twinx()\n",
    "ax2.plot(davis_time, davis_temp, 'k--',label = 'Temp')\n",
    "ax2.set_ylabel('Temperature [°C]')\n",
    "\n",
    "# setting up the time\n",
    "ax.xaxis.set_major_formatter(mdates.DateFormatter('%H:%M'))\n",
    "\n",
    "\n",
    "## GENERAL THINGS IN THE FIGURE\n",
    "fig.legend()\n",
    "fig.savefig('figs/temp_pm.png', dpi = 300)# reading the data\n",
    "airnote_pth = 'data_FabForno/Airnote_forno.csv'\n",
    "airnote = pd.read_csv(airnote_pth)\n",
    "\n",
    "# getting the desired columns\n",
    "airnote_time = pd.to_datetime(airnote[['Year','Month','Day','Hour','Minute']])\n",
    "pm1 = airnote['PM1']\n",
    "pm25 = airnote['PM2.5']\n",
    "pm10 = airnote['PM10']\n",
    "```"
   ]
  },
  {
   "cell_type": "markdown",
   "id": "8f2e3dd6-6688-4d51-8bc4-c130abe0d075",
   "metadata": {},
   "source": [
    "## 3. Creating plots automatically\n",
    "We enter a more general topic, let's take for example the Davis dataset, where we know we have three days of data and let's create a separate plot for each day automatically.\n",
    "\n",
    "Let's see our original data, which was stored in `davis`"
   ]
  },
  {
   "cell_type": "code",
   "execution_count": null,
   "id": "d30ef904-e991-4812-9a4c-a4ecba32724a",
   "metadata": {},
   "outputs": [],
   "source": [
    "davis"
   ]
  },
  {
   "cell_type": "markdown",
   "id": "c74a6d14-aeb8-41e7-85fa-865aebe05fc3",
   "metadata": {},
   "source": [
    "I forgot to add a `datetime` column before, so let's do it now:"
   ]
  },
  {
   "cell_type": "code",
   "execution_count": null,
   "id": "6e8a8bec-3535-4df0-b76c-fee7dcc4e624",
   "metadata": {},
   "outputs": [],
   "source": [
    "davis['datetime'] = pd.to_datetime(davis.Date + ' ' + davis.Time)"
   ]
  },
  {
   "cell_type": "markdown",
   "id": "1025bc0f-7fcc-430e-91fb-6612e12eccd2",
   "metadata": {},
   "source": [
    "Now, we can get a column of the respective day, for example:"
   ]
  },
  {
   "cell_type": "code",
   "execution_count": null,
   "id": "14b93261-a0fd-4f1d-be40-77da4b0d1455",
   "metadata": {},
   "outputs": [],
   "source": [
    "davis['day'] = davis.datetime.dt.day\n",
    "davis.day"
   ]
  },
  {
   "cell_type": "markdown",
   "id": "5641f555-8d5b-4d12-bc74-9bd986f43400",
   "metadata": {},
   "source": [
    "Now I'll explain our way of automate this:\n",
    " - Get the unique values for the column of days\n",
    " - Iterate over unique values\n",
    " - Get an auxiliary dataset where the day is equal to our iterator\n",
    " - Plot it\n",
    " - Save it with a formatted date\n",
    " - Next plot\n",
    " \n",
    "We will store it in a folder called `temperature_plots`, create it if necessary"
   ]
  },
  {
   "cell_type": "code",
   "execution_count": null,
   "id": "28862df9-c465-4764-80c5-01e0b8488ef0",
   "metadata": {},
   "outputs": [],
   "source": [
    "## EXAMPLE TO BE WORKED WITH THE INSTRUCTOR\n",
    "    \n",
    "    "
   ]
  },
  {
   "cell_type": "markdown",
   "id": "ae3f1e50-ba65-4121-905b-d6137b400c20",
   "metadata": {},
   "source": [
    "<details><summary><b><font color=\"WHITE\">If the instructor is not available, click here</font></b></summary>\n",
    "\n",
    "```\n",
    "# Getting the unique values\n",
    "unique_days = davis.day.unique()\n",
    "\n",
    "# Iterating over the unique days\n",
    "for day in unique_days:\n",
    "    # Getting an auxiliary dataset\n",
    "    davis_aux = davis[davis.day == day]\n",
    "    \n",
    "    # Plotting the temperature\n",
    "    plt.figure() #this is important to generate a new plot every iteration\n",
    "    plt.plot(davis_aux.datetime, davis_aux['Temp Out'])\n",
    "    plt.xlabel('Local Time')\n",
    "    plt.ylabel('Temperature [°C]')\n",
    "    \n",
    "\n",
    "    # Setting up the time axis\n",
    "    plt.gca().xaxis.set_major_formatter(mdates.DateFormatter('%H:%M'))\n",
    "    \n",
    "    # Getting the name for the plot, using the first value in our aux dataset\n",
    "    date0 = davis_aux.datetime.iloc[0,]\n",
    "    date_f = dt.datetime.strftime(date0, '%d_%m_%Y')\n",
    "    \n",
    "    # Building up a figure name\n",
    "    plot_name = f'temperature_plots/temperature_{date_f}.png'\n",
    "    \n",
    "    plt.savefig(plot_name, dpi = 300)\n",
    "    plt.close() #when we will open more than 10 plots this is important\n",
    "```"
   ]
  },
  {
   "cell_type": "markdown",
   "id": "841d6083-f7e1-49b8-8795-edf67a7874ba",
   "metadata": {},
   "source": [
    "## 4. Creating subplots\n",
    "If we have time we will work this in class."
   ]
  },
  {
   "cell_type": "code",
   "execution_count": null,
   "id": "29b7cd14-5cd8-4b5d-ae4c-77b8030c89a1",
   "metadata": {},
   "outputs": [],
   "source": []
  },
  {
   "cell_type": "code",
   "execution_count": null,
   "id": "69e84d88-b726-4d7f-a34c-6fd732ac0105",
   "metadata": {},
   "outputs": [],
   "source": []
  },
  {
   "cell_type": "markdown",
   "id": "bd57f0b7-a57a-43d5-a07a-22602d119dca",
   "metadata": {},
   "source": [
    "Thanks for your assistance to this class! Hope this was useful for you :)"
   ]
  }
 ],
 "metadata": {
  "kernelspec": {
   "display_name": "Python 3 (ipykernel)",
   "language": "python",
   "name": "python3"
  },
  "language_info": {
   "codemirror_mode": {
    "name": "ipython",
    "version": 3
   },
   "file_extension": ".py",
   "mimetype": "text/x-python",
   "name": "python",
   "nbconvert_exporter": "python",
   "pygments_lexer": "ipython3",
   "version": "3.9.13"
  }
 },
 "nbformat": 4,
 "nbformat_minor": 5
}
