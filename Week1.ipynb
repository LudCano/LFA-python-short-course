{
 "cells": [
  {
   "cell_type": "markdown",
   "id": "6056a583",
   "metadata": {},
   "source": [
    "# A Python short course on Atmospheric Data Analysis (with libraries)\n",
    "This Python tutorial was written in May 2024 by Ludving Cano, Research Assistant at the [Laboratory for Atmospheric Physics](http://www.chacaltaya.edu.bo) - UMSA (lcano@chacaltaya.edu.bo). It shows the basic usage of jupyter notebooks and basic Python structures to work with.\n",
    "\n",
    "On **week 1** we will cover:\n",
    "\n",
    " - Installation (Let's make sure we all have a working Python Environment, in the cloud or locally)\n",
    " - Python & You - Our motivation and scope of the course (slides)\n",
    " - Basic Usage of Jupyter Notebooks\n",
    " - Python basics:\n",
    "   - Variables\n",
    "   - Operations\n",
    "   - Structures: Conditionals and Loops\n",
    "   - Functions\n",
    "   - Calling libraries\n",
    " - How to read documentation (and not struggle in the process)"
   ]
  },
  {
   "cell_type": "markdown",
   "id": "77320f30",
   "metadata": {},
   "source": [
    "## 1. Using Jupyter notebooks\n",
    "\n",
    "First, of all, WHERE ARE WE?\n",
    "\n",
    "We need to learn that we are working in a **Jupyter Notebook**, it's a type of file (you can recognize it by the file extension `.ipynb`), its main advantage is that we can add easy-to-read text (rich text) and that the code is structured by cells. We will learn on how this is a great advantage (vs a regular Python script, which has the extension `.py`) later on.\n",
    "\n",
    "On a Jupyter Notebook we can have 3 types of cells: _Code, Markdown and Raw_. The first one is self-explanatory, on the last two, we can work on this kind of texts in the former and with HTML in the latter. To see which kind of cell you are on, double click it and it will show you the type in a dropdown above."
   ]
  },
  {
   "cell_type": "markdown",
   "id": "f0ec7c31",
   "metadata": {},
   "source": [
    "**To RUN a cell**, do a click over it and press _Run_ in the toolbar. If you don't want to use the mouse, press `Shift + Enter`"
   ]
  },
  {
   "cell_type": "code",
   "execution_count": 1,
   "id": "1d22face",
   "metadata": {},
   "outputs": [
    {
     "name": "stdout",
     "output_type": "stream",
     "text": [
      "You've succesfully run your first cell, Hello world!\n"
     ]
    }
   ],
   "source": [
    "print(\"You've succesfully run your first cell, Hello world!\")"
   ]
  },
  {
   "cell_type": "markdown",
   "id": "8fde7518",
   "metadata": {},
   "source": [
    "Pretty easy, right? Take into account some things:\n",
    "- **Variables are shared between cells**: This can be helpful or a pain sometimes, but in most cases can save us some time changing a cell and just executing that cell (we will use this for plotting).\n",
    "- **Plots are convenient**: Adding some 'magic commands' we can play with different plotting interfaces.\n",
    "- **Some data is better displayed on ipynb files**: For example Pandas Dataframes or netCDF4 summaries are better seen here.\n",
    "\n",
    "But not it's not all a bed of roses, some caveats of using Jupyter Notebook are:\n",
    "- **Not everybody uses Jupyter**: It's a well used tool for educational purposes (such are now), but sometimes you just want to run a script (`.py`) and nothing else, we will work with pure scripts later.\n",
    "- **You can't call functions**: For example, here I define a variable or a function, we can't call this function from another file, and this is possible in python scripts.\n",
    "- **We are using a browser/software**: This will consume memory, for the better or the worse, we can edit a python script even with a notepad or even in the same terminal.\n",
    "- **Sometimes we want to run everything everytime**: Yeah... This takes some extra clicks on Jupyter, but with a script we can execute from the terminal.\n",
    "\n",
    "Personally, I don't use Jupyter unless it's necessary (or if I want to use colab). At the end it's your decision and how comfortable are you with the way you code."
   ]
  },
  {
   "cell_type": "markdown",
   "id": "794f7952",
   "metadata": {},
   "source": [
    "## 2. Python Basics\n",
    "\n",
    "*Insert a dramatic voice:  \n",
    "\n",
    "\n",
    "<p style=\"text-align: center;\">Weeeelcome to the fantastic world of Python, where everything is possible with the right library!</p>\n",
    "\n",
    "<div>\n",
    "<img src=\"figs/memes/harry.jpeg\" width=\"200\"/>\n",
    "</div>\n",
    "\n",
    "Jokes aside, Python can be easy once you learn how to treat it. Now we will cover the most basic knowledge of it."
   ]
  },
  {
   "cell_type": "markdown",
   "id": "f26d02eb",
   "metadata": {},
   "source": [
    "### 2.1. Variables\n",
    "What is variable? Something that varies (ha ha ha).  \n",
    "A variable can be everything, a number, your name, a collection of all of your ex's or even the accumulated precipitation at a certain observatory in 2023.\n",
    "\n",
    "A variable have two main parts: its name and its value assignated. To create a variable we write `var_name = var_value`, where `var_value` can be everything.\n",
    "\n",
    "For now, we will focus on the basic types of variables:\n",
    "\n",
    "**2.1.1. Integer `int`**: An integer, such as 10, 20, -10"
   ]
  },
  {
   "cell_type": "code",
   "execution_count": 2,
   "id": "430cfaba",
   "metadata": {},
   "outputs": [
    {
     "data": {
      "text/plain": [
       "int"
      ]
     },
     "execution_count": 2,
     "metadata": {},
     "output_type": "execute_result"
    }
   ],
   "source": [
    "a = 10\n",
    "type(a) #to know the type of a certain variable, use the function type()"
   ]
  },
  {
   "cell_type": "markdown",
   "id": "25f157da",
   "metadata": {},
   "source": [
    "**2.1.2. Float `float`**: A floating point number, that is, a number with decimals."
   ]
  },
  {
   "cell_type": "code",
   "execution_count": 3,
   "id": "73ae7327",
   "metadata": {},
   "outputs": [
    {
     "data": {
      "text/plain": [
       "float"
      ]
     },
     "execution_count": 3,
     "metadata": {},
     "output_type": "execute_result"
    }
   ],
   "source": [
    "b = 3.14\n",
    "type(b)"
   ]
  },
  {
   "cell_type": "markdown",
   "id": "eade63d4",
   "metadata": {},
   "source": [
    "something to take into account is that any division (also between integers) gives us a float"
   ]
  },
  {
   "cell_type": "code",
   "execution_count": 4,
   "id": "6bf94ca6",
   "metadata": {},
   "outputs": [
    {
     "data": {
      "text/plain": [
       "float"
      ]
     },
     "execution_count": 4,
     "metadata": {},
     "output_type": "execute_result"
    }
   ],
   "source": [
    "type(10/2)"
   ]
  },
  {
   "cell_type": "markdown",
   "id": "5a3240e8",
   "metadata": {},
   "source": [
    "and to convert an `int` to `float`, or viceversa, we can use the functions `int()` or `float()`, respectively. *Important: If you use int() with a decimal number you get the floor function (e.g. 2.9 becomes 2)*"
   ]
  },
  {
   "cell_type": "code",
   "execution_count": 5,
   "id": "90a8c788",
   "metadata": {},
   "outputs": [
    {
     "data": {
      "text/plain": [
       "float"
      ]
     },
     "execution_count": 5,
     "metadata": {},
     "output_type": "execute_result"
    }
   ],
   "source": [
    "type(float(10))"
   ]
  },
  {
   "cell_type": "code",
   "execution_count": 6,
   "id": "4197add3",
   "metadata": {},
   "outputs": [
    {
     "data": {
      "text/plain": [
       "2"
      ]
     },
     "execution_count": 6,
     "metadata": {},
     "output_type": "execute_result"
    }
   ],
   "source": [
    "int(2.9)"
   ]
  },
  {
   "cell_type": "markdown",
   "id": "252b7664",
   "metadata": {},
   "source": [
    "**2.1.3. String `str`**: It's a...word, a character collection, even symbols or numbers. They are recognized by the apostrophes '"
   ]
  },
  {
   "cell_type": "code",
   "execution_count": 7,
   "id": "2f7a051d",
   "metadata": {},
   "outputs": [],
   "source": [
    "name = 'Luuuud'"
   ]
  },
  {
   "cell_type": "markdown",
   "id": "7a8e384f",
   "metadata": {},
   "source": [
    "again, we can convert a string to a float or viceversa using the respective functions"
   ]
  },
  {
   "cell_type": "code",
   "execution_count": 8,
   "id": "b1f736fb",
   "metadata": {},
   "outputs": [
    {
     "data": {
      "text/plain": [
       "'10.45'"
      ]
     },
     "execution_count": 8,
     "metadata": {},
     "output_type": "execute_result"
    }
   ],
   "source": [
    "str(10.45)"
   ]
  },
  {
   "cell_type": "code",
   "execution_count": 9,
   "id": "c408aaad",
   "metadata": {},
   "outputs": [
    {
     "data": {
      "text/plain": [
       "2.156"
      ]
     },
     "execution_count": 9,
     "metadata": {},
     "output_type": "execute_result"
    }
   ],
   "source": [
    "float('2.156')"
   ]
  },
  {
   "cell_type": "markdown",
   "id": "ec37d7d4",
   "metadata": {},
   "source": [
    "**2.1.4. Booleans `bool`**: This is a binary variable, it can take a value of True or False, and they are pretty useful for logical operators. We will see its uses with operators."
   ]
  },
  {
   "cell_type": "code",
   "execution_count": 13,
   "id": "28724f43",
   "metadata": {},
   "outputs": [
    {
     "data": {
      "text/plain": [
       "bool"
      ]
     },
     "execution_count": 13,
     "metadata": {},
     "output_type": "execute_result"
    }
   ],
   "source": [
    "a = True\n",
    "type(a)"
   ]
  },
  {
   "cell_type": "markdown",
   "id": "a6290c05",
   "metadata": {},
   "source": [
    "**2.1.4. Lists `list`**: Okay this is kind of different, it's also called an _structure_, a list is a _collection_, that is, it can have different types of variables inside of it. It's _ordered and mutable_.\n",
    "\n",
    "It's the most basic way of storing data, as example we can have the list of research assistants of the lab:"
   ]
  },
  {
   "cell_type": "code",
   "execution_count": 11,
   "id": "18b10515",
   "metadata": {},
   "outputs": [],
   "source": [
    "assistants = ['Lud', 'Belen', 'Wara', 'Alan', 'Gabriel']"
   ]
  },
  {
   "cell_type": "markdown",
   "id": "56622375",
   "metadata": {},
   "source": [
    "But it's not limited to it, we can have integers, floats, and even lists as elements of a list."
   ]
  },
  {
   "cell_type": "code",
   "execution_count": 12,
   "id": "a5dc61f2",
   "metadata": {},
   "outputs": [],
   "source": [
    "crazy_list = ['a string', 100, 13.5, ['oh no, another list', 6]]"
   ]
  },
  {
   "cell_type": "markdown",
   "id": "776fdcc6",
   "metadata": {},
   "source": [
    "For now we won't see much more of lists, wait until we reach indexing."
   ]
  },
  {
   "cell_type": "markdown",
   "id": "fa6d3806",
   "metadata": {},
   "source": [
    "### 2.2. Operations\n",
    "So, we can do things with this variables. Adition, substraction, multiplication and division can be easy (between integers and floats). Let's see some extra operations here:"
   ]
  },
  {
   "cell_type": "code",
   "execution_count": 17,
   "id": "de519191",
   "metadata": {},
   "outputs": [
    {
     "name": "stdout",
     "output_type": "stream",
     "text": [
      "The sum is 13\n",
      "The residual is 1\n"
     ]
    }
   ],
   "source": [
    "# Given three variables:\n",
    "a = 10\n",
    "b = 3\n",
    "c = 2\n",
    "\n",
    "# Sum (just as example)\n",
    "s = a + b\n",
    "print('The sum is', s)\n",
    "\n",
    "# Modulus (the residual of the division, example 10/3 is 3 with a r=1), uses % as symbol\n",
    "r = a%b\n",
    "print('The residual is', r)"
   ]
  },
  {
   "cell_type": "markdown",
   "id": "6e4f36ef",
   "metadata": {},
   "source": [
    "Now, we can do some things with strings, just as example if we want to concatenate two strings, we can add them up."
   ]
  },
  {
   "cell_type": "code",
   "execution_count": 18,
   "id": "354e8ee1",
   "metadata": {},
   "outputs": [
    {
     "data": {
      "text/plain": [
       "'AlbertEinstein'"
      ]
     },
     "execution_count": 18,
     "metadata": {},
     "output_type": "execute_result"
    }
   ],
   "source": [
    "name = 'Albert'\n",
    "surname = 'Einstein'\n",
    "\n",
    "fullname = name + surname\n",
    "fullname"
   ]
  },
  {
   "cell_type": "code",
   "execution_count": 19,
   "id": "963d74e0",
   "metadata": {},
   "outputs": [
    {
     "data": {
      "text/plain": [
       "'Albert Einstein'"
      ]
     },
     "execution_count": 19,
     "metadata": {},
     "output_type": "execute_result"
    }
   ],
   "source": [
    "# it's missing a whitespace between them, we can add it in the following cell\n",
    "fullname = name + ' ' + surname\n",
    "fullname"
   ]
  },
  {
   "cell_type": "markdown",
   "id": "09e0c58a",
   "metadata": {},
   "source": [
    "Now, we can compare two values and we will get a boolean as result, these operators are:\n",
    "- `==` (equal to)\n",
    "- `!=` (not equal to)\n",
    "- `<=` (less or equal than)\n",
    "- `>=` (greater or equal than)"
   ]
  },
  {
   "cell_type": "code",
   "execution_count": 20,
   "id": "d9963c00",
   "metadata": {},
   "outputs": [
    {
     "data": {
      "text/plain": [
       "True"
      ]
     },
     "execution_count": 20,
     "metadata": {},
     "output_type": "execute_result"
    }
   ],
   "source": [
    "a = 10\n",
    "b = 5\n",
    "c = 2\n",
    "\n",
    "a == (b*c)"
   ]
  },
  {
   "cell_type": "markdown",
   "id": "35b6189c",
   "metadata": {},
   "source": [
    "### 2.3. Conditionals and Loops\n",
    "### Conditionals\n",
    "We are getting better with this! Now we will learn some important structures, the conditionals and loops.\n",
    "\n",
    "A conditional, as its name says, is when we use a condition to do something. For example if my hear rate is higher than 160, the code must say that I have to rest."
   ]
  },
  {
   "cell_type": "code",
   "execution_count": 22,
   "id": "571219f9",
   "metadata": {},
   "outputs": [
    {
     "name": "stdout",
     "output_type": "stream",
     "text": [
      "Rest, please\n"
     ]
    }
   ],
   "source": [
    "heart_rate = 170 #try changing the value\n",
    "\n",
    "# now we apply the condition\n",
    "if heart_rate >= 160:\n",
    "    print('Rest, please')"
   ]
  },
  {
   "cell_type": "markdown",
   "id": "6faae502",
   "metadata": {},
   "source": [
    "Now, what is we want that, if our heart rate is less than 160, the code must say that we can keep running, we will use an `else`, that is (in Spanish _sino, haz esto_), for this the value simply should not comply the condition (so they should be mutually exclusive)."
   ]
  },
  {
   "cell_type": "code",
   "execution_count": 23,
   "id": "31f4ac7f",
   "metadata": {},
   "outputs": [
    {
     "name": "stdout",
     "output_type": "stream",
     "text": [
      "Keep running!\n"
     ]
    }
   ],
   "source": [
    "heart_rate = 150 #try changing the value\n",
    "\n",
    "# now we apply the condition\n",
    "if heart_rate >= 160:\n",
    "    print('Rest, please')\n",
    "else:\n",
    "    print('Keep running!')"
   ]
  },
  {
   "cell_type": "markdown",
   "id": "73d80780",
   "metadata": {},
   "source": [
    "Finally, if my heart rate is zero, the code have to ask if I'm okay (zero pulse is baaaad). So we need two conditions and the keep running that is when we don't comply any of those two conditions, for this we use an `elif`, which allows us to put another condition to the structure:"
   ]
  },
  {
   "cell_type": "code",
   "execution_count": 25,
   "id": "25ecf641",
   "metadata": {},
   "outputs": [
    {
     "name": "stdout",
     "output_type": "stream",
     "text": [
      "Are you ok?\n"
     ]
    }
   ],
   "source": [
    "heart_rate = 0 #try changing the value\n",
    "\n",
    "# now we apply the condition\n",
    "if heart_rate >= 160:\n",
    "    print('Rest, please')\n",
    "elif heart_rate == 0:\n",
    "    print('Are you ok?')\n",
    "else:\n",
    "    print('Keep running!')\n",
    "    \n",
    "## IMPORTANT: The ELSE should be always at the end!!! It's the last option!"
   ]
  },
  {
   "cell_type": "markdown",
   "id": "043e7141",
   "metadata": {},
   "source": [
    "Before doing and exercise, we can do some conditions that are a bit more complicated, for example, if we want to know whether a value is between two we can do:"
   ]
  },
  {
   "cell_type": "code",
   "execution_count": 27,
   "id": "09de7a2f",
   "metadata": {},
   "outputs": [
    {
     "data": {
      "text/plain": [
       "True"
      ]
     },
     "execution_count": 27,
     "metadata": {},
     "output_type": "execute_result"
    }
   ],
   "source": [
    "heart_rate = 100\n",
    "\n",
    "50 <= heart_rate <= 200 #this is the condition that should be in the if structure"
   ]
  },
  {
   "cell_type": "markdown",
   "id": "86719ab5",
   "metadata": {},
   "source": [
    "<b><font color=\"blue\" size=5>Exercise 1: You take my Breath Away (CO2)</font></b>\n",
    "\n",
    "According to the [Wisconsin Department of Health Sciences](https://www.dhs.wisconsin.gov/chemical/carbondioxide.htm#:~:text=400%20ppm%3A%20average%20outdoor%20air,stagnant%2C%20stale%2C%20stuffy%20air.), the levels of CO2 in a space and its effects on the health are the following:\n",
    "\n",
    "\n",
    "<div>\n",
    "<img src=\"figs/co2_ex.png\" width=\"800\"/>\n",
    "</div>\n",
    "\n",
    "\n",
    "Given a variable called `ppm`, create a code that shows alert messages for these levels, you don't have to put all the levels described above, put 3 conditions at maximum (and an else).\n"
   ]
  },
  {
   "cell_type": "code",
   "execution_count": 30,
   "id": "6d30f9d4",
   "metadata": {},
   "outputs": [],
   "source": [
    "# Solution\n",
    "ppm = 300 #example, replace this value for testing!\n",
    "\n",
    "\n",
    "# put your solution here\n",
    "\n",
    "\n",
    "\n"
   ]
  },
  {
   "cell_type": "markdown",
   "id": "efbd8b18",
   "metadata": {},
   "source": [
    "<details><summary><b><font color=\"blue\">Click here for the solution to Exercise 1</font></b></summary>\n",
    "\n",
    "```\n",
    "# For example I put the following conditions:\n",
    "    \n",
    "if 400 <= ppm <= 2000:\n",
    "    print('Check how are you feeling, take caution')\n",
    "elif 2000 < ppm <= 5000:\n",
    "    print(\"It would be a good idea to go out\")\n",
    "elif ppm > 40000:\n",
    "    print(\"RUN!\")\n",
    "else:\n",
    "    print(\"Levels of CO2 are...weird, is your device ok?\")\n",
    "```\n"
   ]
  },
  {
   "cell_type": "markdown",
   "id": "bb33f492",
   "metadata": {},
   "source": [
    "### LOOPS\n",
    "This part gets interesting, a computer can do calculations WAY faster than us, so we can give it 1000 operations and it will take some seconds (or less). \n",
    "\n",
    "Sometimes we want to repeat a process many times, for example, we want to test different ppms for the previous example, or we want for the code to run while a condition is met, and stop it otherwise.\n",
    "\n",
    "For this, python has two loops, which I'll describe in a very simple way:\n",
    "\n",
    "- `for`: It runs a definite number of times, we need a range or list where to iterate and we get an *iterator*.\n",
    "- `while`: Runs indefinitely with a condition, if the condition fails, it stops. **Be cautious with this**"
   ]
  },
  {
   "cell_type": "markdown",
   "id": "f67663dd",
   "metadata": {},
   "source": [
    "The `for` structure is pretty easy\n",
    "```\n",
    "for i in what_to_iterate:\n",
    "    do things\n",
    "```\n",
    "\n",
    "The `what_to_iterate` is something like a range (we can create a sequence of numbers using `range(start, stop+1, step)` (find a good [guide](https://www.geeksforgeeks.org/python-range-function/) here). For each loop of the code, the iterator adopts the value of the iterator in that step, for example, in the first iteration it will become the first one, then the second one, etc."
   ]
  },
  {
   "cell_type": "code",
   "execution_count": 33,
   "id": "789fdd96",
   "metadata": {},
   "outputs": [
    {
     "name": "stdout",
     "output_type": "stream",
     "text": [
      "1\n",
      "2\n",
      "3\n",
      "4\n",
      "5\n",
      "6\n",
      "7\n",
      "8\n",
      "9\n"
     ]
    }
   ],
   "source": [
    "for i in range(1,10):\n",
    "    print(i)\n",
    "    \n",
    "# we notice that we don't get the 10, it's because the upper limit is exclusive, so the range runs until 10-1=9"
   ]
  },
  {
   "cell_type": "markdown",
   "id": "bac03160",
   "metadata": {},
   "source": [
    "Something fantastic in python is that we can iterate over a list and the iterator becomes each element on the list, this is useful to calculate something for each element of the list:"
   ]
  },
  {
   "cell_type": "code",
   "execution_count": 35,
   "id": "5e37f9cc",
   "metadata": {},
   "outputs": [
    {
     "name": "stdout",
     "output_type": "stream",
     "text": [
      "Hola Juan\n",
      "Hola Maria\n",
      "Hola Pedro\n",
      "Hola Eustaquio\n"
     ]
    }
   ],
   "source": [
    "names = ['Juan', 'Maria', 'Pedro', 'Eustaquio']\n",
    "\n",
    "for name in names:\n",
    "    print('Hola', name) #name becomes each element of the list, then we print the greeting for each one"
   ]
  },
  {
   "cell_type": "markdown",
   "id": "d0379717",
   "metadata": {},
   "source": [
    "This can get useful, we can add a counter to know how many times we run the code, we start it as 0 before the loop and add 1 to the counter when the iteration starts over"
   ]
  },
  {
   "cell_type": "code",
   "execution_count": 36,
   "id": "0a1a4a7f",
   "metadata": {},
   "outputs": [
    {
     "name": "stdout",
     "output_type": "stream",
     "text": [
      "Hola Juan\n",
      "Hola Maria\n",
      "Hola Pedro\n",
      "Hola Eustaquio\n",
      "In total you greeted 4 people\n"
     ]
    }
   ],
   "source": [
    "names = ['Juan', 'Maria', 'Pedro', 'Eustaquio']\n",
    "\n",
    "n_names = 0 #number of names\n",
    "for name in names:\n",
    "    n_names = n_names + 1\n",
    "    print('Hola', name) #name becomes each element of the list, then we print the greeting for each one\n",
    "    \n",
    "print('In total you greeted', n_names, 'people')"
   ]
  },
  {
   "cell_type": "markdown",
   "id": "d760a858",
   "metadata": {},
   "source": [
    "<b><font color=\"blue\" size=5>Exercise 2: It's raining cats and dogs!</font></b>\n",
    "\n",
    "According to the [Glossary of the American Meteorological Society](https://glossary.ametsoc.org/wiki/Rain_day):\n",
    "\n",
    ">In British climatology, a period of 24 hours, normally commencing at 0900 UTC, in which at least 0.01 in. or 0.2 mm of precipitation is recorded.\n",
    "\n",
    "\n",
    "Given a list of recorded precipitations (in mm) for February of 2024 (we had a lot of rain), for each day print a message like \"Day 5 was wet\" or \"Day 6 was not wet\". \n",
    "\n",
    "Extra exercise: Count the number of wet days in the given month and/or the sum of all the precipitation in that month.\n",
    "\n",
    "_Note: Data is partially modified for academic purposes, the total sum is the same as the real data._"
   ]
  },
  {
   "cell_type": "code",
   "execution_count": 47,
   "id": "374f5c57",
   "metadata": {},
   "outputs": [],
   "source": [
    "#data for this exercise\n",
    "feb2024 = [0,0.1,0.2,0.1,21.2,0.8,24,6,55,0.4,0,1,0.1,0.2,11.2,0.6,36.4,0,0,12.6,0,4.4,0.1,0,4.6,1,0.8,0]\n",
    "\n",
    "# write your solution here\n",
    "\n",
    "\n",
    "\n"
   ]
  },
  {
   "cell_type": "markdown",
   "id": "bf82f996",
   "metadata": {},
   "source": [
    "**Solution will be written with the students if necessary**"
   ]
  },
  {
   "cell_type": "code",
   "execution_count": null,
   "id": "c8ba5e0b",
   "metadata": {},
   "outputs": [],
   "source": []
  },
  {
   "cell_type": "code",
   "execution_count": null,
   "id": "27e0c42c",
   "metadata": {},
   "outputs": [],
   "source": []
  },
  {
   "cell_type": "code",
   "execution_count": null,
   "id": "a255ca63",
   "metadata": {},
   "outputs": [],
   "source": []
  }
 ],
 "metadata": {
  "kernelspec": {
   "display_name": "Python 3 (ipykernel)",
   "language": "python",
   "name": "python3"
  },
  "language_info": {
   "codemirror_mode": {
    "name": "ipython",
    "version": 3
   },
   "file_extension": ".py",
   "mimetype": "text/x-python",
   "name": "python",
   "nbconvert_exporter": "python",
   "pygments_lexer": "ipython3",
   "version": "3.9.13"
  }
 },
 "nbformat": 4,
 "nbformat_minor": 5
}
