{
 "cells": [
  {
   "cell_type": "markdown",
   "id": "9dd7bcd3-2d6b-4f2a-be83-45f51a4cc6d1",
   "metadata": {},
   "source": [
    "# A Python short course on Atmospheric Data Analysis - Week 3\n",
    "\n",
    "This Python tutorial was written in June 2024 by Ludving Cano, Research Assistant at the [Laboratory for Atmospheric Physics](http://www.chacaltaya.edu.bo) - UMSA (lcano@chacaltaya.edu.bo). It shows how to handle time data and do basic plots on it.\n",
    "\n",
    "On **week 3** we will cover:\n",
    "\n",
    " - Datetime objects\n",
    "   - Formatting datetimes\n",
    " - Pandas functions for datetime\n",
    " - Simple time plots\n",
    " - Plotting multiple things together"
   ]
  },
  {
   "cell_type": "markdown",
   "id": "e8f6a7e2-f4d7-45f4-8e9b-4428dfffadd0",
   "metadata": {},
   "source": [
    "## 1. The `datetime` library\n",
    "Let's start with a library that's gonna be useful in general, the [datetime library](https://docs.python.org/3/library/datetime.html) consists on general functions and objects dedicated to handle...time?\n",
    "\n",
    "For example, when we declare a date, we have to put it in a string, so for the computer is a string like the others, it can't interpret its year, day, month, etc. "
   ]
  },
  {
   "cell_type": "code",
   "execution_count": null,
   "id": "11c1db18-72c5-4f16-910d-62510ded6f9f",
   "metadata": {},
   "outputs": [],
   "source": [
    "day0s = '2024/06/27'\n",
    "type(day0s) #its type is just an ordinary string"
   ]
  },
  {
   "cell_type": "markdown",
   "id": "d6c4fd08-0a19-453f-83f5-218ecbeabf99",
   "metadata": {},
   "source": [
    "If we want, for example, to add one day to this string, it's PAINFULLY hard, and it can bring some problems!\n",
    "\n",
    "Our saviour for today, the datetime library. Let's import it"
   ]
  },
  {
   "cell_type": "code",
   "execution_count": null,
   "id": "1921c2c4-c328-4ef1-be98-1d05339b6330",
   "metadata": {},
   "outputs": [],
   "source": [
    "import datetime as dt     #it's very common to import it with the dt alias"
   ]
  },
  {
   "cell_type": "markdown",
   "id": "288acc75-7403-4cfc-bd47-c3f313874b5e",
   "metadata": {},
   "source": [
    "### 1.1. Creating a dt.datetime object\n",
    "We have three objects to work on:\n",
    " 1. `date` consisting only on information of the date (not knowing the exact time)\n",
    " 2. `time` consisting only on the time (not knowing the date)\n",
    " 3. `datetime` consisting on both, date and time information.\n",
    " \n",
    "We'll work mainly on the last one, but feel free to explore the other two using the [documentation](https://docs.python.org/3/library/datetime.html).\n",
    "\n",
    "Okay, let's create a datetime object, it's important that this is different from the library's name (datetime too), so to create the object we use `dt.datetime`.\n",
    "\n",
    "First let's take a look on what to add to create a datetime object, for this:"
   ]
  },
  {
   "cell_type": "code",
   "execution_count": null,
   "id": "8fdabe2b-31c4-4316-87ff-9dc53cd1d727",
   "metadata": {},
   "outputs": [],
   "source": [
    "# help(dt.datetime) #uncomment it to use"
   ]
  },
  {
   "cell_type": "markdown",
   "id": "604b4349-dacf-4acd-96ad-97e655ad83c8",
   "metadata": {},
   "source": [
    "The basic way to know what to add to create the object is passing the year, month, day, hour, minutes and seconds. Time information is optional, it'll assume it's 00:00.\n",
    "\n",
    "For the sake of the example we will set the date and time for the start of this class."
   ]
  },
  {
   "cell_type": "code",
   "execution_count": null,
   "id": "4aa329fc-8bfe-4328-a27c-026b74c18e82",
   "metadata": {},
   "outputs": [],
   "source": [
    "day0 = dt.datetime(2024, 6, 27, 13, 30)\n",
    "day0"
   ]
  },
  {
   "cell_type": "markdown",
   "id": "85cdd999-3bab-402c-9d34-54a9131cef92",
   "metadata": {},
   "source": [
    "If we want to create a datetime object with the current date and time, we use:"
   ]
  },
  {
   "cell_type": "code",
   "execution_count": null,
   "id": "aa4ef136-6031-4a74-8be5-ca91c0c3023f",
   "metadata": {},
   "outputs": [],
   "source": [
    "dt.datetime.now()"
   ]
  },
  {
   "cell_type": "markdown",
   "id": "b79de363-89e4-406f-bc4a-bcee15fab0bd",
   "metadata": {},
   "source": [
    "### 1.2. Getting information from an existent datetime object\n",
    "\n",
    "We can get any information by simply calling the attributes:"
   ]
  },
  {
   "cell_type": "code",
   "execution_count": null,
   "id": "389570f2-cca0-42b6-bf9f-42514a512295",
   "metadata": {},
   "outputs": [],
   "source": [
    "day0.hour\n",
    "# try to change it for: year, month, day, minutes, seconds, etc."
   ]
  },
  {
   "cell_type": "markdown",
   "id": "07dfde4a-6b9f-4e31-9cdd-7322bc013f69",
   "metadata": {},
   "source": [
    "But also we can get a `time` and a `date` object."
   ]
  },
  {
   "cell_type": "code",
   "execution_count": null,
   "id": "63d25f63-de0b-4190-a8d9-7087dd58f65b",
   "metadata": {},
   "outputs": [],
   "source": [
    "day0.date()"
   ]
  },
  {
   "cell_type": "code",
   "execution_count": null,
   "id": "17e13079-f60e-44a7-883e-17c1a60be24a",
   "metadata": {},
   "outputs": [],
   "source": [
    "day0.time()"
   ]
  },
  {
   "cell_type": "markdown",
   "id": "d19bc5a7-193e-4bf4-841c-35352e28d564",
   "metadata": {},
   "source": [
    "### 1.3. Operations using datetime objects\n",
    "\n",
    "#### 1.3.1. Adding or substracting time\n",
    "\n",
    "What if we want to change the time to the end of the next class? Then we add time! (That's beautiful, it accounts even for leap years).\n",
    "\n",
    "For this we simply add an object called `dt.timedelta()` in which we put the change desired."
   ]
  },
  {
   "cell_type": "code",
   "execution_count": null,
   "id": "2b60faa5-43d5-456a-a7ad-d5c304f6d51c",
   "metadata": {},
   "outputs": [],
   "source": [
    "dayf = day0 + dt.timedelta(days = 7, hours = 3)\n",
    "dayf"
   ]
  },
  {
   "cell_type": "markdown",
   "id": "a45ceb5e-6055-43e8-925e-0d623b56f1b9",
   "metadata": {},
   "source": [
    "If you want to go back in time, you can substract the object timedelta OR pass negative arguments to `dt.timedelta()`.\n",
    "\n",
    "#### 1.3.1. Replacing parts of the object\n",
    "\n",
    "Oh no! I put the wrong month, what if we want to replace the month? We'll use `dt.replace()`."
   ]
  },
  {
   "cell_type": "code",
   "execution_count": null,
   "id": "c6702db0-2f93-4c0a-80d6-dadf653dbfaf",
   "metadata": {},
   "outputs": [],
   "source": [
    "daymod = day0.replace(month = 8)\n",
    "daymod"
   ]
  },
  {
   "cell_type": "markdown",
   "id": "c1f6319a-3ae0-4ee1-bdb9-9f67f73803ae",
   "metadata": {},
   "source": [
    "#### 1.3.2. Substracting datetime objects\n",
    "\n",
    "What if we want to know how many days have passed since something? For example, since Christmas? We can substract datetime objects and get a timedelta as result."
   ]
  },
  {
   "cell_type": "code",
   "execution_count": null,
   "id": "8b766f3d-55b9-4757-ab2f-0d24ffdd0726",
   "metadata": {},
   "outputs": [],
   "source": [
    "last_xmas = dt.datetime(2023, 12, 25)\n",
    "today = dt.datetime.now()\n",
    "\n",
    "dif = today - last_xmas\n",
    "dif"
   ]
  },
  {
   "cell_type": "markdown",
   "id": "28d6be6e-01d8-4911-b45f-88744a9674a0",
   "metadata": {},
   "source": [
    "Take into account that the resulting timedelta only have the attributes `days`, `seconds` and `microseconds`. "
   ]
  },
  {
   "cell_type": "markdown",
   "id": "49faa512-5c70-4da2-bbb0-9597b67245b5",
   "metadata": {},
   "source": [
    "<b><font color=\"green\" size=5>Exercise 1: Your real age</font></b>\n",
    "\n",
    "Create necessary datetimes and answer the following questions\n",
    "1. How long has passed since your last birthday?\n",
    "2. Calculate in how much will pass for your next bday\n"
   ]
  },
  {
   "cell_type": "code",
   "execution_count": null,
   "id": "d812c1c3-f2d1-4fd5-bd7d-4cdc70ea5239",
   "metadata": {},
   "outputs": [],
   "source": []
  },
  {
   "cell_type": "markdown",
   "id": "833e6f1f-ec29-4dd1-abd1-bd1f103b2165",
   "metadata": {},
   "source": [
    "#### 1.3.3. Comparing dates\n",
    "\n",
    "Just for info, we can compare two datetime objects and get to know if one happened before or after the other one. Using < and >:"
   ]
  },
  {
   "cell_type": "code",
   "execution_count": null,
   "id": "7295fe14-66e3-4f23-ba84-fb0627904d2b",
   "metadata": {},
   "outputs": [],
   "source": [
    "day0 < dayf"
   ]
  },
  {
   "cell_type": "markdown",
   "id": "ce107c01-d7ef-4222-b457-fdd4e3a0077b",
   "metadata": {},
   "source": [
    "#### 1.3.4. Sorting a list of datetimes\n",
    "When we can apply operators < or > to objects, we can sort a list that is made of them, for example I can compile some of the datetime objects we created before into a list and show it.\n"
   ]
  },
  {
   "cell_type": "code",
   "execution_count": null,
   "id": "f11c88ab-dd02-4827-8667-b300b1c6cfd8",
   "metadata": {},
   "outputs": [],
   "source": [
    "lst_datetimes = [daymod, day0, dayf]\n",
    "lst_datetimes"
   ]
  },
  {
   "cell_type": "markdown",
   "id": "fbfba7a3-c93b-4600-ba1f-075b29ded985",
   "metadata": {},
   "source": [
    "To sort it, we just do:\n"
   ]
  },
  {
   "cell_type": "code",
   "execution_count": null,
   "id": "5cd88ad6-cd0a-43ed-96a8-6fb36fd5955f",
   "metadata": {},
   "outputs": [],
   "source": [
    "sorted(lst_datetimes)"
   ]
  },
  {
   "cell_type": "markdown",
   "id": "18eb270f-3077-47e9-a94b-5425c6a5f771",
   "metadata": {
    "tags": []
   },
   "source": [
    "## 1.4. Formatting datetimes\n",
    "### 1.4.1. String to datetime\n",
    "Remember our first example? `day0s`"
   ]
  },
  {
   "cell_type": "code",
   "execution_count": null,
   "id": "8b1c806e-120f-4960-bb96-cc9de86f5ea5",
   "metadata": {},
   "outputs": [],
   "source": [
    "day0s"
   ]
  },
  {
   "cell_type": "markdown",
   "id": "a577408a-6dd5-4829-b596-3944bfcabe24",
   "metadata": {},
   "source": [
    "How can we convert that string to a datetime? For this the library has the `strptime()` function, which takes an arbitrary string and a format, with that the function parses the string and returns the desired object.\n",
    "\n",
    "For example, our day0s string has the format year/month/day. According to the [datetime formats in documentation](https://docs.python.org/3/library/datetime.html#format-codes) the format can be written as `%Y/%m/%d`. So we add this to the function:"
   ]
  },
  {
   "cell_type": "code",
   "execution_count": null,
   "id": "badda3d4-b04a-4a32-9db8-7a1804005172",
   "metadata": {},
   "outputs": [],
   "source": [
    "day0f = dt.datetime.strptime(day0s, '%Y/%m/%d')\n",
    "day0f"
   ]
  },
  {
   "cell_type": "markdown",
   "id": "e307d886-f512-4802-be08-e31c66c9e718",
   "metadata": {},
   "source": [
    "<b><font color=\"green\" size=4]>Exercise 2: Format a date</font></b>\n",
    "\n",
    "Convert the following string to a datetime object."
   ]
  },
  {
   "cell_type": "code",
   "execution_count": null,
   "id": "e0691380-abcc-42dd-a729-801c2eaa85d0",
   "metadata": {},
   "outputs": [],
   "source": [
    "test_str = '10-13-2024 10:00'"
   ]
  },
  {
   "cell_type": "code",
   "execution_count": null,
   "id": "1a2f09a4-081b-4a78-af55-ea700784ebf3",
   "metadata": {},
   "outputs": [],
   "source": []
  },
  {
   "cell_type": "markdown",
   "id": "f5b43e10-b589-4984-8556-20dc109971ce",
   "metadata": {
    "tags": []
   },
   "source": [
    "### 1.4.2. Datetime to string\n",
    "Well, sometimes we want to print a datetime with a certain format, it may be for writing in a simple way in a file, display it on screen or any other use.\n",
    "\n",
    "For this we pass a datetime object and the desired output format into the `dt.datetime.strftime()` function.\n",
    "For example I can print the `.now()` datetime in the format of the exercise 2:"
   ]
  },
  {
   "cell_type": "code",
   "execution_count": null,
   "id": "02b77c0c-268b-4edb-8460-2429a31b8558",
   "metadata": {},
   "outputs": [],
   "source": [
    "dt.datetime.strftime(dt.datetime.now(), '%m-%d-%Y %H:%M')"
   ]
  },
  {
   "cell_type": "markdown",
   "id": "6e4b1054-0e15-4d23-bad8-d51ce8bff887",
   "metadata": {},
   "source": [
    "## 2. Pandas functions for datetime\n",
    "\n",
    "### 2.1. Columns of datetime\n",
    "\n",
    "On the last session we observed that pandas doesn't infer automatically all the data, so, for example we can see that a column that clearly has dates is interpreted as object.\n",
    "\n",
    "We will use the IUV file from the last week: `data_samples/IUV_18_06.csv`"
   ]
  },
  {
   "cell_type": "code",
   "execution_count": null,
   "id": "72131272-b955-444b-91bf-075ac4950f39",
   "metadata": {},
   "outputs": [],
   "source": [
    "# let's not forget to import pandas!\n",
    "import pandas as pd"
   ]
  },
  {
   "cell_type": "code",
   "execution_count": null,
   "id": "fe875992-5278-4a34-ab3d-65e131ff3fd4",
   "metadata": {},
   "outputs": [],
   "source": [
    "df1 = pd.read_csv('data_samples/IUV_18_06.csv')\n",
    "df1.dtypes"
   ]
  },
  {
   "cell_type": "code",
   "execution_count": null,
   "id": "8c6f6bdd-af89-4e81-b265-7d2524dfd8e9",
   "metadata": {},
   "outputs": [],
   "source": [
    "type(df1.TIME[0])"
   ]
  },
  {
   "cell_type": "markdown",
   "id": "408332ee-7b16-4438-a29b-f3099fa50e54",
   "metadata": {},
   "source": [
    "To convert the TIME column to a datetime-like column, we use the `pd.to_datetime()` function, and passing the desired column as parameter. **NOTE: It will do its best to infer which format we are using, but sometimes you can pass the exact format just in case.**"
   ]
  },
  {
   "cell_type": "code",
   "execution_count": null,
   "id": "0e396bd8-269d-4de5-858d-5d659b3d271b",
   "metadata": {},
   "outputs": [],
   "source": [
    "pd.to_datetime(df1.TIME)"
   ]
  },
  {
   "cell_type": "markdown",
   "id": "f77409c4-2f5f-45ae-abe1-076c334d2967",
   "metadata": {},
   "source": [
    "To replace the column in our original dataframe, we can replace it as we did before:\n"
   ]
  },
  {
   "cell_type": "code",
   "execution_count": null,
   "id": "a0979945-08f6-405c-ac02-a8c7368fc9c0",
   "metadata": {},
   "outputs": [],
   "source": [
    "df1['TIME'] = pd.to_datetime(df1.TIME)\n",
    "df1.dtypes"
   ]
  },
  {
   "cell_type": "markdown",
   "id": "9946fb1b-c1cd-422c-8bfd-f323eeadd85e",
   "metadata": {},
   "source": [
    "### 2.2. Some functions of a datetimelike column\n",
    "Sometimes we would need to get something related to a datetime object, like getting the hour, as we are having a series, we would need to get the value for each row, this can be done (manually) like:"
   ]
  },
  {
   "cell_type": "code",
   "execution_count": null,
   "id": "6bea14f0-b8e1-48b8-b833-c7401c0604af",
   "metadata": {},
   "outputs": [],
   "source": [
    "### NOT RECOMMENDED\n",
    "pd.Series([i.hour for i in df1.TIME])"
   ]
  },
  {
   "cell_type": "markdown",
   "id": "e0551011-75ea-42ae-b953-8d8ca883cf3c",
   "metadata": {},
   "source": [
    "But it can be easier using the `Series.dt` functions, that allow us to get data for the column itself."
   ]
  },
  {
   "cell_type": "code",
   "execution_count": null,
   "id": "c02aafdb-a877-4164-8608-0fe2081cfb1d",
   "metadata": {},
   "outputs": [],
   "source": [
    "## this is the recommended way!\n",
    "df1.TIME.dt.hour"
   ]
  },
  {
   "cell_type": "markdown",
   "id": "d60495a5-e212-4064-a05d-f1080f82bb68",
   "metadata": {},
   "source": [
    "### 2.3. An example for different columns\n",
    "Let's use for example the DECADE file we worked last week, it has a column for year, month and day, so to get a column datetime we will do the following:"
   ]
  },
  {
   "cell_type": "code",
   "execution_count": null,
   "id": "5d358324-cf8a-4bef-b321-30799e900c80",
   "metadata": {},
   "outputs": [],
   "source": [
    "## This example will be worked with the instructor, solutions below\n",
    "\n"
   ]
  },
  {
   "cell_type": "markdown",
   "id": "f429b09d-13d7-47db-be9b-9c912048cbd6",
   "metadata": {},
   "source": [
    "<details><summary><b><font color=\"black\">If the instructor is not available click here</font></b></summary>\n",
    "\n",
    "```\n",
    "df_dec = pd.read_csv('data_samples/EL_ALTO_AEROPUERTO_simple.dat',\n",
    "                delim_whitespace=True, skiprows = 12)\n",
    "df_dec = df_dec[['Year','Mo','Da','Param=1']]\n",
    "df_dec.columns = ['Year','Month', 'Day', 'PRCP']\n",
    "df_dec['datetime'] = pd.to_datetime(df_dec[['Year','Month','Day']])\n",
    "```\n"
   ]
  },
  {
   "cell_type": "markdown",
   "id": "f49fb616-d135-4730-8631-6faac48b75ad",
   "metadata": {},
   "source": [
    "## (Little parenthesis): Reading a Davis AWS file\n",
    "The Davis Automatic Weather Station was located at an experimental site last year, this file is a bit complicated, as the header consist of two rows of headers!\n",
    "\n",
    "The file is located at `data_samples/FabricaForno_Davis_WS.txt`."
   ]
  },
  {
   "cell_type": "code",
   "execution_count": null,
   "id": "a2760659-f4a6-4853-96c4-42758706bd08",
   "metadata": {},
   "outputs": [],
   "source": [
    "davis = pd.read_csv('data_samples/FabricaForno_Davis_WS.txt', skiprows=2, sep = '\\t', header = None)\n",
    "\n",
    "#recreating the header\n",
    "hd1, hd2 = [i.split('\\t') for i in open('data_samples/FabricaForno_Davis_WS.txt').readlines()[:2]]\n",
    "hdd = [(i+' '+j).strip() for i, j in zip(hd1, hd2)]\n",
    "\n",
    "davis.columns = hdd\n",
    "davis"
   ]
  },
  {
   "cell_type": "markdown",
   "id": "2083f764-3ff9-46af-96b8-a94e30769720",
   "metadata": {},
   "source": [
    "Now we want to create a datetime column using the first two columns Date and Time, to do this we will "
   ]
  },
  {
   "cell_type": "code",
   "execution_count": null,
   "id": "7465682a-db20-4de7-915c-1298359192f8",
   "metadata": {},
   "outputs": [],
   "source": [
    "davis['datetime'] = pd.to_datetime(davis.Date + ' ' + davis.Time)\n",
    "davis.drop(['Date', 'Time'], axis = 1)"
   ]
  },
  {
   "cell_type": "markdown",
   "id": "17178f68-d5a9-4b59-a655-7cd6ba7fd439",
   "metadata": {},
   "source": [
    "## 3. Plotting time series  \n",
    "(If you are not following the class, go to the slides related to this week)\n",
    "\n",
    "As said in the theory, we have different kinds of plots, each one can represent one, two, or more variables, some of them are useful for a certain thing.\n",
    "\n",
    "For most of our plotting we will use the library `matplotlib`"
   ]
  },
  {
   "cell_type": "code",
   "execution_count": null,
   "id": "03247da8-1821-4976-a3ef-2aa997b8668f",
   "metadata": {},
   "outputs": [],
   "source": [
    "import matplotlib.pyplot as plt\n",
    "import matplotlib.dates as mdates #this is gonna be useful later"
   ]
  },
  {
   "cell_type": "markdown",
   "id": "35d99d80-e19a-43a5-a2c9-938fea4ce2ff",
   "metadata": {},
   "source": [
    "### 3.1. Distributions (histograms)\n",
    "\n",
    "Distributions are a way to see how a data (one variable) is distributed, that is, how many of its values lie in a certain range. Please do not think that are the same as barplots, that we can work if we have the time.\n",
    "\n",
    "A distribution is best seen with a **histogram**, and to create a simple one we can call `plt` and pass our series, in this case the Ultraviolet Index Value (IUV) column of `df1`."
   ]
  },
  {
   "cell_type": "code",
   "execution_count": null,
   "id": "4fc47187-850e-4181-841f-8c0d42557eb5",
   "metadata": {},
   "outputs": [],
   "source": [
    "plt.hist(df1.IUV)"
   ]
  },
  {
   "cell_type": "markdown",
   "id": "2ad5271f-5ce8-4165-aea1-57595e367b26",
   "metadata": {},
   "source": [
    "Note some things, in the x-axis we get our data distributed in 10 bars (called bins), in the y-axis we have the quantity of values that lie in that range.\n",
    "\n",
    "For the sake of the experiment we can change the number of bins, also we can set our x and y labels using the following commands:"
   ]
  },
  {
   "cell_type": "code",
   "execution_count": null,
   "id": "0165a625-c5b6-4baa-be7e-3c16b638e5e3",
   "metadata": {},
   "outputs": [],
   "source": [
    "plt.hist(df1.IUV, bins = 20)\n",
    "plt.xlabel('IUV')\n",
    "plt.ylabel('Frequency')"
   ]
  },
  {
   "cell_type": "markdown",
   "id": "762f598f-a22b-463a-aa43-d68c99e16bc2",
   "metadata": {},
   "source": [
    "Histograms can be complicated as one wants, you are invited to read its [official documentation.](https://matplotlib.org/stable/api/_as_gen/matplotlib.pyplot.hist.html)"
   ]
  },
  {
   "cell_type": "markdown",
   "id": "74b76657-675c-49b2-a3fa-7324e7f4e382",
   "metadata": {},
   "source": [
    "### 3.2. Plotting time series: Scatter vs Line Plot\n",
    "\n",
    "So, here's the dilemma, when is it better to show a line that crosses the points? when do we only need the points? or when do we need only a line? \n",
    "\n",
    "The answer is... yes\n",
    "\n",
    "It's hard since it depends, what do you want to show: A correlation between two axis? a scatter! But the fitted line? a line plot!\n",
    "\n",
    "Let's put an example on the table, I'll show a scatter and a Line Plot for IUV.\n",
    "\n",
    "Both of our options take two important parameters: x and y, they **have** to have the same lenght."
   ]
  },
  {
   "cell_type": "code",
   "execution_count": null,
   "id": "eb03bcdd-3cfe-4d5c-a4d8-8f6e4e99291c",
   "metadata": {},
   "outputs": [],
   "source": [
    "plt.plot(df1.TIME, df1.IUV)"
   ]
  },
  {
   "cell_type": "markdown",
   "id": "f708d8a5-680d-41a8-a2a2-3f79f8a699e9",
   "metadata": {},
   "source": [
    "Something is.. weird, to configure the way the date is showed we can use the following commands:"
   ]
  },
  {
   "cell_type": "code",
   "execution_count": null,
   "id": "0c753df9-cad0-4713-a045-b73e6b496794",
   "metadata": {},
   "outputs": [],
   "source": [
    "plt.plot(df1.TIME, df1.IUV)\n",
    "plt.gca().xaxis.set_major_formatter(mdates.DateFormatter('%H:%M'))"
   ]
  },
  {
   "cell_type": "code",
   "execution_count": null,
   "id": "8d0782e4-47c1-414b-9ebe-9f33dd90e80e",
   "metadata": {},
   "outputs": [],
   "source": []
  },
  {
   "cell_type": "code",
   "execution_count": null,
   "id": "5dbeb271-38b8-4ab6-996d-a0224114655d",
   "metadata": {},
   "outputs": [],
   "source": [
    "plt.scatter(df1.TIME, df1.IUV)"
   ]
  },
  {
   "cell_type": "code",
   "execution_count": null,
   "id": "becd1f85-8831-4936-bc3d-d0c7a891d8d0",
   "metadata": {},
   "outputs": [],
   "source": []
  }
 ],
 "metadata": {
  "kernelspec": {
   "display_name": "Python 3 (ipykernel)",
   "language": "python",
   "name": "python3"
  },
  "language_info": {
   "codemirror_mode": {
    "name": "ipython",
    "version": 3
   },
   "file_extension": ".py",
   "mimetype": "text/x-python",
   "name": "python",
   "nbconvert_exporter": "python",
   "pygments_lexer": "ipython3",
   "version": "3.10.9"
  }
 },
 "nbformat": 4,
 "nbformat_minor": 5
}
